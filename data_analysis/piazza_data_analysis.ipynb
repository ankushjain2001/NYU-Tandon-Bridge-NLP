{
 "cells": [
  {
   "cell_type": "markdown",
   "metadata": {},
   "source": [
    "NOTE: The python script https://github.com/ankushjain2001/NYU-Tandon-Bridge-NLP/blob/main/data_pipelines/piazza_data_splitter_pipeline.py is created from this notebook. It just contains the preprocessing part and not the data analysis. "
   ]
  },
  {
   "cell_type": "code",
   "execution_count": 1,
   "metadata": {},
   "outputs": [],
   "source": [
    "import json\n",
    "import numpy as np\n",
    "import pandas as pd"
   ]
  },
  {
   "cell_type": "code",
   "execution_count": 2,
   "metadata": {},
   "outputs": [],
   "source": [
    "# Extracts followups from the post data \n",
    "def extract_followup_post(fu, level, post_id, tags, instr_candidate):\n",
    "    fu_doc = {}\n",
    "    try:\n",
    "        fu_doc['post_id'] = post_id\n",
    "    except:\n",
    "        pass\n",
    "    try:\n",
    "        fu_doc['followup_id'] = fu['id']\n",
    "    except:\n",
    "        pass\n",
    "    try:\n",
    "        fu_doc['followup_level'] = level\n",
    "    except:\n",
    "        pass\n",
    "    try:\n",
    "        fu_doc['anon'] = fu['anon']\n",
    "    except:\n",
    "        try:\n",
    "            fu_doc['anon'] = fu['history'][0]['anon']\n",
    "        except:\n",
    "            pass\n",
    "    try:\n",
    "        fu_doc['subject'] = fu['subject']\n",
    "    except:\n",
    "        try:\n",
    "            fu_doc['subject'] = fu['history'][0]['subject']\n",
    "        except:\n",
    "            pass\n",
    "    try:\n",
    "        fu_doc['content'] = fu['content']\n",
    "    except:\n",
    "        try:\n",
    "            fu_doc['content'] = fu['history'][0]['content']\n",
    "        except:\n",
    "            pass\n",
    "    try:\n",
    "        fu_doc['data'] = fu['data']\n",
    "    except:\n",
    "        pass\n",
    "    try:\n",
    "        fu_doc['created'] = fu['created']\n",
    "    except:\n",
    "        pass\n",
    "    try:\n",
    "        fu_doc['type'] = fu['type']\n",
    "    except:\n",
    "        pass\n",
    "    try:\n",
    "        fu_doc['uid'] = fu['uid']\n",
    "    except:\n",
    "        try:\n",
    "            fu_doc['uid'] = fu['history'][0]['uid']\n",
    "        except:\n",
    "            pass\n",
    "    try:\n",
    "        if 'instructor-note' in tags:\n",
    "            if fu['uid'] == instr_candidate: \n",
    "                fu_doc['is_instructor'] = True\n",
    "            else:\n",
    "                fu_doc['is_instructor'] = False    \n",
    "        else:\n",
    "            fu_doc['is_instructor'] = False\n",
    "    except:\n",
    "        pass\n",
    "    return fu_doc\n",
    "\n",
    "\n"
   ]
  },
  {
   "cell_type": "code",
   "execution_count": 3,
   "metadata": {},
   "outputs": [],
   "source": [
    "# Load JSON\n",
    "with open('piazza_bridge_s20_24_raw_data.json', 'r') as f:\n",
    "    data = json.load(f)"
   ]
  },
  {
   "cell_type": "code",
   "execution_count": 4,
   "metadata": {},
   "outputs": [],
   "source": [
    "# Extract the information about \n",
    "data_creator = []\n",
    "data_posts = []\n",
    "data_followups = []\n",
    "\n",
    "for i in data:\n",
    "    # Extract user who created the post\n",
    "    for j in i['change_log']:\n",
    "        if j['type'] == 'create':\n",
    "            data_creator.append(j)\n",
    "        \n",
    "        \n",
    "    # Extract post data\n",
    "    data_posts.append(i['history'][0])\n",
    "    data_posts[-1]['post_id'] = i['id']\n",
    "\n",
    "    # Flag the creator as instructor if \"instructor-note\" tag is present\n",
    "    if 'instructor-note' in i['tags']:\n",
    "        data_creator[-1]['is_instructor'] = True\n",
    "        data_posts[-1]['is_instructor'] = True\n",
    "    else:\n",
    "        data_creator[-1]['is_instructor'] = False\n",
    "        data_posts[-1]['is_instructor'] = False\n",
    "    \n",
    "    # Extract followup data\n",
    "    # if i['status'] != 'private':\n",
    "    # Followup level 1\n",
    "    for fu1 in i['children']:\n",
    "        fu1_doc = extract_followup_post(fu1, 1, i['id'], i['tags'], i['history'][0]['uid'])\n",
    "        if 'content' in fu1_doc or 'subject' in fu1_doc:\n",
    "            data_followups.append(fu1_doc)\n",
    "        # Followup level 2 (replies to followup)\n",
    "        for fu2 in fu1['children']:\n",
    "            fu2_doc = extract_followup_post(fu2, 2, i['id'], i['tags'], i['history'][0]['uid'])\n",
    "            if 'content' in fu2_doc or 'subject' in fu2_doc:\n",
    "                data_followups.append(fu2_doc)\n",
    "            \n",
    "            # Redundant level - no data found at this level in any post\n",
    "            # for fu3 in fu2['children']:\n",
    "            #     fu3_doc = extract_followup_post(fu3, 3, i['id'])\n",
    "            #     if 'content' in fu3_doc or 'subject' in fu3_doc:\n",
    "            #         data_followups.append(fu3_doc)"
   ]
  },
  {
   "cell_type": "code",
   "execution_count": 5,
   "metadata": {},
   "outputs": [],
   "source": [
    "# Convert to dataframe\n",
    "df_creator = pd.DataFrame(data_creator)\n",
    "df_posts = pd.DataFrame(data_posts)\n",
    "df_followups = pd.DataFrame(data_followups)\n",
    "\n",
    "df_posts.to_csv('piazza_posts_data.csv')\n",
    "df_followups.to_csv('piazza_followups_data.csv')\n",
    "\n",
    "\n",
    "df_all_participation = pd.concat([df_posts[['uid', 'anon', 'is_instructor']], df_followups[['uid', 'anon', 'is_instructor']]])\n",
    "df_all_participation.reset_index(inplace=True)\n"
   ]
  },
  {
   "cell_type": "markdown",
   "metadata": {},
   "source": [
    "### POST CREATOR STATS"
   ]
  },
  {
   "cell_type": "code",
   "execution_count": 6,
   "metadata": {},
   "outputs": [
    {
     "name": "stdout",
     "output_type": "stream",
     "text": [
      "740\n"
     ]
    },
    {
     "data": {
      "image/png": "[encoded data removed]",
      "text/plain": [
       "<Figure size 432x288 with 1 Axes>"
      ]
     },
     "metadata": {
      "needs_background": "light"
     },
     "output_type": "display_data"
    }
   ],
   "source": [
    "\n",
    "statA_1_global_post_creator_count = df_creator['uid'].value_counts()\n",
    "statA_1_global_post_creator_count.plot(kind='bar', \n",
    "                                      xticks=[],\n",
    "                                      xlabel='All Users',\n",
    "                                      ylabel='Post Counts')\n",
    "print(statA_1_global_post_creator_count.sum())\n"
   ]
  },
  {
   "cell_type": "code",
   "execution_count": 7,
   "metadata": {},
   "outputs": [
    {
     "name": "stdout",
     "output_type": "stream",
     "text": [
      "72\n"
     ]
    }
   ],
   "source": [
    "\n",
    "statA_2_instructor_post_creator_count = df_creator[df_creator['is_instructor'] == True]['uid'].value_counts()\n",
    "print(statA_2_instructor_post_creator_count.sum())\n",
    "\n"
   ]
  },
  {
   "cell_type": "code",
   "execution_count": 8,
   "metadata": {},
   "outputs": [
    {
     "name": "stdout",
     "output_type": "stream",
     "text": [
      "668\n"
     ]
    },
    {
     "data": {
      "image/png": "[encoded data removed]",
      "text/plain": [
       "<Figure size 432x288 with 1 Axes>"
      ]
     },
     "metadata": {
      "needs_background": "light"
     },
     "output_type": "display_data"
    }
   ],
   "source": [
    "statA_3_student_post_creator_count = df_creator[df_creator['is_instructor'] == False]['uid'].value_counts()\n",
    "statA_3_student_post_creator_count.plot(kind='bar', \n",
    "                                      xticks=[],\n",
    "                                      xlabel='Student Users',\n",
    "                                      ylabel='Post Counts')\n",
    "print(statA_3_student_post_creator_count.sum())\n",
    "\n"
   ]
  },
  {
   "cell_type": "code",
   "execution_count": 9,
   "metadata": {},
   "outputs": [
    {
     "name": "stderr",
     "output_type": "stream",
     "text": [
      "C:\\ProgramData\\Anaconda3\\lib\\site-packages\\ipykernel_launcher.py:1: UserWarning: Boolean Series key will be reindexed to match DataFrame index.\n",
      "  \"\"\"Entry point for launching an IPython kernel.\n"
     ]
    },
    {
     "name": "stdout",
     "output_type": "stream",
     "text": [
      "525\n"
     ]
    },
    {
     "data": {
      "image/png": "[encoded data removed]",
      "text/plain": [
       "<Figure size 432x288 with 1 Axes>"
      ]
     },
     "metadata": {
      "needs_background": "light"
     },
     "output_type": "display_data"
    }
   ],
   "source": [
    "statA_4_non_anon_student_post_creator_count = df_creator[df_creator['is_instructor'] == False ][df_creator['anon'] == 'no']['uid'].value_counts()\n",
    "statA_4_non_anon_student_post_creator_count.plot(kind='bar', \n",
    "                                      xticks=[],\n",
    "                                      xlabel='Non Anon Student Users',\n",
    "                                      ylabel='Post Counts')\n",
    "print(statA_4_non_anon_student_post_creator_count.sum())\n",
    "\n"
   ]
  },
  {
   "cell_type": "code",
   "execution_count": 10,
   "metadata": {},
   "outputs": [
    {
     "name": "stdout",
     "output_type": "stream",
     "text": [
      "143\n"
     ]
    },
    {
     "name": "stderr",
     "output_type": "stream",
     "text": [
      "C:\\ProgramData\\Anaconda3\\lib\\site-packages\\ipykernel_launcher.py:1: UserWarning: Boolean Series key will be reindexed to match DataFrame index.\n",
      "  \"\"\"Entry point for launching an IPython kernel.\n"
     ]
    },
    {
     "data": {
      "image/png": "[encoded data removed]",
      "text/plain": [
       "<Figure size 432x288 with 1 Axes>"
      ]
     },
     "metadata": {
      "needs_background": "light"
     },
     "output_type": "display_data"
    }
   ],
   "source": [
    "statA_5_anon_student_post_creator_count = df_creator[df_creator['is_instructor'] == False ][df_creator['anon'] == 'stud']['uid'].value_counts()\n",
    "statA_5_anon_student_post_creator_count.plot(kind='bar', \n",
    "                                      xticks=[],\n",
    "                                      xlabel='Anon Student Users',\n",
    "                                      ylabel='Post Counts')\n",
    "print(statA_5_anon_student_post_creator_count.sum())"
   ]
  },
  {
   "cell_type": "markdown",
   "metadata": {},
   "source": [
    "### ALL PARTICIPATIONS STATS"
   ]
  },
  {
   "cell_type": "code",
   "execution_count": 12,
   "metadata": {},
   "outputs": [
    {
     "name": "stdout",
     "output_type": "stream",
     "text": [
      "2547\n"
     ]
    },
    {
     "data": {
      "image/png": "[encoded data removed]",
      "text/plain": [
       "<Figure size 432x288 with 1 Axes>"
      ]
     },
     "metadata": {
      "needs_background": "light"
     },
     "output_type": "display_data"
    }
   ],
   "source": [
    "statB_1_global_post_creator_count = df_all_participation['uid'].value_counts()\n",
    "statB_1_global_post_creator_count.plot(kind='bar', \n",
    "                                      xticks=[],\n",
    "                                      xlabel='All Users',\n",
    "                                      ylabel='Participation Counts')\n",
    "print(statB_1_global_post_creator_count.sum())\n",
    "\n"
   ]
  },
  {
   "cell_type": "code",
   "execution_count": 13,
   "metadata": {},
   "outputs": [
    {
     "name": "stdout",
     "output_type": "stream",
     "text": [
      "132\n"
     ]
    }
   ],
   "source": [
    "statB_2_instructor_post_creator_count = df_all_participation[df_all_participation['is_instructor'] == True]['uid'].value_counts()\n",
    "print(statB_2_instructor_post_creator_count.sum())\n",
    "\n",
    "\n",
    "\n",
    "\n",
    "\n"
   ]
  },
  {
   "cell_type": "code",
   "execution_count": 14,
   "metadata": {},
   "outputs": [
    {
     "name": "stdout",
     "output_type": "stream",
     "text": [
      "2415\n"
     ]
    },
    {
     "data": {
      "image/png": "[encoded data removed]",
      "text/plain": [
       "<Figure size 432x288 with 1 Axes>"
      ]
     },
     "metadata": {
      "needs_background": "light"
     },
     "output_type": "display_data"
    }
   ],
   "source": [
    "statB_3_student_post_creator_count = df_all_participation[df_all_participation['is_instructor'] == False]['uid'].value_counts()\n",
    "statB_3_student_post_creator_count.plot(kind='bar', \n",
    "                                      xticks=[],\n",
    "                                      xlabel='Student Users',\n",
    "                                      ylabel='Participation Counts')\n",
    "print(statB_3_student_post_creator_count.sum())"
   ]
  },
  {
   "cell_type": "code",
   "execution_count": 15,
   "metadata": {},
   "outputs": [
    {
     "name": "stderr",
     "output_type": "stream",
     "text": [
      "C:\\ProgramData\\Anaconda3\\lib\\site-packages\\ipykernel_launcher.py:1: UserWarning: Boolean Series key will be reindexed to match DataFrame index.\n",
      "  \"\"\"Entry point for launching an IPython kernel.\n"
     ]
    },
    {
     "name": "stdout",
     "output_type": "stream",
     "text": [
      "2189\n"
     ]
    },
    {
     "data": {
      "image/png": "[encoded data removed]",
      "text/plain": [
       "<Figure size 432x288 with 1 Axes>"
      ]
     },
     "metadata": {
      "needs_background": "light"
     },
     "output_type": "display_data"
    }
   ],
   "source": [
    "statB_4_non_anon_student_post_creator_count = df_all_participation[df_all_participation['is_instructor'] == False ][df_all_participation['anon'] == 'no']['uid'].value_counts()\n",
    "statB_4_non_anon_student_post_creator_count.plot(kind='bar', \n",
    "                                      xticks=[],\n",
    "                                      xlabel='Non Anon Student Users',\n",
    "                                      ylabel='Participation Counts')\n",
    "print(statB_4_non_anon_student_post_creator_count.sum())"
   ]
  },
  {
   "cell_type": "code",
   "execution_count": 16,
   "metadata": {},
   "outputs": [
    {
     "name": "stdout",
     "output_type": "stream",
     "text": [
      "226\n"
     ]
    },
    {
     "name": "stderr",
     "output_type": "stream",
     "text": [
      "C:\\ProgramData\\Anaconda3\\lib\\site-packages\\ipykernel_launcher.py:1: UserWarning: Boolean Series key will be reindexed to match DataFrame index.\n",
      "  \"\"\"Entry point for launching an IPython kernel.\n"
     ]
    },
    {
     "data": {
      "image/png": "[encoded data removed]",
      "text/plain": [
       "<Figure size 432x288 with 1 Axes>"
      ]
     },
     "metadata": {
      "needs_background": "light"
     },
     "output_type": "display_data"
    }
   ],
   "source": [
    "statB_5_anon_student_post_creator_count = df_all_participation[df_all_participation['is_instructor'] == False ][df_all_participation['anon'] == 'stud']['uid'].value_counts()\n",
    "statB_5_anon_student_post_creator_count.plot(kind='bar', \n",
    "                                      xticks=[],\n",
    "                                      xlabel='Anon Student Users',\n",
    "                                      ylabel='Participation Counts')\n",
    "print(statB_5_anon_student_post_creator_count.sum())"
   ]
  },
  {
   "cell_type": "markdown",
   "metadata": {},
   "source": [
    "### POST LENGTHS"
   ]
  },
  {
   "cell_type": "code",
   "execution_count": 17,
   "metadata": {},
   "outputs": [],
   "source": [
    "df_posts['unique_id'] = df_posts['post_id']\n",
    "df_followups['unique_id'] = df_followups['followup_id']\n",
    "\n",
    "df_posts['length_subj'] = df_posts['subject'].apply(lambda x: len(x))\n",
    "df_posts['length_cont'] = df_posts['content'].apply(lambda x: len(x))\n",
    "df_posts['length'] = df_posts['length_subj'] + df_posts['length_cont']\n",
    "\n",
    "\n",
    "df_followups['length_subj'] = df_followups['subject'].apply(lambda x: len(x))\n",
    "df_followups['length_cont'] = df_followups['content'].apply(lambda x: 0 if type(x)!=str else len(x))\n",
    "df_followups['length'] = df_followups['length_subj'] + df_followups['length_cont']"
   ]
  },
  {
   "cell_type": "code",
   "execution_count": 18,
   "metadata": {},
   "outputs": [
    {
     "data": {
      "text/plain": [
       "<AxesSubplot:xlabel='All Users', ylabel='Post Length'>"
      ]
     },
     "execution_count": 18,
     "metadata": {},
     "output_type": "execute_result"
    },
    {
     "data": {
      "image/png": "[encoded data removed]",
      "text/plain": [
       "<Figure size 432x288 with 1 Axes>"
      ]
     },
     "metadata": {
      "needs_background": "light"
     },
     "output_type": "display_data"
    }
   ],
   "source": [
    "statC_1_global_post_length = df_posts['length']\n",
    "statC_1_global_post_length = statC_1_global_post_length.sort_values(ascending=False)\n",
    "statC_1_global_post_length = statC_1_global_post_length.reset_index(drop=True)\n",
    "statC_1_global_post_length.describe()\n",
    "statC_1_global_post_length.plot(\n",
    "                                      xlabel='All Users',\n",
    "                                      ylabel='Post Length',\n",
    "                                      ylim=[0, 6000])"
   ]
  },
  {
   "cell_type": "code",
   "execution_count": 19,
   "metadata": {},
   "outputs": [
    {
     "data": {
      "text/plain": [
       "count       72.000000\n",
       "mean      1149.916667\n",
       "std       3839.874971\n",
       "min         45.000000\n",
       "25%        188.500000\n",
       "50%        370.000000\n",
       "75%        672.000000\n",
       "max      31679.000000\n",
       "Name: length, dtype: float64"
      ]
     },
     "execution_count": 19,
     "metadata": {},
     "output_type": "execute_result"
    }
   ],
   "source": [
    "statC_2_instructor_post_length = df_posts[df_posts['is_instructor'] == True]['length']\n",
    "statC_2_instructor_post_length = statC_2_instructor_post_length.sort_values(ascending=False)\n",
    "statC_2_instructor_post_length.describe()"
   ]
  },
  {
   "cell_type": "code",
   "execution_count": 20,
   "metadata": {},
   "outputs": [
    {
     "data": {
      "text/plain": [
       "<AxesSubplot:xlabel='Students', ylabel='Post Length'>"
      ]
     },
     "execution_count": 20,
     "metadata": {},
     "output_type": "execute_result"
    },
    {
     "data": {
      "image/png": "[encoded data removed]",
      "text/plain": [
       "<Figure size 432x288 with 1 Axes>"
      ]
     },
     "metadata": {
      "needs_background": "light"
     },
     "output_type": "display_data"
    }
   ],
   "source": [
    "statC_3_student_post_length = df_posts[df_posts['is_instructor'] == False]['length']\n",
    "statC_3_student_post_length = statC_3_student_post_length.sort_values(ascending=False)\n",
    "statC_3_student_post_length = statC_3_student_post_length.reset_index(drop=True)\n",
    "statC_3_student_post_length.describe()\n",
    "statC_3_student_post_length.plot(xlabel='Students',\n",
    "                                      ylabel='Post Length',\n",
    "                                      ylim=[0, 6000])"
   ]
  },
  {
   "cell_type": "code",
   "execution_count": 21,
   "metadata": {},
   "outputs": [
    {
     "name": "stderr",
     "output_type": "stream",
     "text": [
      "C:\\ProgramData\\Anaconda3\\lib\\site-packages\\ipykernel_launcher.py:1: UserWarning: Boolean Series key will be reindexed to match DataFrame index.\n",
      "  \"\"\"Entry point for launching an IPython kernel.\n"
     ]
    },
    {
     "data": {
      "text/plain": [
       "<AxesSubplot:xlabel='Non Anon Students', ylabel='Post Length'>"
      ]
     },
     "execution_count": 21,
     "metadata": {},
     "output_type": "execute_result"
    },
    {
     "data": {
      "image/png": "[encoded data removed]",
      "text/plain": [
       "<Figure size 432x288 with 1 Axes>"
      ]
     },
     "metadata": {
      "needs_background": "light"
     },
     "output_type": "display_data"
    }
   ],
   "source": [
    "statC_4_non_anon_student_post_length = df_posts[df_posts['is_instructor'] == False][df_posts['anon'] == 'no']['length']\n",
    "statC_4_non_anon_student_post_length = statC_4_non_anon_student_post_length.sort_values(ascending=False)\n",
    "statC_4_non_anon_student_post_length = statC_4_non_anon_student_post_length.reset_index(drop=True)\n",
    "statC_4_non_anon_student_post_length.describe()\n",
    "statC_4_non_anon_student_post_length.plot(xlabel='Non Anon Students',\n",
    "                                      ylabel='Post Length',\n",
    "                                      ylim=[0, 6000])"
   ]
  },
  {
   "cell_type": "code",
   "execution_count": 22,
   "metadata": {},
   "outputs": [
    {
     "name": "stderr",
     "output_type": "stream",
     "text": [
      "C:\\ProgramData\\Anaconda3\\lib\\site-packages\\ipykernel_launcher.py:1: UserWarning: Boolean Series key will be reindexed to match DataFrame index.\n",
      "  \"\"\"Entry point for launching an IPython kernel.\n"
     ]
    },
    {
     "data": {
      "text/plain": [
       "<AxesSubplot:xlabel='Anon Students', ylabel='Post Length'>"
      ]
     },
     "execution_count": 22,
     "metadata": {},
     "output_type": "execute_result"
    },
    {
     "data": {
      "image/png": "[encoded data removed]",
      "text/plain": [
       "<Figure size 432x288 with 1 Axes>"
      ]
     },
     "metadata": {
      "needs_background": "light"
     },
     "output_type": "display_data"
    }
   ],
   "source": [
    "statC_5_anon_student_post_length = df_posts[df_posts['is_instructor'] == False][df_posts['anon'] == 'stud']['length']\n",
    "statC_5_anon_student_post_length = statC_5_anon_student_post_length.sort_values(ascending=False)\n",
    "statC_5_anon_student_post_length = statC_5_anon_student_post_length.reset_index(drop=True)\n",
    "statC_5_anon_student_post_length.describe()\n",
    "statC_5_anon_student_post_length.plot(xlabel='Anon Students',\n",
    "                                      ylabel='Post Length',\n",
    "                                      ylim=[0, 6000])\n"
   ]
  }
 ],
 "metadata": {
  "kernelspec": {
   "display_name": "Python 3",
   "language": "python",
   "name": "python3"
  },
  "language_info": {
   "codemirror_mode": {
    "name": "ipython",
    "version": 3
   },
   "file_extension": ".py",
   "mimetype": "text/x-python",
   "name": "python",
   "nbconvert_exporter": "python",
   "pygments_lexer": "ipython3",
   "version": "3.7.9"
  }
 },
 "nbformat": 4,
 "nbformat_minor": 4
}

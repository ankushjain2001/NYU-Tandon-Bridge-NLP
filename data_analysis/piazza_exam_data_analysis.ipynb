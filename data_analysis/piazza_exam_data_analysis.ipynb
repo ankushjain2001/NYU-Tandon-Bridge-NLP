{
  "nbformat": 4,
  "nbformat_minor": 0,
  "metadata": {
    "colab": {
      "name": "piazza_data_analysis.ipynb",
      "provenance": [],
      "collapsed_sections": []
    },
    "kernelspec": {
      "name": "python3",
      "display_name": "Python 3"
    },
    "language_info": {
      "name": "python"
    }
  },
  "cells": [
    {
      "cell_type": "code",
      "metadata": {
        "id": "Q3PEeRJrGl8L"
      },
      "source": [
        "!pip install -q sentence-transformers\n",
        "!pip install -q umap-learn"
      ],
      "execution_count": null,
      "outputs": []
    },
    {
      "cell_type": "code",
      "metadata": {
        "colab": {
          "base_uri": "https://localhost:8080/"
        },
        "id": "1V_qOBLPGwI1",
        "outputId": "94865908-83aa-45ad-8b0b-68dbc8a03b7d"
      },
      "source": [
        "import re\n",
        "import json\n",
        "import numpy as np\n",
        "import pandas as pd\n",
        "import matplotlib.pyplot as plt\n",
        "import random\n",
        "\n",
        "import nltk\n",
        "from nltk.corpus import stopwords\n",
        "from nltk.tokenize import word_tokenize\n",
        "from nltk.stem import PorterStemmer, WordNetLemmatizer\n",
        "\n",
        "from scipy import spatial\n",
        "from collections import defaultdict\n",
        "from sklearn.cluster import KMeans\n",
        "from sklearn.preprocessing import MinMaxScaler\n",
        "from sklearn.feature_extraction.text import TfidfVectorizer, CountVectorizer\n",
        "\n",
        "import umap\n",
        "from sentence_transformers import SentenceTransformer\n",
        "from bs4 import BeautifulSoup\n",
        "from datetime import datetime\n",
        "\n",
        "nltk.download('stopwords')\n",
        "nltk.download('wordnet')"
      ],
      "execution_count": null,
      "outputs": [
        {
          "output_type": "stream",
          "text": [
            "[nltk_data] Downloading package stopwords to /root/nltk_data...\n",
            "[nltk_data]   Package stopwords is already up-to-date!\n",
            "[nltk_data] Downloading package wordnet to /root/nltk_data...\n",
            "[nltk_data]   Package wordnet is already up-to-date!\n"
          ],
          "name": "stdout"
        },
        {
          "output_type": "execute_result",
          "data": {
            "text/plain": [
              "True"
            ]
          },
          "metadata": {
            "tags": []
          },
          "execution_count": 56
        }
      ]
    },
    {
      "cell_type": "code",
      "metadata": {
        "id": "-xjMcfGKG47y"
      },
      "source": [
        "path = \"/content/drive/MyDrive/NYU-Tandon_Bridge/\"\n",
        "# Import raw json data\n",
        "#with open(path+\"'Piazza Data'/'Summer 2020 (24 Weeks)'/piazza_posts_data.csv\", \"r\") as f:\n",
        "#    raw_transcript = json.load(f)\n",
        "df_posts = pd.read_csv('/content/drive/MyDrive/data/tandon_bridge/data/piazza/piazza_posts_data.csv')\n",
        "df_followups = pd.read_csv('/content/drive/MyDrive/data/tandon_bridge/data/piazza/piazza_followups_data.csv')"
      ],
      "execution_count": null,
      "outputs": []
    },
    {
      "cell_type": "code",
      "metadata": {
        "id": "mxRQmoAIItS0"
      },
      "source": [
        "df_posts['type'] = 'post'"
      ],
      "execution_count": null,
      "outputs": []
    },
    {
      "cell_type": "code",
      "metadata": {
        "colab": {
          "base_uri": "https://localhost:8080/",
          "height": 568
        },
        "id": "ObvtywTXG2ni",
        "outputId": "0c72e19d-b242-4b31-bc40-3879dbf73034"
      },
      "source": [
        "df_posts.head()"
      ],
      "execution_count": null,
      "outputs": [
        {
          "output_type": "execute_result",
          "data": {
            "text/html": [
              "<div>\n",
              "<style scoped>\n",
              "    .dataframe tbody tr th:only-of-type {\n",
              "        vertical-align: middle;\n",
              "    }\n",
              "\n",
              "    .dataframe tbody tr th {\n",
              "        vertical-align: top;\n",
              "    }\n",
              "\n",
              "    .dataframe thead th {\n",
              "        text-align: right;\n",
              "    }\n",
              "</style>\n",
              "<table border=\"1\" class=\"dataframe\">\n",
              "  <thead>\n",
              "    <tr style=\"text-align: right;\">\n",
              "      <th></th>\n",
              "      <th>Unnamed: 0</th>\n",
              "      <th>anon</th>\n",
              "      <th>uid</th>\n",
              "      <th>subject</th>\n",
              "      <th>created</th>\n",
              "      <th>content</th>\n",
              "      <th>post_id</th>\n",
              "      <th>is_instructor</th>\n",
              "      <th>uid_a</th>\n",
              "      <th>unique_id</th>\n",
              "      <th>length</th>\n",
              "      <th>length_cont</th>\n",
              "      <th>length_subj</th>\n",
              "      <th>type</th>\n",
              "    </tr>\n",
              "  </thead>\n",
              "  <tbody>\n",
              "    <tr>\n",
              "      <th>0</th>\n",
              "      <td>0</td>\n",
              "      <td>no</td>\n",
              "      <td>jqjrav14ehv5px</td>\n",
              "      <td>Indu Office Hours Tomorrow (Wed), 8:00pm</td>\n",
              "      <td>2020-12-15T23:25:00Z</td>\n",
              "      <td>&lt;p&gt;Hi everyone, I&amp;#39;m doing office hours tom...</td>\n",
              "      <td>kiqm5i2z9sr59d</td>\n",
              "      <td>True</td>\n",
              "      <td>NaN</td>\n",
              "      <td>kiqm5i2z9sr59d</td>\n",
              "      <td>162</td>\n",
              "      <td>122</td>\n",
              "      <td>40</td>\n",
              "      <td>post</td>\n",
              "    </tr>\n",
              "    <tr>\n",
              "      <th>1</th>\n",
              "      <td>1</td>\n",
              "      <td>no</td>\n",
              "      <td>jrleouqzv0p38x</td>\n",
              "      <td>Exam 4 Review Session</td>\n",
              "      <td>2020-12-14T04:30:22Z</td>\n",
              "      <td>We will hold an Exam 4 Review Session on Tuesd...</td>\n",
              "      <td>kinbscfohpv2gw</td>\n",
              "      <td>True</td>\n",
              "      <td>NaN</td>\n",
              "      <td>kinbscfohpv2gw</td>\n",
              "      <td>241</td>\n",
              "      <td>220</td>\n",
              "      <td>21</td>\n",
              "      <td>post</td>\n",
              "    </tr>\n",
              "    <tr>\n",
              "      <th>2</th>\n",
              "      <td>2</td>\n",
              "      <td>no</td>\n",
              "      <td>jrleouqzv0p38x</td>\n",
              "      <td>HW19 graded</td>\n",
              "      <td>2020-12-12T04:26:06Z</td>\n",
              "      <td>&lt;p&gt;Statistics:&lt;br /&gt;  Minimum: 80.0&lt;br /&gt;  Max...</td>\n",
              "      <td>kil75hfuiaq6dv</td>\n",
              "      <td>True</td>\n",
              "      <td>NaN</td>\n",
              "      <td>kil75hfuiaq6dv</td>\n",
              "      <td>164</td>\n",
              "      <td>153</td>\n",
              "      <td>11</td>\n",
              "      <td>post</td>\n",
              "    </tr>\n",
              "    <tr>\n",
              "      <th>3</th>\n",
              "      <td>3</td>\n",
              "      <td>no</td>\n",
              "      <td>jrleouqzv0p38x</td>\n",
              "      <td>practice_exam_4.pdf has been added to class re...</td>\n",
              "      <td>2020-12-11T18:44:03Z</td>\n",
              "      <td>&lt;p&gt;Practice exam 4, both with and without solu...</td>\n",
              "      <td>kikmcylylgq3z0</td>\n",
              "      <td>True</td>\n",
              "      <td>NaN</td>\n",
              "      <td>kikmcylylgq3z0</td>\n",
              "      <td>687</td>\n",
              "      <td>605</td>\n",
              "      <td>82</td>\n",
              "      <td>post</td>\n",
              "    </tr>\n",
              "    <tr>\n",
              "      <th>4</th>\n",
              "      <td>4</td>\n",
              "      <td>no</td>\n",
              "      <td>jrleouqzv0p38x</td>\n",
              "      <td>HW16 grades released</td>\n",
              "      <td>2020-11-16T19:12:14Z</td>\n",
              "      <td>&lt;p&gt;Statistics:&lt;br /&gt;  Minimum: -50.0&lt;br /&gt;  Ma...</td>\n",
              "      <td>khkxcw8kfcw2b0</td>\n",
              "      <td>True</td>\n",
              "      <td>NaN</td>\n",
              "      <td>khkxcw8kfcw2b0</td>\n",
              "      <td>175</td>\n",
              "      <td>155</td>\n",
              "      <td>20</td>\n",
              "      <td>post</td>\n",
              "    </tr>\n",
              "  </tbody>\n",
              "</table>\n",
              "</div>"
            ],
            "text/plain": [
              "   Unnamed: 0 anon             uid  ... length_cont length_subj  type\n",
              "0           0   no  jqjrav14ehv5px  ...         122          40  post\n",
              "1           1   no  jrleouqzv0p38x  ...         220          21  post\n",
              "2           2   no  jrleouqzv0p38x  ...         153          11  post\n",
              "3           3   no  jrleouqzv0p38x  ...         605          82  post\n",
              "4           4   no  jrleouqzv0p38x  ...         155          20  post\n",
              "\n",
              "[5 rows x 14 columns]"
            ]
          },
          "metadata": {
            "tags": []
          },
          "execution_count": 16
        }
      ]
    },
    {
      "cell_type": "code",
      "metadata": {
        "colab": {
          "base_uri": "https://localhost:8080/",
          "height": 434
        },
        "id": "u2tWLqydG_0L",
        "outputId": "40c3f05c-e3c6-4725-f82e-f4f7a2904661"
      },
      "source": [
        "df_followups.head()"
      ],
      "execution_count": null,
      "outputs": [
        {
          "output_type": "execute_result",
          "data": {
            "text/html": [
              "<div>\n",
              "<style scoped>\n",
              "    .dataframe tbody tr th:only-of-type {\n",
              "        vertical-align: middle;\n",
              "    }\n",
              "\n",
              "    .dataframe tbody tr th {\n",
              "        vertical-align: top;\n",
              "    }\n",
              "\n",
              "    .dataframe thead th {\n",
              "        text-align: right;\n",
              "    }\n",
              "</style>\n",
              "<table border=\"1\" class=\"dataframe\">\n",
              "  <thead>\n",
              "    <tr style=\"text-align: right;\">\n",
              "      <th></th>\n",
              "      <th>Unnamed: 0</th>\n",
              "      <th>post_id</th>\n",
              "      <th>followup_id</th>\n",
              "      <th>followup_level</th>\n",
              "      <th>anon</th>\n",
              "      <th>subject</th>\n",
              "      <th>data</th>\n",
              "      <th>created</th>\n",
              "      <th>type</th>\n",
              "      <th>uid</th>\n",
              "      <th>is_instructor</th>\n",
              "      <th>content</th>\n",
              "      <th>unique_id</th>\n",
              "      <th>length_subj</th>\n",
              "      <th>length_cont</th>\n",
              "      <th>length</th>\n",
              "    </tr>\n",
              "  </thead>\n",
              "  <tbody>\n",
              "    <tr>\n",
              "      <th>0</th>\n",
              "      <td>0</td>\n",
              "      <td>kiqm5i2z9sr59d</td>\n",
              "      <td>kiqn9oawib35f7</td>\n",
              "      <td>1</td>\n",
              "      <td>no</td>\n",
              "      <td>&lt;p&gt;thanks indu! &lt;/p&gt;</td>\n",
              "      <td>NaN</td>\n",
              "      <td>2020-12-15T23:56:07Z</td>\n",
              "      <td>followup</td>\n",
              "      <td>kccpr2zaayq2i8</td>\n",
              "      <td>False</td>\n",
              "      <td>NaN</td>\n",
              "      <td>kiqn9oawib35f7</td>\n",
              "      <td>20</td>\n",
              "      <td>0</td>\n",
              "      <td>20</td>\n",
              "    </tr>\n",
              "    <tr>\n",
              "      <th>1</th>\n",
              "      <td>1</td>\n",
              "      <td>kiqm5i2z9sr59d</td>\n",
              "      <td>kiqnx4swc0d1wr</td>\n",
              "      <td>2</td>\n",
              "      <td>no</td>\n",
              "      <td>&lt;p&gt;you&amp;#39;re welcome :) &lt;/p&gt;</td>\n",
              "      <td>NaN</td>\n",
              "      <td>2020-12-16T00:14:21Z</td>\n",
              "      <td>feedback</td>\n",
              "      <td>jqjrav14ehv5px</td>\n",
              "      <td>True</td>\n",
              "      <td>NaN</td>\n",
              "      <td>kiqnx4swc0d1wr</td>\n",
              "      <td>29</td>\n",
              "      <td>0</td>\n",
              "      <td>29</td>\n",
              "    </tr>\n",
              "    <tr>\n",
              "      <th>2</th>\n",
              "      <td>2</td>\n",
              "      <td>kinbscfohpv2gw</td>\n",
              "      <td>kiquh9odhyq725</td>\n",
              "      <td>1</td>\n",
              "      <td>no</td>\n",
              "      <td>&lt;p&gt;Hi,&lt;/p&gt;\\n&lt;p&gt;   Is there a way to watch the ...</td>\n",
              "      <td>NaN</td>\n",
              "      <td>2020-12-16T03:17:58Z</td>\n",
              "      <td>followup</td>\n",
              "      <td>kccprc7jxli2uy</td>\n",
              "      <td>False</td>\n",
              "      <td>NaN</td>\n",
              "      <td>kiquh9odhyq725</td>\n",
              "      <td>130</td>\n",
              "      <td>0</td>\n",
              "      <td>130</td>\n",
              "    </tr>\n",
              "    <tr>\n",
              "      <th>3</th>\n",
              "      <td>3</td>\n",
              "      <td>kinbscfohpv2gw</td>\n",
              "      <td>kiqukzuame57in</td>\n",
              "      <td>2</td>\n",
              "      <td>no</td>\n",
              "      <td>&lt;p&gt;It is recorded in the Zoom section of NYU C...</td>\n",
              "      <td>NaN</td>\n",
              "      <td>2020-12-16T03:20:52Z</td>\n",
              "      <td>feedback</td>\n",
              "      <td>k54tq3hzuyo33f</td>\n",
              "      <td>False</td>\n",
              "      <td>NaN</td>\n",
              "      <td>kiqukzuame57in</td>\n",
              "      <td>57</td>\n",
              "      <td>0</td>\n",
              "      <td>57</td>\n",
              "    </tr>\n",
              "    <tr>\n",
              "      <th>4</th>\n",
              "      <td>4</td>\n",
              "      <td>kinbscfohpv2gw</td>\n",
              "      <td>kiqx0mcfdvt26r</td>\n",
              "      <td>2</td>\n",
              "      <td>no</td>\n",
              "      <td>&lt;p&gt;Do I need to use my nyu@email to get access...</td>\n",
              "      <td>NaN</td>\n",
              "      <td>2020-12-16T04:29:00Z</td>\n",
              "      <td>feedback</td>\n",
              "      <td>kccprc7jxli2uy</td>\n",
              "      <td>False</td>\n",
              "      <td>NaN</td>\n",
              "      <td>kiqx0mcfdvt26r</td>\n",
              "      <td>63</td>\n",
              "      <td>0</td>\n",
              "      <td>63</td>\n",
              "    </tr>\n",
              "  </tbody>\n",
              "</table>\n",
              "</div>"
            ],
            "text/plain": [
              "   Unnamed: 0         post_id     followup_id  ...  length_subj length_cont length\n",
              "0           0  kiqm5i2z9sr59d  kiqn9oawib35f7  ...           20           0     20\n",
              "1           1  kiqm5i2z9sr59d  kiqnx4swc0d1wr  ...           29           0     29\n",
              "2           2  kinbscfohpv2gw  kiquh9odhyq725  ...          130           0    130\n",
              "3           3  kinbscfohpv2gw  kiqukzuame57in  ...           57           0     57\n",
              "4           4  kinbscfohpv2gw  kiqx0mcfdvt26r  ...           63           0     63\n",
              "\n",
              "[5 rows x 16 columns]"
            ]
          },
          "metadata": {
            "tags": []
          },
          "execution_count": 17
        }
      ]
    },
    {
      "cell_type": "code",
      "metadata": {
        "id": "sFjGjXyqHBab"
      },
      "source": [
        "# --- Data Preprocessing ------------------------------------------------------\n",
        "\n",
        "# # Init Spacy\n",
        "# nlp = spacy.load('en_core_web_lg')\n",
        "# Define the stop words list\n",
        "stop_words = set(stopwords.words('english'))\n",
        "# Define stemmer\n",
        "stemmer = PorterStemmer()\n",
        "# Define lemmatizer\n",
        "lemmatizer = WordNetLemmatizer()\n",
        "# Define tf-idf vectorizer\n",
        "vectorizer = TfidfVectorizer()\n",
        "\n",
        "\n",
        "# Text preprocessing pipeline for the model\n",
        "def text_preprocessing_1(lines):\n",
        "    # remove html tags\n",
        "    soup = BeautifulSoup(str(lines))\n",
        "    lines = soup.get_text()\n",
        "    lines = lines.lower()\n",
        "    lines = re.sub('[\\r\\n]+', ' ', lines)\n",
        "    lines = re.sub('[\\xa0]+', '', lines)\n",
        "    return lines\n",
        "\n",
        "\n",
        "# Converts raw data to dataframe where each doc is a slide or transcript para\n",
        "def clean_dataframe(df, text_col):\n",
        "    df.dropna(subset=[text_col], inplace=True)\n",
        "    df.reset_index(drop=True, inplace=True)\n",
        "    df[text_col] = df[text_col].apply(text_preprocessing_1)\n",
        "    return df\n",
        "\n",
        "\n",
        "# df_posts = df_posts[['uid', 'content']]\n",
        "# df_followups = df_followups[['uid', 'subject']]\n",
        "\n",
        "# Apply conversion\n",
        "df_posts = clean_dataframe(df_posts, \"content\")\n",
        "df_followups = clean_dataframe(df_followups, \"subject\")\n",
        "\n",
        "\n",
        "\n"
      ],
      "execution_count": null,
      "outputs": []
    },
    {
      "cell_type": "code",
      "metadata": {
        "id": "CS8QFtARIByO"
      },
      "source": [
        "df_posts = df_posts[['unique_id', 'uid', 'created', 'type', 'is_instructor', 'anon', 'subject', 'content']]\n",
        "df_followups = df_followups[['unique_id', 'uid', 'created', 'type', 'is_instructor', 'anon', 'subject', 'content']]"
      ],
      "execution_count": null,
      "outputs": []
    },
    {
      "cell_type": "code",
      "metadata": {
        "id": "SqYaxsaqHDBK"
      },
      "source": [
        "# df_posts['text'] = df_posts['content']\n",
        "# df_followups['text'] = df_followups['subject']\n",
        "# df_posts.drop('content', inplace=True, axis=1)\n",
        "# df_followups.drop('subject', inplace=True, axis=1)"
      ],
      "execution_count": null,
      "outputs": []
    },
    {
      "cell_type": "markdown",
      "metadata": {
        "id": "UgkGepGlJiE2"
      },
      "source": [
        "### Preprocess the combined data"
      ]
    },
    {
      "cell_type": "code",
      "metadata": {
        "id": "kR0GJrU0HH7B"
      },
      "source": [
        "df = pd.concat([df_posts, df_followups])\n",
        "# Keep only non anonymous students and remove instructors - 1511 rows/participations\n",
        "# df = df[df['anon'] == 'no']\n",
        "df = df[df['is_instructor'] == False]\n",
        "# Convert datetime\n",
        "df['created'] =  pd.to_datetime(df['created'], )\n",
        "# Sort by time and reset index\n",
        "df.sort_values(by=['created'], inplace=True, ascending=True)\n",
        "df.reset_index(drop=True, inplace=True)\n",
        "# Replace nan in subject and content\n",
        "df['content'] = df['content'].replace(np.nan, '', regex=True)\n",
        "df['subject'] = df['subject'].replace(np.nan, '', regex=True)"
      ],
      "execution_count": null,
      "outputs": []
    },
    {
      "cell_type": "code",
      "metadata": {
        "colab": {
          "base_uri": "https://localhost:8080/",
          "height": 975
        },
        "id": "fXNzuwLtLA5e",
        "outputId": "64444a82-dff7-4dc4-f1c2-da48c846cdbf"
      },
      "source": [
        "df.head(20)"
      ],
      "execution_count": null,
      "outputs": [
        {
          "output_type": "execute_result",
          "data": {
            "text/html": [
              "<div>\n",
              "<style scoped>\n",
              "    .dataframe tbody tr th:only-of-type {\n",
              "        vertical-align: middle;\n",
              "    }\n",
              "\n",
              "    .dataframe tbody tr th {\n",
              "        vertical-align: top;\n",
              "    }\n",
              "\n",
              "    .dataframe thead th {\n",
              "        text-align: right;\n",
              "    }\n",
              "</style>\n",
              "<table border=\"1\" class=\"dataframe\">\n",
              "  <thead>\n",
              "    <tr style=\"text-align: right;\">\n",
              "      <th></th>\n",
              "      <th>unique_id</th>\n",
              "      <th>uid</th>\n",
              "      <th>created</th>\n",
              "      <th>type</th>\n",
              "      <th>is_instructor</th>\n",
              "      <th>anon</th>\n",
              "      <th>subject</th>\n",
              "      <th>content</th>\n",
              "    </tr>\n",
              "  </thead>\n",
              "  <tbody>\n",
              "    <tr>\n",
              "      <th>0</th>\n",
              "      <td>kcaz653v7u666u</td>\n",
              "      <td>gd6v7134AUa</td>\n",
              "      <td>2020-07-06 20:46:44+00:00</td>\n",
              "      <td>post</td>\n",
              "      <td>False</td>\n",
              "      <td>no</td>\n",
              "      <td>Search for Teammates!</td>\n",
              "      <td>pa.load(\"/dashboard/project_partners\", null, f...</td>\n",
              "    </tr>\n",
              "    <tr>\n",
              "      <th>1</th>\n",
              "      <td>kcaz64zljpq66k</td>\n",
              "      <td>gd6v7134AUa</td>\n",
              "      <td>2020-07-06 20:46:44+00:00</td>\n",
              "      <td>post</td>\n",
              "      <td>False</td>\n",
              "      <td>no</td>\n",
              "      <td>Get familiar with Piazza</td>\n",
              "      <td>pa.load(\"/dashboard/get_familiar\", null, funct...</td>\n",
              "    </tr>\n",
              "    <tr>\n",
              "      <th>2</th>\n",
              "      <td>kcaz6506lfv66m</td>\n",
              "      <td>gd6v7134AUa</td>\n",
              "      <td>2020-07-06 20:46:44+00:00</td>\n",
              "      <td>post</td>\n",
              "      <td>False</td>\n",
              "      <td>no</td>\n",
              "      <td>Introduce Piazza to your students</td>\n",
              "      <td>pa.load(\"/dashboard/introduce_piazza\", null, f...</td>\n",
              "    </tr>\n",
              "    <tr>\n",
              "      <th>3</th>\n",
              "      <td>kcaz64xhuj166f</td>\n",
              "      <td>gd6v7134AUa</td>\n",
              "      <td>2020-07-06 20:46:44+00:00</td>\n",
              "      <td>post</td>\n",
              "      <td>False</td>\n",
              "      <td>no</td>\n",
              "      <td>Welcome to Piazza!</td>\n",
              "      <td>piazza is a q&amp;a platform designed to get you g...</td>\n",
              "    </tr>\n",
              "    <tr>\n",
              "      <th>4</th>\n",
              "      <td>kcaz64z2b5w66i</td>\n",
              "      <td>gd6v7134AUa</td>\n",
              "      <td>2020-07-06 20:46:44+00:00</td>\n",
              "      <td>post</td>\n",
              "      <td>False</td>\n",
              "      <td>no</td>\n",
              "      <td>Tips &amp; Tricks for a successful class</td>\n",
              "      <td>pa.load(\"/dashboard/tips_tricks\", null, functi...</td>\n",
              "    </tr>\n",
              "    <tr>\n",
              "      <th>5</th>\n",
              "      <td>kccogf1gfio1du</td>\n",
              "      <td>k54tq3bfrqt336</td>\n",
              "      <td>2020-07-08 01:22:20+00:00</td>\n",
              "      <td>post</td>\n",
              "      <td>False</td>\n",
              "      <td>no</td>\n",
              "      <td>NYU Bridge Contact Sheet Summer 2020</td>\n",
              "      <td>hi, i created a contact sheet using my nyu goo...</td>\n",
              "    </tr>\n",
              "    <tr>\n",
              "      <th>6</th>\n",
              "      <td>kccp0cavwhw5yi</td>\n",
              "      <td>jxqfcqrsvtv7nn</td>\n",
              "      <td>2020-07-08 01:37:50+00:00</td>\n",
              "      <td>followup</td>\n",
              "      <td>False</td>\n",
              "      <td>no</td>\n",
              "      <td>hi domenick, some one on the slack channel alr...</td>\n",
              "      <td></td>\n",
              "    </tr>\n",
              "    <tr>\n",
              "      <th>7</th>\n",
              "      <td>kccp6j4t71zuq</td>\n",
              "      <td>kccopj3l12mrx</td>\n",
              "      <td>2020-07-08 01:42:39+00:00</td>\n",
              "      <td>followup</td>\n",
              "      <td>False</td>\n",
              "      <td>no</td>\n",
              "      <td>do you have any suggestions for helpful extens...</td>\n",
              "      <td></td>\n",
              "    </tr>\n",
              "    <tr>\n",
              "      <th>8</th>\n",
              "      <td>kccq3xk141v6hp</td>\n",
              "      <td>k54tq3bfrqt336</td>\n",
              "      <td>2020-07-08 02:08:37+00:00</td>\n",
              "      <td>feedback</td>\n",
              "      <td>False</td>\n",
              "      <td>no</td>\n",
              "      <td>malaika, thank you. i added my contact info to...</td>\n",
              "      <td></td>\n",
              "    </tr>\n",
              "    <tr>\n",
              "      <th>9</th>\n",
              "      <td>kccx39ks10z4lw</td>\n",
              "      <td>kccprh82f0c32p</td>\n",
              "      <td>2020-07-08 05:24:03+00:00</td>\n",
              "      <td>post</td>\n",
              "      <td>False</td>\n",
              "      <td>no</td>\n",
              "      <td>No permission to review today&amp;#39;s zoom recor...</td>\n",
              "      <td>i used my nyu g suite account to log in zoom a...</td>\n",
              "    </tr>\n",
              "    <tr>\n",
              "      <th>10</th>\n",
              "      <td>kccxseopx1w35e</td>\n",
              "      <td>kccpraydebv2te</td>\n",
              "      <td>2020-07-08 05:43:36+00:00</td>\n",
              "      <td>followup</td>\n",
              "      <td>False</td>\n",
              "      <td>no</td>\n",
              "      <td>it worked for me once i signed out of my perso...</td>\n",
              "      <td></td>\n",
              "    </tr>\n",
              "    <tr>\n",
              "      <th>11</th>\n",
              "      <td>kccy73fecyk58q</td>\n",
              "      <td>kccpr4483bi2k8</td>\n",
              "      <td>2020-07-08 05:55:02+00:00</td>\n",
              "      <td>feedback</td>\n",
              "      <td>False</td>\n",
              "      <td>no</td>\n",
              "      <td>did you just use your \"al####@nyu.edu\" in the ...</td>\n",
              "      <td></td>\n",
              "    </tr>\n",
              "    <tr>\n",
              "      <th>12</th>\n",
              "      <td>kccyddj4dk17l2</td>\n",
              "      <td>kccpraydebv2te</td>\n",
              "      <td>2020-07-08 05:59:55+00:00</td>\n",
              "      <td>feedback</td>\n",
              "      <td>False</td>\n",
              "      <td>no</td>\n",
              "      <td>try this link https://nyu.zoom.us/signin</td>\n",
              "      <td></td>\n",
              "    </tr>\n",
              "    <tr>\n",
              "      <th>13</th>\n",
              "      <td>kccyhwtd138et</td>\n",
              "      <td>kccpr4483bi2k8</td>\n",
              "      <td>2020-07-08 06:03:26+00:00</td>\n",
              "      <td>feedback</td>\n",
              "      <td>False</td>\n",
              "      <td>no</td>\n",
              "      <td>fantastic, it worked! thank you friend. wish i...</td>\n",
              "      <td></td>\n",
              "    </tr>\n",
              "    <tr>\n",
              "      <th>14</th>\n",
              "      <td>kccyrzgq2971ne</td>\n",
              "      <td>kccprh82f0c32p</td>\n",
              "      <td>2020-07-08 06:11:16+00:00</td>\n",
              "      <td>feedback</td>\n",
              "      <td>False</td>\n",
              "      <td>no</td>\n",
              "      <td>it works. thanks alan</td>\n",
              "      <td></td>\n",
              "    </tr>\n",
              "    <tr>\n",
              "      <th>15</th>\n",
              "      <td>kccyz1gzqiybx</td>\n",
              "      <td>kccpraydebv2te</td>\n",
              "      <td>2020-07-08 06:16:45+00:00</td>\n",
              "      <td>feedback</td>\n",
              "      <td>False</td>\n",
              "      <td>no</td>\n",
              "      <td>no problem, glad it worked!</td>\n",
              "      <td></td>\n",
              "    </tr>\n",
              "    <tr>\n",
              "      <th>16</th>\n",
              "      <td>kcczak9chy2te</td>\n",
              "      <td>kccpr8p050m2q9</td>\n",
              "      <td>2020-07-08 06:25:43+00:00</td>\n",
              "      <td>feedback</td>\n",
              "      <td>False</td>\n",
              "      <td>no</td>\n",
              "      <td>i am not permitted as well</td>\n",
              "      <td></td>\n",
              "    </tr>\n",
              "    <tr>\n",
              "      <th>17</th>\n",
              "      <td>kcde5qgml6y3j9</td>\n",
              "      <td>kccpr7it53d2or</td>\n",
              "      <td>2020-07-08 13:21:52+00:00</td>\n",
              "      <td>post</td>\n",
              "      <td>False</td>\n",
              "      <td>no</td>\n",
              "      <td>Module 2 Positional Number System- Clarity</td>\n",
              "      <td>hello all, i recently watched module 2 on posi...</td>\n",
              "    </tr>\n",
              "    <tr>\n",
              "      <th>18</th>\n",
              "      <td>kcdh7si7o2a6dv</td>\n",
              "      <td>kccprhv31vd33l</td>\n",
              "      <td>2020-07-08 14:47:27+00:00</td>\n",
              "      <td>followup</td>\n",
              "      <td>False</td>\n",
              "      <td>no</td>\n",
              "      <td>thanks for the suggestion! i'll check it out! ...</td>\n",
              "      <td></td>\n",
              "    </tr>\n",
              "    <tr>\n",
              "      <th>19</th>\n",
              "      <td>kcdhn2gwpff6c5</td>\n",
              "      <td>jd0tcck5vr9yx</td>\n",
              "      <td>2020-07-08 14:59:20+00:00</td>\n",
              "      <td>followup</td>\n",
              "      <td>False</td>\n",
              "      <td>no</td>\n",
              "      <td>learning latex will be really helpful if you’r...</td>\n",
              "      <td></td>\n",
              "    </tr>\n",
              "  </tbody>\n",
              "</table>\n",
              "</div>"
            ],
            "text/plain": [
              "         unique_id  ...                                            content\n",
              "0   kcaz653v7u666u  ...  pa.load(\"/dashboard/project_partners\", null, f...\n",
              "1   kcaz64zljpq66k  ...  pa.load(\"/dashboard/get_familiar\", null, funct...\n",
              "2   kcaz6506lfv66m  ...  pa.load(\"/dashboard/introduce_piazza\", null, f...\n",
              "3   kcaz64xhuj166f  ...  piazza is a q&a platform designed to get you g...\n",
              "4   kcaz64z2b5w66i  ...  pa.load(\"/dashboard/tips_tricks\", null, functi...\n",
              "5   kccogf1gfio1du  ...  hi, i created a contact sheet using my nyu goo...\n",
              "6   kccp0cavwhw5yi  ...                                                   \n",
              "7    kccp6j4t71zuq  ...                                                   \n",
              "8   kccq3xk141v6hp  ...                                                   \n",
              "9   kccx39ks10z4lw  ...  i used my nyu g suite account to log in zoom a...\n",
              "10  kccxseopx1w35e  ...                                                   \n",
              "11  kccy73fecyk58q  ...                                                   \n",
              "12  kccyddj4dk17l2  ...                                                   \n",
              "13   kccyhwtd138et  ...                                                   \n",
              "14  kccyrzgq2971ne  ...                                                   \n",
              "15   kccyz1gzqiybx  ...                                                   \n",
              "16   kcczak9chy2te  ...                                                   \n",
              "17  kcde5qgml6y3j9  ...  hello all, i recently watched module 2 on posi...\n",
              "18  kcdh7si7o2a6dv  ...                                                   \n",
              "19  kcdhn2gwpff6c5  ...                                                   \n",
              "\n",
              "[20 rows x 8 columns]"
            ]
          },
          "metadata": {
            "tags": []
          },
          "execution_count": 51
        }
      ]
    },
    {
      "cell_type": "code",
      "metadata": {
        "id": "t1g-g-FOYWIA"
      },
      "source": [
        "date_exam_1 = datetime.fromisoformat('2020-08-14T23:59:59Z+00:00')\n",
        "date_exam_2 = datetime.fromisoformat('2020-09-25T23:59:59Z+00:00')\n",
        "date_exam_3 = datetime.fromisoformat('2020-11-13T23:59:59Z+00:00')\n",
        "date_exam_4 = datetime.fromisoformat('2020-12-18T23:59:59Z+00:00')"
      ],
      "execution_count": null,
      "outputs": []
    },
    {
      "cell_type": "code",
      "metadata": {
        "id": "dWunpZL4LZgF"
      },
      "source": [
        "# Split into exams\n",
        "e1 = df[df['created'] <= date_exam_1]\n",
        "e2 = df[(date_exam_1 < df['created']) & (df['created'] <= date_exam_2)]\n",
        "e3 = df[(date_exam_2 < df['created']) & (df['created'] <= date_exam_3)]\n",
        "e4 = df[(date_exam_3 < df['created']) & (df['created'] <= date_exam_4)]"
      ],
      "execution_count": null,
      "outputs": []
    },
    {
      "cell_type": "markdown",
      "metadata": {
        "id": "dAjMat9zcTTU"
      },
      "source": [
        "## STATISTICS"
      ]
    },
    {
      "cell_type": "code",
      "metadata": {
        "id": "JdzKMAivguJP"
      },
      "source": [
        "exam_labels = ['Exam 1', 'Exam 2', 'Exam 3', 'Exam 4']"
      ],
      "execution_count": null,
      "outputs": []
    },
    {
      "cell_type": "code",
      "metadata": {
        "id": "ooC4Qs58cCbv"
      },
      "source": [
        "# Count of overall piazza participations (posts, followups, feedbacks)\n",
        "stat_1 = [len(e1), len(e2), len(e3), len(e4)] #stat_1_participation_counts"
      ],
      "execution_count": null,
      "outputs": []
    },
    {
      "cell_type": "code",
      "metadata": {
        "colab": {
          "base_uri": "https://localhost:8080/",
          "height": 404
        },
        "id": "_Z3UF5dygs2m",
        "outputId": "d5b1dcb1-2b52-49d2-ee52-e879d326e9e0"
      },
      "source": [
        "fig = plt.figure(figsize = (8, 6))\n",
        "plt.bar(exam_labels, stat_1, width = 0.4, color=['blue', 'red', 'green', 'yellow'])\n",
        "plt.xlabel(\"Exam Time Slice\")\n",
        "plt.ylabel(\"Count\")\n",
        "plt.title(\"Count of overall piazza participations\")\n",
        "plt.show()"
      ],
      "execution_count": null,
      "outputs": [
        {
          "output_type": "display_data",
          "data": {
            "image/png": "[encoded data removed]",
            "text/plain": [
              "<Figure size 576x432 with 1 Axes>"
            ]
          },
          "metadata": {
            "tags": [],
            "needs_background": "light"
          }
        }
      ]
    },
    {
      "cell_type": "code",
      "metadata": {
        "id": "kGXm10P5cjM6"
      },
      "source": [
        "# Count of unique students that participated on piazza\n",
        "stat_2 = [len(set(e1['uid'].to_list())), \n",
        "          len(set(e2['uid'].to_list())), \n",
        "          len(set(e3['uid'].to_list())), \n",
        "          len(set(e4['uid'].to_list()))\n",
        "          ] #stat_2_unique_students"
      ],
      "execution_count": null,
      "outputs": []
    },
    {
      "cell_type": "code",
      "metadata": {
        "colab": {
          "base_uri": "https://localhost:8080/",
          "height": 404
        },
        "id": "LQ5KXNfAh3sB",
        "outputId": "1ad532cd-b47a-4a85-aa1f-898ef2cd5080"
      },
      "source": [
        "fig = plt.figure(figsize = (8, 6))\n",
        "plt.bar(exam_labels, stat_2, width = 0.4, color=['blue', 'red', 'green', 'yellow'])\n",
        "plt.xlabel(\"Exam Time Slice\")\n",
        "plt.ylabel(\"Count\")\n",
        "plt.title(\"Count of unique students that participated on piazza\")\n",
        "plt.show()"
      ],
      "execution_count": null,
      "outputs": [
        {
          "output_type": "display_data",
          "data": {
            "image/png": "[encoded data removed]",
            "text/plain": [
              "<Figure size 576x432 with 1 Axes>"
            ]
          },
          "metadata": {
            "tags": [],
            "needs_background": "light"
          }
        }
      ]
    },
    {
      "cell_type": "code",
      "metadata": {
        "id": "yxVatt8FcjhH"
      },
      "source": [
        "# Average count of participations per student \n",
        "stat_3 = [np.mean(e1['uid'].value_counts().to_list()),\n",
        "          np.mean(e2['uid'].value_counts().to_list()),\n",
        "          np.mean(e3['uid'].value_counts().to_list()),\n",
        "          np.mean(e4['uid'].value_counts().to_list())          \n",
        "          ] # stat_3_avg_participation"
      ],
      "execution_count": null,
      "outputs": []
    },
    {
      "cell_type": "code",
      "metadata": {
        "colab": {
          "base_uri": "https://localhost:8080/",
          "height": 404
        },
        "id": "Wodmnw6viDjP",
        "outputId": "63a6a4ad-ff04-478f-be96-32f40385b509"
      },
      "source": [
        "fig = plt.figure(figsize = (8, 6))\n",
        "plt.plot(exam_labels, stat_3)\n",
        "plt.scatter(exam_labels, stat_3, color=['blue', 'red', 'green', 'yellow'], s=80)\n",
        "plt.xlabel(\"Exam Time Slice\")\n",
        "plt.ylabel(\"Average Count\")\n",
        "plt.title(\"Average count of participations per student on piazza\")\n",
        "plt.show()"
      ],
      "execution_count": null,
      "outputs": [
        {
          "output_type": "display_data",
          "data": {
            "image/png": "[encoded data removed]",
            "text/plain": [
              "<Figure size 576x432 with 1 Axes>"
            ]
          },
          "metadata": {
            "tags": [],
            "needs_background": "light"
          }
        }
      ]
    },
    {
      "cell_type": "code",
      "metadata": {
        "id": "irAg4DfAeDPr"
      },
      "source": [
        "# Distribution of total participation per student\n",
        "start_4_e1 = e1['uid'].value_counts().to_list()\n",
        "start_4_e2 = e2['uid'].value_counts().to_list()\n",
        "start_4_e3 = e3['uid'].value_counts().to_list()\n",
        "start_4_e4 = e4['uid'].value_counts().to_list()"
      ],
      "execution_count": null,
      "outputs": []
    },
    {
      "cell_type": "code",
      "metadata": {
        "colab": {
          "base_uri": "https://localhost:8080/",
          "height": 404
        },
        "id": "MTWEsSdkcjjs",
        "outputId": "7fea2ca6-0271-4eca-df52-2f0fb81acd5e"
      },
      "source": [
        "fig = plt.figure(figsize = (8, 6))\n",
        "# plt.plot(range(len(start_4_e1)), start_4_e1)\n",
        "plt.bar(range(len(start_4_e1)), start_4_e1, width=0.5)\n",
        "plt.xlabel(\"Students\")\n",
        "plt.ylabel(\"Count\")\n",
        "plt.title(\"Distribution of total participation per student - Exam 1\")\n",
        "plt.show()"
      ],
      "execution_count": null,
      "outputs": [
        {
          "output_type": "display_data",
          "data": {
            "image/png": "[encoded data removed]",
            "text/plain": [
              "<Figure size 576x432 with 1 Axes>"
            ]
          },
          "metadata": {
            "tags": [],
            "needs_background": "light"
          }
        }
      ]
    },
    {
      "cell_type": "code",
      "metadata": {
        "colab": {
          "base_uri": "https://localhost:8080/",
          "height": 404
        },
        "id": "GgSxTdtTniKb",
        "outputId": "2ef916ab-089a-4de0-fa1d-bfce0d9281ba"
      },
      "source": [
        "fig = plt.figure(figsize = (8, 6))\n",
        "# plt.plot(range(len(start_4_e2)), start_4_e2)\n",
        "plt.bar(range(len(start_4_e2)), start_4_e2, width=0.5)\n",
        "plt.xlabel(\"Students\")\n",
        "plt.ylabel(\"Count\")\n",
        "plt.title(\"Distribution of total participation per student - Exam 2\")\n",
        "plt.show()"
      ],
      "execution_count": null,
      "outputs": [
        {
          "output_type": "display_data",
          "data": {
            "image/png": "[encoded data removed]",
            "text/plain": [
              "<Figure size 576x432 with 1 Axes>"
            ]
          },
          "metadata": {
            "tags": [],
            "needs_background": "light"
          }
        }
      ]
    },
    {
      "cell_type": "code",
      "metadata": {
        "colab": {
          "base_uri": "https://localhost:8080/",
          "height": 404
        },
        "id": "DTnLSUL-oDFa",
        "outputId": "070ff0a3-4b1c-4b72-c624-c806bf0faa3b"
      },
      "source": [
        "fig = plt.figure(figsize = (8, 6))\n",
        "# plt.plot(range(len(start_4_e3)), start_4_e3)\n",
        "plt.bar(range(len(start_4_e3)), start_4_e3, width=0.5)\n",
        "plt.xlabel(\"Students\")\n",
        "plt.ylabel(\"Count\")\n",
        "plt.title(\"Distribution of total participation per student - Exam 3\")\n",
        "plt.show()"
      ],
      "execution_count": null,
      "outputs": [
        {
          "output_type": "display_data",
          "data": {
            "image/png": "[encoded data removed]",
            "text/plain": [
              "<Figure size 576x432 with 1 Axes>"
            ]
          },
          "metadata": {
            "tags": [],
            "needs_background": "light"
          }
        }
      ]
    },
    {
      "cell_type": "code",
      "metadata": {
        "colab": {
          "base_uri": "https://localhost:8080/",
          "height": 404
        },
        "id": "JysD4Hy6Y_C0",
        "outputId": "b9cbc338-753f-4349-a6d6-9ce0c5e56d87"
      },
      "source": [
        "fig = plt.figure(figsize = (8, 6))\n",
        "# plt.plot(range(len(start_4_e4)), start_4_e4)\n",
        "plt.bar(range(len(start_4_e4)), start_4_e4, width=0.5)\n",
        "plt.xlabel(\"Students\")\n",
        "plt.ylabel(\"Count\")\n",
        "plt.title(\"Distribution of total participation per student - Exam 4\")\n",
        "plt.show()"
      ],
      "execution_count": null,
      "outputs": [
        {
          "output_type": "display_data",
          "data": {
            "image/png": "[encoded data removed]",
            "text/plain": [
              "<Figure size 576x432 with 1 Axes>"
            ]
          },
          "metadata": {
            "tags": [],
            "needs_background": "light"
          }
        }
      ]
    }
  ]
}
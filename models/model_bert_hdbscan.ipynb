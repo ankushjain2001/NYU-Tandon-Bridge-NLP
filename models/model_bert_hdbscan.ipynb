{
  "nbformat": 4,
  "nbformat_minor": 0,
  "metadata": {
    "colab": {
      "name": "model_bert_clustering.ipynb",
      "provenance": [],
      "collapsed_sections": [],
      "toc_visible": true
    },
    "kernelspec": {
      "name": "python3",
      "display_name": "Python 3"
    },
    "widgets": {
      "application/vnd.jupyter.widget-state+json": {
        "9f1b81ab7b46458a9ed0d4871bba7510": {
          "model_module": "@jupyter-widgets/controls",
          "model_name": "HBoxModel",
          "state": {
            "_view_name": "HBoxView",
            "_dom_classes": [],
            "_model_name": "HBoxModel",
            "_view_module": "@jupyter-widgets/controls",
            "_model_module_version": "1.5.0",
            "_view_count": null,
            "_view_module_version": "1.5.0",
            "box_style": "",
            "layout": "IPY_MODEL_6f84edc6f2b947c5a94fb5dbc209f512",
            "_model_module": "@jupyter-widgets/controls",
            "children": [
              "IPY_MODEL_2846f260fa01416884fea30e8a1827df",
              "IPY_MODEL_05d20804dcaa46b292cb3520c624eccb"
            ]
          }
        },
        "6f84edc6f2b947c5a94fb5dbc209f512": {
          "model_module": "@jupyter-widgets/base",
          "model_name": "LayoutModel",
          "state": {
            "_view_name": "LayoutView",
            "grid_template_rows": null,
            "right": null,
            "justify_content": null,
            "_view_module": "@jupyter-widgets/base",
            "overflow": null,
            "_model_module_version": "1.2.0",
            "_view_count": null,
            "flex_flow": null,
            "width": null,
            "min_width": null,
            "border": null,
            "align_items": null,
            "bottom": null,
            "_model_module": "@jupyter-widgets/base",
            "top": null,
            "grid_column": null,
            "overflow_y": null,
            "overflow_x": null,
            "grid_auto_flow": null,
            "grid_area": null,
            "grid_template_columns": null,
            "flex": null,
            "_model_name": "LayoutModel",
            "justify_items": null,
            "grid_row": null,
            "max_height": null,
            "align_content": null,
            "visibility": null,
            "align_self": null,
            "height": null,
            "min_height": null,
            "padding": null,
            "grid_auto_rows": null,
            "grid_gap": null,
            "max_width": null,
            "order": null,
            "_view_module_version": "1.2.0",
            "grid_template_areas": null,
            "object_position": null,
            "object_fit": null,
            "grid_auto_columns": null,
            "margin": null,
            "display": null,
            "left": null
          }
        },
        "2846f260fa01416884fea30e8a1827df": {
          "model_module": "@jupyter-widgets/controls",
          "model_name": "FloatProgressModel",
          "state": {
            "_view_name": "ProgressView",
            "style": "IPY_MODEL_e0e7be7c92aa45e5961dea9ab69ace8d",
            "_dom_classes": [],
            "description": "Batches: 100%",
            "_model_name": "FloatProgressModel",
            "bar_style": "success",
            "max": 13,
            "_view_module": "@jupyter-widgets/controls",
            "_model_module_version": "1.5.0",
            "value": 13,
            "_view_count": null,
            "_view_module_version": "1.5.0",
            "orientation": "horizontal",
            "min": 0,
            "description_tooltip": null,
            "_model_module": "@jupyter-widgets/controls",
            "layout": "IPY_MODEL_704d4ab4f3934506bbaf3040316ace19"
          }
        },
        "05d20804dcaa46b292cb3520c624eccb": {
          "model_module": "@jupyter-widgets/controls",
          "model_name": "HTMLModel",
          "state": {
            "_view_name": "HTMLView",
            "style": "IPY_MODEL_f2021ddedd9a4d4c8619bbb70e64cc8f",
            "_dom_classes": [],
            "description": "",
            "_model_name": "HTMLModel",
            "placeholder": "​",
            "_view_module": "@jupyter-widgets/controls",
            "_model_module_version": "1.5.0",
            "value": " 13/13 [01:19&lt;00:00,  6.10s/it]",
            "_view_count": null,
            "_view_module_version": "1.5.0",
            "description_tooltip": null,
            "_model_module": "@jupyter-widgets/controls",
            "layout": "IPY_MODEL_ee9b03827850462c98d59366f6ccd4d4"
          }
        },
        "e0e7be7c92aa45e5961dea9ab69ace8d": {
          "model_module": "@jupyter-widgets/controls",
          "model_name": "ProgressStyleModel",
          "state": {
            "_view_name": "StyleView",
            "_model_name": "ProgressStyleModel",
            "description_width": "initial",
            "_view_module": "@jupyter-widgets/base",
            "_model_module_version": "1.5.0",
            "_view_count": null,
            "_view_module_version": "1.2.0",
            "bar_color": null,
            "_model_module": "@jupyter-widgets/controls"
          }
        },
        "704d4ab4f3934506bbaf3040316ace19": {
          "model_module": "@jupyter-widgets/base",
          "model_name": "LayoutModel",
          "state": {
            "_view_name": "LayoutView",
            "grid_template_rows": null,
            "right": null,
            "justify_content": null,
            "_view_module": "@jupyter-widgets/base",
            "overflow": null,
            "_model_module_version": "1.2.0",
            "_view_count": null,
            "flex_flow": null,
            "width": null,
            "min_width": null,
            "border": null,
            "align_items": null,
            "bottom": null,
            "_model_module": "@jupyter-widgets/base",
            "top": null,
            "grid_column": null,
            "overflow_y": null,
            "overflow_x": null,
            "grid_auto_flow": null,
            "grid_area": null,
            "grid_template_columns": null,
            "flex": null,
            "_model_name": "LayoutModel",
            "justify_items": null,
            "grid_row": null,
            "max_height": null,
            "align_content": null,
            "visibility": null,
            "align_self": null,
            "height": null,
            "min_height": null,
            "padding": null,
            "grid_auto_rows": null,
            "grid_gap": null,
            "max_width": null,
            "order": null,
            "_view_module_version": "1.2.0",
            "grid_template_areas": null,
            "object_position": null,
            "object_fit": null,
            "grid_auto_columns": null,
            "margin": null,
            "display": null,
            "left": null
          }
        },
        "f2021ddedd9a4d4c8619bbb70e64cc8f": {
          "model_module": "@jupyter-widgets/controls",
          "model_name": "DescriptionStyleModel",
          "state": {
            "_view_name": "StyleView",
            "_model_name": "DescriptionStyleModel",
            "description_width": "",
            "_view_module": "@jupyter-widgets/base",
            "_model_module_version": "1.5.0",
            "_view_count": null,
            "_view_module_version": "1.2.0",
            "_model_module": "@jupyter-widgets/controls"
          }
        },
        "ee9b03827850462c98d59366f6ccd4d4": {
          "model_module": "@jupyter-widgets/base",
          "model_name": "LayoutModel",
          "state": {
            "_view_name": "LayoutView",
            "grid_template_rows": null,
            "right": null,
            "justify_content": null,
            "_view_module": "@jupyter-widgets/base",
            "overflow": null,
            "_model_module_version": "1.2.0",
            "_view_count": null,
            "flex_flow": null,
            "width": null,
            "min_width": null,
            "border": null,
            "align_items": null,
            "bottom": null,
            "_model_module": "@jupyter-widgets/base",
            "top": null,
            "grid_column": null,
            "overflow_y": null,
            "overflow_x": null,
            "grid_auto_flow": null,
            "grid_area": null,
            "grid_template_columns": null,
            "flex": null,
            "_model_name": "LayoutModel",
            "justify_items": null,
            "grid_row": null,
            "max_height": null,
            "align_content": null,
            "visibility": null,
            "align_self": null,
            "height": null,
            "min_height": null,
            "padding": null,
            "grid_auto_rows": null,
            "grid_gap": null,
            "max_width": null,
            "order": null,
            "_view_module_version": "1.2.0",
            "grid_template_areas": null,
            "object_position": null,
            "object_fit": null,
            "grid_auto_columns": null,
            "margin": null,
            "display": null,
            "left": null
          }
        }
      }
    }
  },
  "cells": [
    {
      "cell_type": "markdown",
      "metadata": {
        "id": "hbkYL7ATtB1J"
      },
      "source": [
        "# **NYU Tandon Bridge - BERT + Clustering**\r\n",
        "https://towardsdatascience.com/topic-modeling-with-bert-779f7db187e6\r\n",
        "\r\n",
        "Others:\r\n",
        "https://github.com/ddangelov/Top2Vec\r\n",
        "https://github.com/MaartenGr/BERTopic"
      ]
    },
    {
      "cell_type": "code",
      "metadata": {
        "colab": {
          "base_uri": "https://localhost:8080/"
        },
        "id": "3w7I6A8WtA2r",
        "outputId": "5808f640-ee10-46e0-d561-3b38475a694f"
      },
      "source": [
        "!pip install -q sentence-transformers\r\n",
        "!pip install -q hdbscan\r\n",
        "!pip install -q umap-learn"
      ],
      "execution_count": null,
      "outputs": [
        {
          "output_type": "stream",
          "text": [
            "\u001b[K     |████████████████████████████████| 71kB 3.6MB/s \n",
            "\u001b[K     |████████████████████████████████| 1.8MB 7.7MB/s \n",
            "\u001b[K     |████████████████████████████████| 1.2MB 36.3MB/s \n",
            "\u001b[K     |████████████████████████████████| 890kB 37.9MB/s \n",
            "\u001b[K     |████████████████████████████████| 2.9MB 38.1MB/s \n",
            "\u001b[?25h  Building wheel for sentence-transformers (setup.py) ... \u001b[?25l\u001b[?25hdone\n",
            "  Building wheel for sacremoses (setup.py) ... \u001b[?25l\u001b[?25hdone\n",
            "\u001b[K     |████████████████████████████████| 6.4MB 4.3MB/s \n",
            "\u001b[?25h  Installing build dependencies ... \u001b[?25l\u001b[?25hdone\n",
            "  Getting requirements to build wheel ... \u001b[?25l\u001b[?25hdone\n",
            "    Preparing wheel metadata ... \u001b[?25l\u001b[?25hdone\n",
            "  Building wheel for hdbscan (PEP 517) ... \u001b[?25l\u001b[?25hdone\n"
          ],
          "name": "stdout"
        }
      ]
    },
    {
      "cell_type": "code",
      "metadata": {
        "colab": {
          "base_uri": "https://localhost:8080/"
        },
        "id": "lU7VYCGtoDai",
        "outputId": "9c78b536-37b9-47eb-cfaa-2c31bc3dc499"
      },
      "source": [
        "import re\r\n",
        "import json\r\n",
        "import numpy as np\r\n",
        "import pandas as pd\r\n",
        "import matplotlib.pyplot as plt\r\n",
        "\r\n",
        "import nltk\r\n",
        "from nltk.corpus import stopwords\r\n",
        "from nltk.tokenize import word_tokenize\r\n",
        "from nltk.stem import PorterStemmer, WordNetLemmatizer\r\n",
        "from sklearn.feature_extraction.text import TfidfVectorizer, CountVectorizer\r\n",
        "\r\n",
        "import umap\r\n",
        "import hdbscan\r\n",
        "from sentence_transformers import SentenceTransformer\r\n",
        "\r\n",
        "nltk.download('stopwords')\r\n",
        "nltk.download('wordnet')"
      ],
      "execution_count": null,
      "outputs": [
        {
          "output_type": "stream",
          "text": [
            "[nltk_data] Downloading package stopwords to /root/nltk_data...\n",
            "[nltk_data]   Unzipping corpora/stopwords.zip.\n",
            "[nltk_data] Downloading package wordnet to /root/nltk_data...\n",
            "[nltk_data]   Unzipping corpora/wordnet.zip.\n"
          ],
          "name": "stdout"
        },
        {
          "output_type": "execute_result",
          "data": {
            "text/plain": [
              "True"
            ]
          },
          "metadata": {
            "tags": []
          },
          "execution_count": 2
        }
      ]
    },
    {
      "cell_type": "markdown",
      "metadata": {
        "id": "dzGi8QJnqno5"
      },
      "source": [
        "## **A. Data Preprocessing**"
      ]
    },
    {
      "cell_type": "code",
      "metadata": {
        "id": "KhKInPI8qmFa"
      },
      "source": [
        "path = \"drive/MyDrive/data/tandon_bridge/\"\r\n",
        "# Import raw json data\r\n",
        "with open(path+\"data/preprocessed/transcripts.json\", \"r\") as f:\r\n",
        "    raw_transcript = json.load(f)\r\n",
        "\r\n",
        "with open(path+\"data/preprocessed/ppts.json\", \"r\") as f:\r\n",
        "    raw_ppt = json.load(f)"
      ],
      "execution_count": null,
      "outputs": []
    },
    {
      "cell_type": "code",
      "metadata": {
        "id": "4-WawU5hqmH8"
      },
      "source": [
        "# --- Data Preprocessing ------------------------------------------------------\r\n",
        "\r\n",
        "# # Init Spacy\r\n",
        "# nlp = spacy.load('en_core_web_lg')\r\n",
        "# Define the stop words list\r\n",
        "stop_words = set(stopwords.words('english'))\r\n",
        "# Define stemmer\r\n",
        "stemmer = PorterStemmer()\r\n",
        "# Define lemmatizer\r\n",
        "lemmatizer = WordNetLemmatizer()\r\n",
        "# Define tf-idf vectorizer\r\n",
        "vectorizer = TfidfVectorizer()\r\n",
        "\r\n",
        "\r\n",
        "# Text preprocessing pipeline for the model\r\n",
        "def text_preprocessing_1(lines):\r\n",
        "    # Join lines into a string\r\n",
        "    line = \" \".join(lines)\r\n",
        "    # Lowercase\r\n",
        "    line = line.lower()\r\n",
        "    # Remove symbols and numbers\r\n",
        "    # line = re.sub(r'[^a-zA-Z]+', ' ', line)\r\n",
        "    # Normalizing whitespaces\r\n",
        "    line = line.split()\r\n",
        "    # Remove stopwords and discards words of length < 3\r\n",
        "    # line = [token for token in line if token not in stop_words and len(token) > 3]\r\n",
        "    # Lemmatize the verbs and then stem\r\n",
        "    # line = [stemmer.stem(lemmatizer.lemmatize(token, pos='v')) for token in line]\r\n",
        "    # Join words to string\r\n",
        "    line = ' '.join(line)\r\n",
        "    return line\r\n",
        "\r\n",
        "\r\n",
        "# Converts raw data to dataframe where each doc is a slide or transcript para\r\n",
        "def convert_to_dataframe(raw_ppt, explode_col, text_col):\r\n",
        "    df = pd.DataFrame(raw_ppt)\r\n",
        "    df = df.explode(explode_col)\r\n",
        "    df.dropna(inplace=True)\r\n",
        "    df.reset_index(drop=True, inplace=True)\r\n",
        "    df = pd.concat([df, pd.DataFrame(df[explode_col].to_list())], axis=1)\r\n",
        "    df.drop(explode_col, axis=1, inplace=True)\r\n",
        "    df[text_col] = df[text_col].apply(text_preprocessing_1)\r\n",
        "    return df\r\n",
        "\r\n",
        "\r\n",
        "# Apply conversion\r\n",
        "df_ppt = convert_to_dataframe(raw_ppt, \"ppt\", \"slide_text\")\r\n",
        "df_transcript = convert_to_dataframe(raw_transcript, \"transcript\", \"data\")\r\n",
        "\r\n",
        "# Extract the text data\r\n",
        "# data = df_ppt[\"slide_text\"].to_list() + df_transcript[\"data\"].to_list()\r\n",
        "data = df_transcript[\"data\"].to_list()\r\n",
        "# data = df_ppt[\"slide_text\"].to_list()"
      ],
      "execution_count": null,
      "outputs": []
    },
    {
      "cell_type": "markdown",
      "metadata": {
        "id": "B111q7m-ybXO"
      },
      "source": [
        "## B. Embeddings"
      ]
    },
    {
      "cell_type": "code",
      "metadata": {
        "colab": {
          "base_uri": "https://localhost:8080/",
          "height": 83,
          "referenced_widgets": [
            "9f1b81ab7b46458a9ed0d4871bba7510",
            "6f84edc6f2b947c5a94fb5dbc209f512",
            "2846f260fa01416884fea30e8a1827df",
            "05d20804dcaa46b292cb3520c624eccb",
            "e0e7be7c92aa45e5961dea9ab69ace8d",
            "704d4ab4f3934506bbaf3040316ace19",
            "f2021ddedd9a4d4c8619bbb70e64cc8f",
            "ee9b03827850462c98d59366f6ccd4d4"
          ]
        },
        "id": "JVAfyo4iyTUr",
        "outputId": "8a81bf65-1215-49b5-960c-6a63fb0616eb"
      },
      "source": [
        "# Distilbert gives good speed + performance\r\n",
        "model = SentenceTransformer('distilbert-base-nli-mean-tokens')\r\n",
        "embeddings = model.encode(data, show_progress_bar=True)\r\n",
        "\r\n",
        "# IMPORTANT: Must make sure that the data adheres the 512 token limit of BERT.\r\n",
        "# ELSE SPLIT THE DOCS INTO MULTIPLE PARAGRAPHS "
      ],
      "execution_count": null,
      "outputs": [
        {
          "output_type": "stream",
          "text": [
            "100%|██████████| 245M/245M [00:12<00:00, 19.1MB/s]\n"
          ],
          "name": "stderr"
        },
        {
          "output_type": "display_data",
          "data": {
            "application/vnd.jupyter.widget-view+json": {
              "model_id": "9f1b81ab7b46458a9ed0d4871bba7510",
              "version_minor": 0,
              "version_major": 2
            },
            "text/plain": [
              "HBox(children=(FloatProgress(value=0.0, description='Batches', max=13.0, style=ProgressStyle(description_width…"
            ]
          },
          "metadata": {
            "tags": []
          }
        },
        {
          "output_type": "stream",
          "text": [
            "\n"
          ],
          "name": "stdout"
        }
      ]
    },
    {
      "cell_type": "markdown",
      "metadata": {
        "id": "E3QNT8dk3tAM"
      },
      "source": [
        "## C. Clustering\r\n",
        "\r\n",
        "It will help us in determining a suitable number of topics for the topic model.\r\n",
        "\r\n",
        "### C.1. Dimensionality Reduction (UMAP)"
      ]
    },
    {
      "cell_type": "code",
      "metadata": {
        "id": "2N0-mKnERHRP"
      },
      "source": [
        "neighbors = 10"
      ],
      "execution_count": null,
      "outputs": []
    },
    {
      "cell_type": "code",
      "metadata": {
        "id": "yN_-QcdlyV6x"
      },
      "source": [
        "umap_embeddings = umap.UMAP(n_neighbors=neighbors, \r\n",
        "                            n_components=5, \r\n",
        "                            metric='cosine').fit_transform(embeddings)"
      ],
      "execution_count": null,
      "outputs": []
    },
    {
      "cell_type": "code",
      "metadata": {
        "id": "GJqG_0r_qmKb"
      },
      "source": [
        "# data[1]"
      ],
      "execution_count": null,
      "outputs": []
    },
    {
      "cell_type": "markdown",
      "metadata": {
        "id": "_pVaZTDf6n9n"
      },
      "source": [
        "### C.2 Clustering (H-DBSCAN)"
      ]
    },
    {
      "cell_type": "code",
      "metadata": {
        "id": "mfwXhZyZ7V1H"
      },
      "source": [
        "cluster = hdbscan.HDBSCAN(min_cluster_size=neighbors,\r\n",
        "                          metric='euclidean',                      \r\n",
        "                          cluster_selection_method='eom').fit(umap_embeddings)"
      ],
      "execution_count": null,
      "outputs": []
    },
    {
      "cell_type": "code",
      "metadata": {
        "id": "84wyZ13AqmZZ"
      },
      "source": [
        "umap_data = umap.UMAP(n_neighbors=neighbors, n_components=2, min_dist=0.0, metric='cosine').fit_transform(embeddings)\r\n",
        "result = pd.DataFrame(umap_data, columns=['x', 'y'])\r\n",
        "result['labels'] = cluster.labels_"
      ],
      "execution_count": null,
      "outputs": []
    },
    {
      "cell_type": "code",
      "metadata": {
        "colab": {
          "base_uri": "https://localhost:8080/",
          "height": 613
        },
        "id": "588AoNjE7uJ-",
        "outputId": "ef635028-8023-4c64-d68c-1e64a0b5547e"
      },
      "source": [
        "# Visualize clusters\r\n",
        "fig, ax = plt.subplots(figsize=(20, 10))\r\n",
        "outliers = result.loc[result.labels == -1, :]\r\n",
        "clustered = result.loc[result.labels != -1, :]\r\n",
        "plt.scatter(outliers.x, outliers.y, color='black', s=0.5)\r\n",
        "plt.scatter(clustered.x, clustered.y, c=clustered.labels, s=4, cmap='hsv_r')\r\n",
        "plt.colorbar()"
      ],
      "execution_count": null,
      "outputs": [
        {
          "output_type": "execute_result",
          "data": {
            "text/plain": [
              "<matplotlib.colorbar.Colorbar at 0x7f98240fdda0>"
            ]
          },
          "metadata": {
            "tags": []
          },
          "execution_count": 21
        },
        {
          "output_type": "display_data",
          "data": {
            "image/png": "[encoded data removed]",
            "text/plain": [
              "<Figure size 1440x720 with 2 Axes>"
            ]
          },
          "metadata": {
            "tags": [],
            "needs_background": "light"
          }
        }
      ]
    },
    {
      "cell_type": "markdown",
      "metadata": {
        "id": "ZQrr7RkC_8gC"
      },
      "source": [
        "### C.3. Classwise TF-IDF"
      ]
    },
    {
      "cell_type": "code",
      "metadata": {
        "id": "OpBNGQVW_7nM"
      },
      "source": [
        "# Prepare df\r\n",
        "docs_df = pd.DataFrame(data, columns=[\"Doc\"])\r\n",
        "docs_df['Topic'] = cluster.labels_\r\n",
        "docs_df['Doc_ID'] = range(len(docs_df))\r\n",
        "docs_per_topic = docs_df.groupby(['Topic'], as_index = False).agg({'Doc': ' '.join})"
      ],
      "execution_count": null,
      "outputs": []
    },
    {
      "cell_type": "code",
      "metadata": {
        "id": "RLvtX4nJAmp4"
      },
      "source": [
        "# Classwise tf-idf\r\n",
        "def c_tf_idf(documents, m, ngram_range=(1, 1)):\r\n",
        "    count = CountVectorizer(ngram_range=ngram_range, stop_words=\"english\").fit(documents)\r\n",
        "    t = count.transform(documents).toarray()\r\n",
        "    w = t.sum(axis=1)\r\n",
        "    tf = np.divide(t.T, w)\r\n",
        "    sum_t = t.sum(axis=0)\r\n",
        "    idf = np.log(np.divide(m, sum_t)).reshape(-1, 1)\r\n",
        "    tf_idf = np.multiply(tf, idf)\r\n",
        "\r\n",
        "    return tf_idf, count"
      ],
      "execution_count": null,
      "outputs": []
    },
    {
      "cell_type": "code",
      "metadata": {
        "id": "VgOrRpn3AtlW"
      },
      "source": [
        "# Apply tfidf and get scores for each word\r\n",
        "tf_idf, count = c_tf_idf(docs_per_topic.Doc.values, m=len(data))"
      ],
      "execution_count": null,
      "outputs": []
    },
    {
      "cell_type": "markdown",
      "metadata": {
        "id": "Ub1rhLZ4CjrD"
      },
      "source": [
        "## D. Topic Creation"
      ]
    },
    {
      "cell_type": "code",
      "metadata": {
        "colab": {
          "base_uri": "https://localhost:8080/",
          "height": 266
        },
        "id": "zcFblXitB1-M",
        "outputId": "1a74a06c-f6ec-4e78-b870-67fe268931a5"
      },
      "source": [
        "def extract_top_n_words_per_topic(tf_idf, count, docs_per_topic, n=20):\r\n",
        "    words = count.get_feature_names()\r\n",
        "    labels = list(docs_per_topic.Topic)\r\n",
        "    tf_idf_transposed = tf_idf.T\r\n",
        "    indices = tf_idf_transposed.argsort()[:, -n:]\r\n",
        "    top_n_words = {label: [(words[j], tf_idf_transposed[i][j]) for j in indices[i]][::-1] for i, label in enumerate(labels)}\r\n",
        "    return top_n_words\r\n",
        "\r\n",
        "def extract_topic_sizes(df):\r\n",
        "    topic_sizes = (df.groupby(['Topic'])\r\n",
        "                     .Doc\r\n",
        "                     .count()\r\n",
        "                     .reset_index()\r\n",
        "                     .rename({\"Topic\": \"Topic\", \"Doc\": \"Size\"}, axis='columns')\r\n",
        "                     .sort_values(\"Size\", ascending=False))\r\n",
        "    return topic_sizes\r\n",
        "\r\n",
        "top_n_words = extract_top_n_words_per_topic(tf_idf, count, docs_per_topic, n=20)\r\n",
        "topic_sizes = extract_topic_sizes(docs_df); \r\n",
        "topic_sizes.head(10)"
      ],
      "execution_count": null,
      "outputs": [
        {
          "output_type": "execute_result",
          "data": {
            "text/html": [
              "<div>\n",
              "<style scoped>\n",
              "    .dataframe tbody tr th:only-of-type {\n",
              "        vertical-align: middle;\n",
              "    }\n",
              "\n",
              "    .dataframe tbody tr th {\n",
              "        vertical-align: top;\n",
              "    }\n",
              "\n",
              "    .dataframe thead th {\n",
              "        text-align: right;\n",
              "    }\n",
              "</style>\n",
              "<table border=\"1\" class=\"dataframe\">\n",
              "  <thead>\n",
              "    <tr style=\"text-align: right;\">\n",
              "      <th></th>\n",
              "      <th>Topic</th>\n",
              "      <th>Size</th>\n",
              "    </tr>\n",
              "  </thead>\n",
              "  <tbody>\n",
              "    <tr>\n",
              "      <th>0</th>\n",
              "      <td>-1</td>\n",
              "      <td>191</td>\n",
              "    </tr>\n",
              "    <tr>\n",
              "      <th>1</th>\n",
              "      <td>0</td>\n",
              "      <td>61</td>\n",
              "    </tr>\n",
              "    <tr>\n",
              "      <th>5</th>\n",
              "      <td>4</td>\n",
              "      <td>50</td>\n",
              "    </tr>\n",
              "    <tr>\n",
              "      <th>6</th>\n",
              "      <td>5</td>\n",
              "      <td>36</td>\n",
              "    </tr>\n",
              "    <tr>\n",
              "      <th>4</th>\n",
              "      <td>3</td>\n",
              "      <td>29</td>\n",
              "    </tr>\n",
              "    <tr>\n",
              "      <th>2</th>\n",
              "      <td>1</td>\n",
              "      <td>23</td>\n",
              "    </tr>\n",
              "    <tr>\n",
              "      <th>3</th>\n",
              "      <td>2</td>\n",
              "      <td>19</td>\n",
              "    </tr>\n",
              "  </tbody>\n",
              "</table>\n",
              "</div>"
            ],
            "text/plain": [
              "   Topic  Size\n",
              "0     -1   191\n",
              "1      0    61\n",
              "5      4    50\n",
              "6      5    36\n",
              "4      3    29\n",
              "2      1    23\n",
              "3      2    19"
            ]
          },
          "metadata": {
            "tags": []
          },
          "execution_count": 16
        }
      ]
    },
    {
      "cell_type": "markdown",
      "metadata": {
        "id": "H8lF06ZxLgQ3"
      },
      "source": [
        "## TOPIC WORDS"
      ]
    },
    {
      "cell_type": "code",
      "metadata": {
        "id": "0yZnugCFEYAg"
      },
      "source": [
        "topic_words = {}\r\n",
        "for i in range(len(top_n_words)-1):\r\n",
        "  w = []\r\n",
        "  for j in top_n_words[i]:\r\n",
        "    w.append(j[0])\r\n",
        "  topic_words[i] = w"
      ],
      "execution_count": null,
      "outputs": []
    },
    {
      "cell_type": "code",
      "metadata": {
        "colab": {
          "base_uri": "https://localhost:8080/"
        },
        "id": "WHPVBIyuK9uB",
        "outputId": "930286ea-40f7-4f70-d318-8b1bc5f19a78"
      },
      "source": [
        "topic_words"
      ],
      "execution_count": null,
      "outputs": [
        {
          "output_type": "execute_result",
          "data": {
            "text/plain": [
              "{0: ['branch',\n",
              "  'registers',\n",
              "  'register',\n",
              "  'stage',\n",
              "  'fetch',\n",
              "  'ram',\n",
              "  'load',\n",
              "  'cpu',\n",
              "  'machine',\n",
              "  'level',\n",
              "  'segment',\n",
              "  'controller',\n",
              "  'address',\n",
              "  'cache',\n",
              "  'target',\n",
              "  'offset',\n",
              "  'pipeline',\n",
              "  'instructions',\n",
              "  'alu',\n",
              "  'doubleword'],\n",
              " 1: ['digits',\n",
              "  'digit',\n",
              "  'solutions',\n",
              "  'quadratic',\n",
              "  '375',\n",
              "  '10',\n",
              "  'equation',\n",
              "  'word',\n",
              "  'num',\n",
              "  'real',\n",
              "  'sum',\n",
              "  'sorted',\n",
              "  'fourteen',\n",
              "  'count',\n",
              "  'counting',\n",
              "  'thirteen',\n",
              "  'half',\n",
              "  'squared',\n",
              "  'decimal',\n",
              "  'solution'],\n",
              " 2: ['ileft',\n",
              "  'grades',\n",
              "  'iright',\n",
              "  'merged',\n",
              "  'balance',\n",
              "  'average',\n",
              "  'ind',\n",
              "  'grade',\n",
              "  'students',\n",
              "  'merge',\n",
              "  'ones',\n",
              "  'tens',\n",
              "  'factorial',\n",
              "  'grouped',\n",
              "  'octal',\n",
              "  'ires',\n",
              "  'numb',\n",
              "  'dollars',\n",
              "  'index',\n",
              "  'deposit'],\n",
              " 3: ['reference',\n",
              "  'assumption',\n",
              "  'ascending',\n",
              "  'absolute',\n",
              "  'true',\n",
              "  'input',\n",
              "  'negative',\n",
              "  'odd',\n",
              "  'digits',\n",
              "  'induction',\n",
              "  'power',\n",
              "  'smaller',\n",
              "  'statement',\n",
              "  'passing',\n",
              "  'sum',\n",
              "  '26',\n",
              "  'numbers',\n",
              "  'minus',\n",
              "  'positive',\n",
              "  'representation'],\n",
              " 4: ['threads',\n",
              "  'lock',\n",
              "  'deadlock',\n",
              "  'red',\n",
              "  'thread',\n",
              "  'waiting',\n",
              "  'processes',\n",
              "  'null',\n",
              "  'black',\n",
              "  'page',\n",
              "  'open',\n",
              "  'block',\n",
              "  'wait',\n",
              "  'semaphore',\n",
              "  'ptr',\n",
              "  'signal',\n",
              "  'run',\n",
              "  'suspended',\n",
              "  'sort',\n",
              "  'critical'],\n",
              " 5: ['buffer',\n",
              "  'state',\n",
              "  'ready',\n",
              "  'module',\n",
              "  'talk',\n",
              "  'running',\n",
              "  'supplier',\n",
              "  'resources',\n",
              "  'templated',\n",
              "  'demander',\n",
              "  'operating',\n",
              "  'cover',\n",
              "  'care',\n",
              "  'present',\n",
              "  'threads',\n",
              "  'programming',\n",
              "  'template',\n",
              "  'type',\n",
              "  'processor',\n",
              "  'pcb']}"
            ]
          },
          "metadata": {
            "tags": []
          },
          "execution_count": 18
        }
      ]
    }
  ]
}
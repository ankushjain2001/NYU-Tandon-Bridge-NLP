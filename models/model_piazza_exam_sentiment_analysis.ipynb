{
  "nbformat": 4,
  "nbformat_minor": 0,
  "metadata": {
    "colab": {
      "name": "piazza_timestamp_sentiment_analysis.ipynb",
      "provenance": [],
      "collapsed_sections": [],
      "toc_visible": true
    },
    "kernelspec": {
      "name": "python3",
      "display_name": "Python 3"
    },
    "language_info": {
      "name": "python"
    }
  },
  "cells": [
    {
      "cell_type": "code",
      "metadata": {
        "id": "Q3PEeRJrGl8L"
      },
      "source": [
        "!pip install -q sentence-transformers\n",
        "!pip install -q umap-learn"
      ],
      "execution_count": null,
      "outputs": []
    },
    {
      "cell_type": "code",
      "metadata": {
        "colab": {
          "base_uri": "https://localhost:8080/"
        },
        "id": "1V_qOBLPGwI1",
        "outputId": "2a9223cc-909d-4170-982a-556bdf94891b"
      },
      "source": [
        "import re\n",
        "import json\n",
        "import numpy as np\n",
        "import pandas as pd\n",
        "import matplotlib.pyplot as plt\n",
        "import random\n",
        "\n",
        "import nltk\n",
        "from nltk.corpus import stopwords\n",
        "from nltk.tokenize import word_tokenize\n",
        "from nltk.stem import PorterStemmer, WordNetLemmatizer\n",
        "\n",
        "from scipy import spatial\n",
        "from collections import defaultdict\n",
        "from sklearn.cluster import KMeans\n",
        "from sklearn.preprocessing import MinMaxScaler\n",
        "from sklearn.feature_extraction.text import TfidfVectorizer, CountVectorizer\n",
        "\n",
        "import umap\n",
        "from sentence_transformers import SentenceTransformer\n",
        "from bs4 import BeautifulSoup\n",
        "from datetime import datetime\n",
        "\n",
        "nltk.download('stopwords')\n",
        "nltk.download('wordnet')"
      ],
      "execution_count": null,
      "outputs": [
        {
          "output_type": "stream",
          "text": [
            "[nltk_data] Downloading package stopwords to /root/nltk_data...\n",
            "[nltk_data]   Package stopwords is already up-to-date!\n",
            "[nltk_data] Downloading package wordnet to /root/nltk_data...\n",
            "[nltk_data]   Package wordnet is already up-to-date!\n"
          ],
          "name": "stdout"
        },
        {
          "output_type": "execute_result",
          "data": {
            "text/plain": [
              "True"
            ]
          },
          "metadata": {
            "tags": []
          },
          "execution_count": 2
        }
      ]
    },
    {
      "cell_type": "code",
      "metadata": {
        "colab": {
          "base_uri": "https://localhost:8080/"
        },
        "id": "pzonW6s1XobU",
        "outputId": "af5d51fb-6a85-4724-dd70-18f965dad3f7"
      },
      "source": [
        "from google.colab import drive\n",
        "drive.mount('/content/drive')"
      ],
      "execution_count": null,
      "outputs": [
        {
          "output_type": "stream",
          "text": [
            "Drive already mounted at /content/drive; to attempt to forcibly remount, call drive.mount(\"/content/drive\", force_remount=True).\n"
          ],
          "name": "stdout"
        }
      ]
    },
    {
      "cell_type": "code",
      "metadata": {
        "id": "-xjMcfGKG47y"
      },
      "source": [
        "path = \"/content/drive/MyDrive/NYU-Tandon_Bridge/\"\n",
        "# Import raw json data\n",
        "#with open(path+\"'Piazza Data'/'Summer 2020 (24 Weeks)'/piazza_posts_data.csv\", \"r\") as f:\n",
        "#    raw_transcript = json.load(f)\n",
        "df_posts = pd.read_csv('/content/drive/MyDrive/NYU-Tandon_Bridge/Piazza_Data/piazza_posts_data.csv')\n",
        "df_followups = pd.read_csv('/content/drive/MyDrive/NYU-Tandon_Bridge/Piazza_Data/piazza_followups_data.csv')"
      ],
      "execution_count": null,
      "outputs": []
    },
    {
      "cell_type": "code",
      "metadata": {
        "id": "mxRQmoAIItS0"
      },
      "source": [
        "df_posts['type'] = 'post'"
      ],
      "execution_count": null,
      "outputs": []
    },
    {
      "cell_type": "code",
      "metadata": {
        "colab": {
          "base_uri": "https://localhost:8080/",
          "height": 581
        },
        "id": "ObvtywTXG2ni",
        "outputId": "e6f1b058-a8c4-4d80-cd18-2beb58d68171"
      },
      "source": [
        "df_posts.head()"
      ],
      "execution_count": null,
      "outputs": [
        {
          "output_type": "execute_result",
          "data": {
            "text/html": [
              "<div>\n",
              "<style scoped>\n",
              "    .dataframe tbody tr th:only-of-type {\n",
              "        vertical-align: middle;\n",
              "    }\n",
              "\n",
              "    .dataframe tbody tr th {\n",
              "        vertical-align: top;\n",
              "    }\n",
              "\n",
              "    .dataframe thead th {\n",
              "        text-align: right;\n",
              "    }\n",
              "</style>\n",
              "<table border=\"1\" class=\"dataframe\">\n",
              "  <thead>\n",
              "    <tr style=\"text-align: right;\">\n",
              "      <th></th>\n",
              "      <th>Unnamed: 0</th>\n",
              "      <th>anon</th>\n",
              "      <th>uid</th>\n",
              "      <th>subject</th>\n",
              "      <th>created</th>\n",
              "      <th>content</th>\n",
              "      <th>post_id</th>\n",
              "      <th>is_instructor</th>\n",
              "      <th>uid_a</th>\n",
              "      <th>unique_id</th>\n",
              "      <th>length</th>\n",
              "      <th>length_cont</th>\n",
              "      <th>length_subj</th>\n",
              "      <th>type</th>\n",
              "    </tr>\n",
              "  </thead>\n",
              "  <tbody>\n",
              "    <tr>\n",
              "      <th>0</th>\n",
              "      <td>0</td>\n",
              "      <td>no</td>\n",
              "      <td>jqjrav14ehv5px</td>\n",
              "      <td>Indu Office Hours Tomorrow (Wed), 8:00pm</td>\n",
              "      <td>2020-12-15T23:25:00Z</td>\n",
              "      <td>&lt;p&gt;Hi everyone, I&amp;#39;m doing office hours tom...</td>\n",
              "      <td>kiqm5i2z9sr59d</td>\n",
              "      <td>True</td>\n",
              "      <td>NaN</td>\n",
              "      <td>kiqm5i2z9sr59d</td>\n",
              "      <td>162</td>\n",
              "      <td>122</td>\n",
              "      <td>40</td>\n",
              "      <td>post</td>\n",
              "    </tr>\n",
              "    <tr>\n",
              "      <th>1</th>\n",
              "      <td>1</td>\n",
              "      <td>no</td>\n",
              "      <td>jrleouqzv0p38x</td>\n",
              "      <td>Exam 4 Review Session</td>\n",
              "      <td>2020-12-14T04:30:22Z</td>\n",
              "      <td>We will hold an Exam 4 Review Session on Tuesd...</td>\n",
              "      <td>kinbscfohpv2gw</td>\n",
              "      <td>True</td>\n",
              "      <td>NaN</td>\n",
              "      <td>kinbscfohpv2gw</td>\n",
              "      <td>241</td>\n",
              "      <td>220</td>\n",
              "      <td>21</td>\n",
              "      <td>post</td>\n",
              "    </tr>\n",
              "    <tr>\n",
              "      <th>2</th>\n",
              "      <td>2</td>\n",
              "      <td>no</td>\n",
              "      <td>jrleouqzv0p38x</td>\n",
              "      <td>HW19 graded</td>\n",
              "      <td>2020-12-12T04:26:06Z</td>\n",
              "      <td>&lt;p&gt;Statistics:&lt;br /&gt;  Minimum: 80.0&lt;br /&gt;  Max...</td>\n",
              "      <td>kil75hfuiaq6dv</td>\n",
              "      <td>True</td>\n",
              "      <td>NaN</td>\n",
              "      <td>kil75hfuiaq6dv</td>\n",
              "      <td>164</td>\n",
              "      <td>153</td>\n",
              "      <td>11</td>\n",
              "      <td>post</td>\n",
              "    </tr>\n",
              "    <tr>\n",
              "      <th>3</th>\n",
              "      <td>3</td>\n",
              "      <td>no</td>\n",
              "      <td>jrleouqzv0p38x</td>\n",
              "      <td>practice_exam_4.pdf has been added to class re...</td>\n",
              "      <td>2020-12-11T18:44:03Z</td>\n",
              "      <td>&lt;p&gt;Practice exam 4, both with and without solu...</td>\n",
              "      <td>kikmcylylgq3z0</td>\n",
              "      <td>True</td>\n",
              "      <td>NaN</td>\n",
              "      <td>kikmcylylgq3z0</td>\n",
              "      <td>687</td>\n",
              "      <td>605</td>\n",
              "      <td>82</td>\n",
              "      <td>post</td>\n",
              "    </tr>\n",
              "    <tr>\n",
              "      <th>4</th>\n",
              "      <td>4</td>\n",
              "      <td>no</td>\n",
              "      <td>jrleouqzv0p38x</td>\n",
              "      <td>HW16 grades released</td>\n",
              "      <td>2020-11-16T19:12:14Z</td>\n",
              "      <td>&lt;p&gt;Statistics:&lt;br /&gt;  Minimum: -50.0&lt;br /&gt;  Ma...</td>\n",
              "      <td>khkxcw8kfcw2b0</td>\n",
              "      <td>True</td>\n",
              "      <td>NaN</td>\n",
              "      <td>khkxcw8kfcw2b0</td>\n",
              "      <td>175</td>\n",
              "      <td>155</td>\n",
              "      <td>20</td>\n",
              "      <td>post</td>\n",
              "    </tr>\n",
              "  </tbody>\n",
              "</table>\n",
              "</div>"
            ],
            "text/plain": [
              "   Unnamed: 0 anon             uid  ... length_cont length_subj  type\n",
              "0           0   no  jqjrav14ehv5px  ...         122          40  post\n",
              "1           1   no  jrleouqzv0p38x  ...         220          21  post\n",
              "2           2   no  jrleouqzv0p38x  ...         153          11  post\n",
              "3           3   no  jrleouqzv0p38x  ...         605          82  post\n",
              "4           4   no  jrleouqzv0p38x  ...         155          20  post\n",
              "\n",
              "[5 rows x 14 columns]"
            ]
          },
          "metadata": {
            "tags": []
          },
          "execution_count": 6
        }
      ]
    },
    {
      "cell_type": "code",
      "metadata": {
        "colab": {
          "base_uri": "https://localhost:8080/",
          "height": 445
        },
        "id": "u2tWLqydG_0L",
        "outputId": "f6a1eb24-fe72-4253-e962-abb1c6f7d038"
      },
      "source": [
        "df_followups.head()"
      ],
      "execution_count": null,
      "outputs": [
        {
          "output_type": "execute_result",
          "data": {
            "text/html": [
              "<div>\n",
              "<style scoped>\n",
              "    .dataframe tbody tr th:only-of-type {\n",
              "        vertical-align: middle;\n",
              "    }\n",
              "\n",
              "    .dataframe tbody tr th {\n",
              "        vertical-align: top;\n",
              "    }\n",
              "\n",
              "    .dataframe thead th {\n",
              "        text-align: right;\n",
              "    }\n",
              "</style>\n",
              "<table border=\"1\" class=\"dataframe\">\n",
              "  <thead>\n",
              "    <tr style=\"text-align: right;\">\n",
              "      <th></th>\n",
              "      <th>Unnamed: 0</th>\n",
              "      <th>post_id</th>\n",
              "      <th>followup_id</th>\n",
              "      <th>followup_level</th>\n",
              "      <th>anon</th>\n",
              "      <th>subject</th>\n",
              "      <th>data</th>\n",
              "      <th>created</th>\n",
              "      <th>type</th>\n",
              "      <th>uid</th>\n",
              "      <th>is_instructor</th>\n",
              "      <th>content</th>\n",
              "      <th>unique_id</th>\n",
              "      <th>length_subj</th>\n",
              "      <th>length_cont</th>\n",
              "      <th>length</th>\n",
              "    </tr>\n",
              "  </thead>\n",
              "  <tbody>\n",
              "    <tr>\n",
              "      <th>0</th>\n",
              "      <td>0</td>\n",
              "      <td>kiqm5i2z9sr59d</td>\n",
              "      <td>kiqn9oawib35f7</td>\n",
              "      <td>1</td>\n",
              "      <td>no</td>\n",
              "      <td>&lt;p&gt;thanks indu! &lt;/p&gt;</td>\n",
              "      <td>NaN</td>\n",
              "      <td>2020-12-15T23:56:07Z</td>\n",
              "      <td>followup</td>\n",
              "      <td>kccpr2zaayq2i8</td>\n",
              "      <td>False</td>\n",
              "      <td>NaN</td>\n",
              "      <td>kiqn9oawib35f7</td>\n",
              "      <td>20</td>\n",
              "      <td>0</td>\n",
              "      <td>20</td>\n",
              "    </tr>\n",
              "    <tr>\n",
              "      <th>1</th>\n",
              "      <td>1</td>\n",
              "      <td>kiqm5i2z9sr59d</td>\n",
              "      <td>kiqnx4swc0d1wr</td>\n",
              "      <td>2</td>\n",
              "      <td>no</td>\n",
              "      <td>&lt;p&gt;you&amp;#39;re welcome :) &lt;/p&gt;</td>\n",
              "      <td>NaN</td>\n",
              "      <td>2020-12-16T00:14:21Z</td>\n",
              "      <td>feedback</td>\n",
              "      <td>jqjrav14ehv5px</td>\n",
              "      <td>True</td>\n",
              "      <td>NaN</td>\n",
              "      <td>kiqnx4swc0d1wr</td>\n",
              "      <td>29</td>\n",
              "      <td>0</td>\n",
              "      <td>29</td>\n",
              "    </tr>\n",
              "    <tr>\n",
              "      <th>2</th>\n",
              "      <td>2</td>\n",
              "      <td>kinbscfohpv2gw</td>\n",
              "      <td>kiquh9odhyq725</td>\n",
              "      <td>1</td>\n",
              "      <td>no</td>\n",
              "      <td>&lt;p&gt;Hi,&lt;/p&gt;\\n&lt;p&gt;   Is there a way to watch the ...</td>\n",
              "      <td>NaN</td>\n",
              "      <td>2020-12-16T03:17:58Z</td>\n",
              "      <td>followup</td>\n",
              "      <td>kccprc7jxli2uy</td>\n",
              "      <td>False</td>\n",
              "      <td>NaN</td>\n",
              "      <td>kiquh9odhyq725</td>\n",
              "      <td>130</td>\n",
              "      <td>0</td>\n",
              "      <td>130</td>\n",
              "    </tr>\n",
              "    <tr>\n",
              "      <th>3</th>\n",
              "      <td>3</td>\n",
              "      <td>kinbscfohpv2gw</td>\n",
              "      <td>kiqukzuame57in</td>\n",
              "      <td>2</td>\n",
              "      <td>no</td>\n",
              "      <td>&lt;p&gt;It is recorded in the Zoom section of NYU C...</td>\n",
              "      <td>NaN</td>\n",
              "      <td>2020-12-16T03:20:52Z</td>\n",
              "      <td>feedback</td>\n",
              "      <td>k54tq3hzuyo33f</td>\n",
              "      <td>False</td>\n",
              "      <td>NaN</td>\n",
              "      <td>kiqukzuame57in</td>\n",
              "      <td>57</td>\n",
              "      <td>0</td>\n",
              "      <td>57</td>\n",
              "    </tr>\n",
              "    <tr>\n",
              "      <th>4</th>\n",
              "      <td>4</td>\n",
              "      <td>kinbscfohpv2gw</td>\n",
              "      <td>kiqx0mcfdvt26r</td>\n",
              "      <td>2</td>\n",
              "      <td>no</td>\n",
              "      <td>&lt;p&gt;Do I need to use my nyu@email to get access...</td>\n",
              "      <td>NaN</td>\n",
              "      <td>2020-12-16T04:29:00Z</td>\n",
              "      <td>feedback</td>\n",
              "      <td>kccprc7jxli2uy</td>\n",
              "      <td>False</td>\n",
              "      <td>NaN</td>\n",
              "      <td>kiqx0mcfdvt26r</td>\n",
              "      <td>63</td>\n",
              "      <td>0</td>\n",
              "      <td>63</td>\n",
              "    </tr>\n",
              "  </tbody>\n",
              "</table>\n",
              "</div>"
            ],
            "text/plain": [
              "   Unnamed: 0         post_id     followup_id  ...  length_subj length_cont length\n",
              "0           0  kiqm5i2z9sr59d  kiqn9oawib35f7  ...           20           0     20\n",
              "1           1  kiqm5i2z9sr59d  kiqnx4swc0d1wr  ...           29           0     29\n",
              "2           2  kinbscfohpv2gw  kiquh9odhyq725  ...          130           0    130\n",
              "3           3  kinbscfohpv2gw  kiqukzuame57in  ...           57           0     57\n",
              "4           4  kinbscfohpv2gw  kiqx0mcfdvt26r  ...           63           0     63\n",
              "\n",
              "[5 rows x 16 columns]"
            ]
          },
          "metadata": {
            "tags": []
          },
          "execution_count": 7
        }
      ]
    },
    {
      "cell_type": "code",
      "metadata": {
        "id": "sFjGjXyqHBab"
      },
      "source": [
        "# --- Data Preprocessing ------------------------------------------------------\n",
        "\n",
        "# # Init Spacy\n",
        "# nlp = spacy.load('en_core_web_lg')\n",
        "# Define the stop words list\n",
        "stop_words = set(stopwords.words('english'))\n",
        "# Define stemmer\n",
        "stemmer = PorterStemmer()\n",
        "# Define lemmatizer\n",
        "lemmatizer = WordNetLemmatizer()\n",
        "# Define tf-idf vectorizer\n",
        "vectorizer = TfidfVectorizer()\n",
        "\n",
        "\n",
        "# Text preprocessing pipeline for the model\n",
        "def text_preprocessing_1(lines):\n",
        "    # remove html tags\n",
        "    soup = BeautifulSoup(str(lines))\n",
        "    lines = soup.get_text()\n",
        "    lines = lines.lower()\n",
        "    lines = re.sub('[\\r\\n]+', ' ', lines)\n",
        "    lines = re.sub('[\\xa0]+', '', lines)\n",
        "    return lines\n",
        "\n",
        "\n",
        "# Converts raw data to dataframe where each doc is a slide or transcript para\n",
        "def clean_dataframe(df, text_col):\n",
        "    df.dropna(subset=[text_col], inplace=True)\n",
        "    df.reset_index(drop=True, inplace=True)\n",
        "    df[text_col] = df[text_col].apply(text_preprocessing_1)\n",
        "    return df\n",
        "\n",
        "\n",
        "# df_posts = df_posts[['uid', 'content']]\n",
        "# df_followups = df_followups[['uid', 'subject']]\n",
        "\n",
        "# Apply conversion\n",
        "df_posts = clean_dataframe(df_posts, \"content\")\n",
        "df_followups = clean_dataframe(df_followups, \"subject\")\n",
        "\n",
        "\n",
        "\n"
      ],
      "execution_count": null,
      "outputs": []
    },
    {
      "cell_type": "code",
      "metadata": {
        "id": "CS8QFtARIByO"
      },
      "source": [
        "df_posts = df_posts[['unique_id', 'uid', 'created', 'type', 'is_instructor', 'anon', 'subject', 'content']]\n",
        "df_followups = df_followups[['unique_id', 'uid', 'created', 'type', 'is_instructor', 'anon', 'subject', 'content']]"
      ],
      "execution_count": null,
      "outputs": []
    },
    {
      "cell_type": "code",
      "metadata": {
        "id": "SqYaxsaqHDBK"
      },
      "source": [
        "# df_posts['text'] = df_posts['content']\n",
        "# df_followups['text'] = df_followups['subject']\n",
        "# df_posts.drop('content', inplace=True, axis=1)\n",
        "# df_followups.drop('subject', inplace=True, axis=1)"
      ],
      "execution_count": null,
      "outputs": []
    },
    {
      "cell_type": "markdown",
      "metadata": {
        "id": "UgkGepGlJiE2"
      },
      "source": [
        "### Preprocess the combined data"
      ]
    },
    {
      "cell_type": "code",
      "metadata": {
        "id": "kR0GJrU0HH7B"
      },
      "source": [
        "df = pd.concat([df_posts, df_followups])\n",
        "# Keep only non anonymous students and remove instructors - 1511 rows/participations\n",
        "# df = df[df['anon'] == 'no']\n",
        "df = df[df['is_instructor'] == False]\n",
        "# Convert datetime\n",
        "df['created'] =  pd.to_datetime(df['created'], )\n",
        "# Sort by time and reset index\n",
        "df.sort_values(by=['created'], inplace=True, ascending=True)\n",
        "df.reset_index(drop=True, inplace=True)\n",
        "# Replace nan in subject and content\n",
        "df['content'] = df['content'].replace(np.nan, '', regex=True)\n",
        "df['subject'] = df['subject'].replace(np.nan, '', regex=True)\n",
        "df['data_content'] = df['subject'].fillna('') + ' ' + df['content'].fillna('')"
      ],
      "execution_count": null,
      "outputs": []
    },
    {
      "cell_type": "code",
      "metadata": {
        "colab": {
          "base_uri": "https://localhost:8080/",
          "height": 1000
        },
        "id": "fXNzuwLtLA5e",
        "outputId": "758d88da-c0ff-4e7c-97d4-7dc5f3f6c6ff"
      },
      "source": [
        "df.head(20)"
      ],
      "execution_count": null,
      "outputs": [
        {
          "output_type": "execute_result",
          "data": {
            "text/html": [
              "<div>\n",
              "<style scoped>\n",
              "    .dataframe tbody tr th:only-of-type {\n",
              "        vertical-align: middle;\n",
              "    }\n",
              "\n",
              "    .dataframe tbody tr th {\n",
              "        vertical-align: top;\n",
              "    }\n",
              "\n",
              "    .dataframe thead th {\n",
              "        text-align: right;\n",
              "    }\n",
              "</style>\n",
              "<table border=\"1\" class=\"dataframe\">\n",
              "  <thead>\n",
              "    <tr style=\"text-align: right;\">\n",
              "      <th></th>\n",
              "      <th>unique_id</th>\n",
              "      <th>uid</th>\n",
              "      <th>created</th>\n",
              "      <th>type</th>\n",
              "      <th>is_instructor</th>\n",
              "      <th>anon</th>\n",
              "      <th>subject</th>\n",
              "      <th>content</th>\n",
              "      <th>data_content</th>\n",
              "    </tr>\n",
              "  </thead>\n",
              "  <tbody>\n",
              "    <tr>\n",
              "      <th>0</th>\n",
              "      <td>kcaz653v7u666u</td>\n",
              "      <td>gd6v7134AUa</td>\n",
              "      <td>2020-07-06 20:46:44+00:00</td>\n",
              "      <td>post</td>\n",
              "      <td>False</td>\n",
              "      <td>no</td>\n",
              "      <td>Search for Teammates!</td>\n",
              "      <td>pa.load(\"/dashboard/project_partners\", null, f...</td>\n",
              "      <td>Search for Teammates! pa.load(\"/dashboard/proj...</td>\n",
              "    </tr>\n",
              "    <tr>\n",
              "      <th>1</th>\n",
              "      <td>kcaz64zljpq66k</td>\n",
              "      <td>gd6v7134AUa</td>\n",
              "      <td>2020-07-06 20:46:44+00:00</td>\n",
              "      <td>post</td>\n",
              "      <td>False</td>\n",
              "      <td>no</td>\n",
              "      <td>Get familiar with Piazza</td>\n",
              "      <td>pa.load(\"/dashboard/get_familiar\", null, funct...</td>\n",
              "      <td>Get familiar with Piazza pa.load(\"/dashboard/g...</td>\n",
              "    </tr>\n",
              "    <tr>\n",
              "      <th>2</th>\n",
              "      <td>kcaz6506lfv66m</td>\n",
              "      <td>gd6v7134AUa</td>\n",
              "      <td>2020-07-06 20:46:44+00:00</td>\n",
              "      <td>post</td>\n",
              "      <td>False</td>\n",
              "      <td>no</td>\n",
              "      <td>Introduce Piazza to your students</td>\n",
              "      <td>pa.load(\"/dashboard/introduce_piazza\", null, f...</td>\n",
              "      <td>Introduce Piazza to your students pa.load(\"/da...</td>\n",
              "    </tr>\n",
              "    <tr>\n",
              "      <th>3</th>\n",
              "      <td>kcaz64xhuj166f</td>\n",
              "      <td>gd6v7134AUa</td>\n",
              "      <td>2020-07-06 20:46:44+00:00</td>\n",
              "      <td>post</td>\n",
              "      <td>False</td>\n",
              "      <td>no</td>\n",
              "      <td>Welcome to Piazza!</td>\n",
              "      <td>piazza is a q&amp;a platform designed to get you g...</td>\n",
              "      <td>Welcome to Piazza! piazza is a q&amp;a platform de...</td>\n",
              "    </tr>\n",
              "    <tr>\n",
              "      <th>4</th>\n",
              "      <td>kcaz64z2b5w66i</td>\n",
              "      <td>gd6v7134AUa</td>\n",
              "      <td>2020-07-06 20:46:44+00:00</td>\n",
              "      <td>post</td>\n",
              "      <td>False</td>\n",
              "      <td>no</td>\n",
              "      <td>Tips &amp; Tricks for a successful class</td>\n",
              "      <td>pa.load(\"/dashboard/tips_tricks\", null, functi...</td>\n",
              "      <td>Tips &amp; Tricks for a successful class pa.load(\"...</td>\n",
              "    </tr>\n",
              "    <tr>\n",
              "      <th>5</th>\n",
              "      <td>kccogf1gfio1du</td>\n",
              "      <td>k54tq3bfrqt336</td>\n",
              "      <td>2020-07-08 01:22:20+00:00</td>\n",
              "      <td>post</td>\n",
              "      <td>False</td>\n",
              "      <td>no</td>\n",
              "      <td>NYU Bridge Contact Sheet Summer 2020</td>\n",
              "      <td>hi, i created a contact sheet using my nyu goo...</td>\n",
              "      <td>NYU Bridge Contact Sheet Summer 2020 hi, i cre...</td>\n",
              "    </tr>\n",
              "    <tr>\n",
              "      <th>6</th>\n",
              "      <td>kccp0cavwhw5yi</td>\n",
              "      <td>jxqfcqrsvtv7nn</td>\n",
              "      <td>2020-07-08 01:37:50+00:00</td>\n",
              "      <td>followup</td>\n",
              "      <td>False</td>\n",
              "      <td>no</td>\n",
              "      <td>hi domenick, some one on the slack channel alr...</td>\n",
              "      <td></td>\n",
              "      <td>hi domenick, some one on the slack channel alr...</td>\n",
              "    </tr>\n",
              "    <tr>\n",
              "      <th>7</th>\n",
              "      <td>kccp6j4t71zuq</td>\n",
              "      <td>kccopj3l12mrx</td>\n",
              "      <td>2020-07-08 01:42:39+00:00</td>\n",
              "      <td>followup</td>\n",
              "      <td>False</td>\n",
              "      <td>no</td>\n",
              "      <td>do you have any suggestions for helpful extens...</td>\n",
              "      <td></td>\n",
              "      <td>do you have any suggestions for helpful extens...</td>\n",
              "    </tr>\n",
              "    <tr>\n",
              "      <th>8</th>\n",
              "      <td>kccq3xk141v6hp</td>\n",
              "      <td>k54tq3bfrqt336</td>\n",
              "      <td>2020-07-08 02:08:37+00:00</td>\n",
              "      <td>feedback</td>\n",
              "      <td>False</td>\n",
              "      <td>no</td>\n",
              "      <td>malaika, thank you. i added my contact info to...</td>\n",
              "      <td></td>\n",
              "      <td>malaika, thank you. i added my contact info to...</td>\n",
              "    </tr>\n",
              "    <tr>\n",
              "      <th>9</th>\n",
              "      <td>kccx39ks10z4lw</td>\n",
              "      <td>kccprh82f0c32p</td>\n",
              "      <td>2020-07-08 05:24:03+00:00</td>\n",
              "      <td>post</td>\n",
              "      <td>False</td>\n",
              "      <td>no</td>\n",
              "      <td>No permission to review today&amp;#39;s zoom recor...</td>\n",
              "      <td>i used my nyu g suite account to log in zoom a...</td>\n",
              "      <td>No permission to review today&amp;#39;s zoom recor...</td>\n",
              "    </tr>\n",
              "    <tr>\n",
              "      <th>10</th>\n",
              "      <td>kccxseopx1w35e</td>\n",
              "      <td>kccpraydebv2te</td>\n",
              "      <td>2020-07-08 05:43:36+00:00</td>\n",
              "      <td>followup</td>\n",
              "      <td>False</td>\n",
              "      <td>no</td>\n",
              "      <td>it worked for me once i signed out of my perso...</td>\n",
              "      <td></td>\n",
              "      <td>it worked for me once i signed out of my perso...</td>\n",
              "    </tr>\n",
              "    <tr>\n",
              "      <th>11</th>\n",
              "      <td>kccy73fecyk58q</td>\n",
              "      <td>kccpr4483bi2k8</td>\n",
              "      <td>2020-07-08 05:55:02+00:00</td>\n",
              "      <td>feedback</td>\n",
              "      <td>False</td>\n",
              "      <td>no</td>\n",
              "      <td>did you just use your \"al####@nyu.edu\" in the ...</td>\n",
              "      <td></td>\n",
              "      <td>did you just use your \"al####@nyu.edu\" in the ...</td>\n",
              "    </tr>\n",
              "    <tr>\n",
              "      <th>12</th>\n",
              "      <td>kccyddj4dk17l2</td>\n",
              "      <td>kccpraydebv2te</td>\n",
              "      <td>2020-07-08 05:59:55+00:00</td>\n",
              "      <td>feedback</td>\n",
              "      <td>False</td>\n",
              "      <td>no</td>\n",
              "      <td>try this link https://nyu.zoom.us/signin</td>\n",
              "      <td></td>\n",
              "      <td>try this link https://nyu.zoom.us/signin</td>\n",
              "    </tr>\n",
              "    <tr>\n",
              "      <th>13</th>\n",
              "      <td>kccyhwtd138et</td>\n",
              "      <td>kccpr4483bi2k8</td>\n",
              "      <td>2020-07-08 06:03:26+00:00</td>\n",
              "      <td>feedback</td>\n",
              "      <td>False</td>\n",
              "      <td>no</td>\n",
              "      <td>fantastic, it worked! thank you friend. wish i...</td>\n",
              "      <td></td>\n",
              "      <td>fantastic, it worked! thank you friend. wish i...</td>\n",
              "    </tr>\n",
              "    <tr>\n",
              "      <th>14</th>\n",
              "      <td>kccyrzgq2971ne</td>\n",
              "      <td>kccprh82f0c32p</td>\n",
              "      <td>2020-07-08 06:11:16+00:00</td>\n",
              "      <td>feedback</td>\n",
              "      <td>False</td>\n",
              "      <td>no</td>\n",
              "      <td>it works. thanks alan</td>\n",
              "      <td></td>\n",
              "      <td>it works. thanks alan</td>\n",
              "    </tr>\n",
              "    <tr>\n",
              "      <th>15</th>\n",
              "      <td>kccyz1gzqiybx</td>\n",
              "      <td>kccpraydebv2te</td>\n",
              "      <td>2020-07-08 06:16:45+00:00</td>\n",
              "      <td>feedback</td>\n",
              "      <td>False</td>\n",
              "      <td>no</td>\n",
              "      <td>no problem, glad it worked!</td>\n",
              "      <td></td>\n",
              "      <td>no problem, glad it worked!</td>\n",
              "    </tr>\n",
              "    <tr>\n",
              "      <th>16</th>\n",
              "      <td>kcczak9chy2te</td>\n",
              "      <td>kccpr8p050m2q9</td>\n",
              "      <td>2020-07-08 06:25:43+00:00</td>\n",
              "      <td>feedback</td>\n",
              "      <td>False</td>\n",
              "      <td>no</td>\n",
              "      <td>i am not permitted as well</td>\n",
              "      <td></td>\n",
              "      <td>i am not permitted as well</td>\n",
              "    </tr>\n",
              "    <tr>\n",
              "      <th>17</th>\n",
              "      <td>kcde5qgml6y3j9</td>\n",
              "      <td>kccpr7it53d2or</td>\n",
              "      <td>2020-07-08 13:21:52+00:00</td>\n",
              "      <td>post</td>\n",
              "      <td>False</td>\n",
              "      <td>no</td>\n",
              "      <td>Module 2 Positional Number System- Clarity</td>\n",
              "      <td>hello all, i recently watched module 2 on posi...</td>\n",
              "      <td>Module 2 Positional Number System- Clarity hel...</td>\n",
              "    </tr>\n",
              "    <tr>\n",
              "      <th>18</th>\n",
              "      <td>kcdh7si7o2a6dv</td>\n",
              "      <td>kccprhv31vd33l</td>\n",
              "      <td>2020-07-08 14:47:27+00:00</td>\n",
              "      <td>followup</td>\n",
              "      <td>False</td>\n",
              "      <td>no</td>\n",
              "      <td>thanks for the suggestion! i'll check it out! ...</td>\n",
              "      <td></td>\n",
              "      <td>thanks for the suggestion! i'll check it out! ...</td>\n",
              "    </tr>\n",
              "    <tr>\n",
              "      <th>19</th>\n",
              "      <td>kcdhn2gwpff6c5</td>\n",
              "      <td>jd0tcck5vr9yx</td>\n",
              "      <td>2020-07-08 14:59:20+00:00</td>\n",
              "      <td>followup</td>\n",
              "      <td>False</td>\n",
              "      <td>no</td>\n",
              "      <td>learning latex will be really helpful if you’r...</td>\n",
              "      <td></td>\n",
              "      <td>learning latex will be really helpful if you’r...</td>\n",
              "    </tr>\n",
              "  </tbody>\n",
              "</table>\n",
              "</div>"
            ],
            "text/plain": [
              "         unique_id  ...                                       data_content\n",
              "0   kcaz653v7u666u  ...  Search for Teammates! pa.load(\"/dashboard/proj...\n",
              "1   kcaz64zljpq66k  ...  Get familiar with Piazza pa.load(\"/dashboard/g...\n",
              "2   kcaz6506lfv66m  ...  Introduce Piazza to your students pa.load(\"/da...\n",
              "3   kcaz64xhuj166f  ...  Welcome to Piazza! piazza is a q&a platform de...\n",
              "4   kcaz64z2b5w66i  ...  Tips & Tricks for a successful class pa.load(\"...\n",
              "5   kccogf1gfio1du  ...  NYU Bridge Contact Sheet Summer 2020 hi, i cre...\n",
              "6   kccp0cavwhw5yi  ...  hi domenick, some one on the slack channel alr...\n",
              "7    kccp6j4t71zuq  ...  do you have any suggestions for helpful extens...\n",
              "8   kccq3xk141v6hp  ...  malaika, thank you. i added my contact info to...\n",
              "9   kccx39ks10z4lw  ...  No permission to review today&#39;s zoom recor...\n",
              "10  kccxseopx1w35e  ...  it worked for me once i signed out of my perso...\n",
              "11  kccy73fecyk58q  ...  did you just use your \"al####@nyu.edu\" in the ...\n",
              "12  kccyddj4dk17l2  ...          try this link https://nyu.zoom.us/signin \n",
              "13   kccyhwtd138et  ...  fantastic, it worked! thank you friend. wish i...\n",
              "14  kccyrzgq2971ne  ...                             it works. thanks alan \n",
              "15   kccyz1gzqiybx  ...                       no problem, glad it worked! \n",
              "16   kcczak9chy2te  ...                        i am not permitted as well \n",
              "17  kcde5qgml6y3j9  ...  Module 2 Positional Number System- Clarity hel...\n",
              "18  kcdh7si7o2a6dv  ...  thanks for the suggestion! i'll check it out! ...\n",
              "19  kcdhn2gwpff6c5  ...  learning latex will be really helpful if you’r...\n",
              "\n",
              "[20 rows x 9 columns]"
            ]
          },
          "metadata": {
            "tags": []
          },
          "execution_count": 12
        }
      ]
    },
    {
      "cell_type": "code",
      "metadata": {
        "id": "t1g-g-FOYWIA"
      },
      "source": [
        "date_exam_1 = datetime.fromisoformat('2020-08-14T23:59:59Z+00:00')\n",
        "date_exam_2 = datetime.fromisoformat('2020-09-25T23:59:59Z+00:00')\n",
        "date_exam_3 = datetime.fromisoformat('2020-11-13T23:59:59Z+00:00')\n",
        "date_exam_4 = datetime.fromisoformat('2020-12-18T23:59:59Z+00:00')"
      ],
      "execution_count": null,
      "outputs": []
    },
    {
      "cell_type": "code",
      "metadata": {
        "id": "dWunpZL4LZgF"
      },
      "source": [
        "# Split into exams\n",
        "e1 = df[df['created'] <= date_exam_1]\n",
        "e2 = df[(date_exam_1 < df['created']) & (df['created'] <= date_exam_2)]\n",
        "e3 = df[(date_exam_2 < df['created']) & (df['created'] <= date_exam_3)]\n",
        "e4 = df[(date_exam_3 < df['created']) & (df['created'] <= date_exam_4)]"
      ],
      "execution_count": null,
      "outputs": []
    },
    {
      "cell_type": "markdown",
      "metadata": {
        "id": "VLTgejNIx6No"
      },
      "source": [
        "# SENTIMENT ANALYSIS"
      ]
    },
    {
      "cell_type": "markdown",
      "metadata": {
        "id": "m25zH3hwyDLU"
      },
      "source": [
        "# Package used: Vader NLTK"
      ]
    },
    {
      "cell_type": "code",
      "metadata": {
        "colab": {
          "base_uri": "https://localhost:8080/"
        },
        "id": "b-t6mSbNyJdm",
        "outputId": "794c0810-450c-4f0f-b492-dc2eb16d59af"
      },
      "source": [
        "from nltk.sentiment.vader import SentimentIntensityAnalyzer\n",
        "from nltk import tokenize"
      ],
      "execution_count": null,
      "outputs": [
        {
          "output_type": "stream",
          "text": [
            "/usr/local/lib/python3.7/dist-packages/nltk/twitter/__init__.py:20: UserWarning: The twython library has not been installed. Some functionality from the twitter package will not be available.\n",
            "  warnings.warn(\"The twython library has not been installed. \"\n"
          ],
          "name": "stderr"
        }
      ]
    },
    {
      "cell_type": "code",
      "metadata": {
        "colab": {
          "base_uri": "https://localhost:8080/"
        },
        "id": "SwbHqtzTy-p1",
        "outputId": "b47b7144-fbd5-452c-a7e2-7ffd7ed64d38"
      },
      "source": [
        "import nltk\n",
        "nltk.download('punkt')\n",
        "nltk.download('vader_lexicon')"
      ],
      "execution_count": null,
      "outputs": [
        {
          "output_type": "stream",
          "text": [
            "[nltk_data] Downloading package punkt to /root/nltk_data...\n",
            "[nltk_data]   Package punkt is already up-to-date!\n",
            "[nltk_data] Downloading package vader_lexicon to /root/nltk_data...\n",
            "[nltk_data]   Package vader_lexicon is already up-to-date!\n"
          ],
          "name": "stdout"
        },
        {
          "output_type": "execute_result",
          "data": {
            "text/plain": [
              "True"
            ]
          },
          "metadata": {
            "tags": []
          },
          "execution_count": 16
        }
      ]
    },
    {
      "cell_type": "code",
      "metadata": {
        "id": "nJWvjtTIJKcF"
      },
      "source": [
        "sid = SentimentIntensityAnalyzer()"
      ],
      "execution_count": null,
      "outputs": []
    },
    {
      "cell_type": "code",
      "metadata": {
        "id": "ndjcTVQSIb8Q"
      },
      "source": [
        "# Exam 1 sentiment\n",
        "e1_sentiment = []\n",
        "for sentence in e1['data_content']:\n",
        "  ss = sid.polarity_scores(sentence)\n",
        "  #print(sentence)\n",
        "  e1_sentiment.append(ss)\n",
        "  '''\n",
        "  for k in sorted(ss):\n",
        "    print('{0}: {1}, '.format(k, ss[k]), end='')\n",
        "  print('\\n')'''\n",
        "e1 = pd.concat([e1, pd.DataFrame(e1_sentiment, index=[i for i in range(e1.index[0], e1.index[-1]+1)])], axis=1)"
      ],
      "execution_count": null,
      "outputs": []
    },
    {
      "cell_type": "code",
      "metadata": {
        "colab": {
          "base_uri": "https://localhost:8080/",
          "height": 898
        },
        "id": "Ja2ew0e0F4JR",
        "outputId": "764e755a-7415-4c83-b7ea-86cb84854145"
      },
      "source": [
        "e1"
      ],
      "execution_count": null,
      "outputs": [
        {
          "output_type": "execute_result",
          "data": {
            "text/html": [
              "<div>\n",
              "<style scoped>\n",
              "    .dataframe tbody tr th:only-of-type {\n",
              "        vertical-align: middle;\n",
              "    }\n",
              "\n",
              "    .dataframe tbody tr th {\n",
              "        vertical-align: top;\n",
              "    }\n",
              "\n",
              "    .dataframe thead th {\n",
              "        text-align: right;\n",
              "    }\n",
              "</style>\n",
              "<table border=\"1\" class=\"dataframe\">\n",
              "  <thead>\n",
              "    <tr style=\"text-align: right;\">\n",
              "      <th></th>\n",
              "      <th>unique_id</th>\n",
              "      <th>uid</th>\n",
              "      <th>created</th>\n",
              "      <th>type</th>\n",
              "      <th>is_instructor</th>\n",
              "      <th>anon</th>\n",
              "      <th>subject</th>\n",
              "      <th>content</th>\n",
              "      <th>data_content</th>\n",
              "      <th>neg</th>\n",
              "      <th>neu</th>\n",
              "      <th>pos</th>\n",
              "      <th>compound</th>\n",
              "    </tr>\n",
              "  </thead>\n",
              "  <tbody>\n",
              "    <tr>\n",
              "      <th>0</th>\n",
              "      <td>kcaz653v7u666u</td>\n",
              "      <td>gd6v7134AUa</td>\n",
              "      <td>2020-07-06 20:46:44+00:00</td>\n",
              "      <td>post</td>\n",
              "      <td>False</td>\n",
              "      <td>no</td>\n",
              "      <td>Search for Teammates!</td>\n",
              "      <td>pa.load(\"/dashboard/project_partners\", null, f...</td>\n",
              "      <td>Search for Teammates! pa.load(\"/dashboard/proj...</td>\n",
              "      <td>0.000</td>\n",
              "      <td>1.000</td>\n",
              "      <td>0.000</td>\n",
              "      <td>0.0000</td>\n",
              "    </tr>\n",
              "    <tr>\n",
              "      <th>1</th>\n",
              "      <td>kcaz64zljpq66k</td>\n",
              "      <td>gd6v7134AUa</td>\n",
              "      <td>2020-07-06 20:46:44+00:00</td>\n",
              "      <td>post</td>\n",
              "      <td>False</td>\n",
              "      <td>no</td>\n",
              "      <td>Get familiar with Piazza</td>\n",
              "      <td>pa.load(\"/dashboard/get_familiar\", null, funct...</td>\n",
              "      <td>Get familiar with Piazza pa.load(\"/dashboard/g...</td>\n",
              "      <td>0.000</td>\n",
              "      <td>1.000</td>\n",
              "      <td>0.000</td>\n",
              "      <td>0.0000</td>\n",
              "    </tr>\n",
              "    <tr>\n",
              "      <th>2</th>\n",
              "      <td>kcaz6506lfv66m</td>\n",
              "      <td>gd6v7134AUa</td>\n",
              "      <td>2020-07-06 20:46:44+00:00</td>\n",
              "      <td>post</td>\n",
              "      <td>False</td>\n",
              "      <td>no</td>\n",
              "      <td>Introduce Piazza to your students</td>\n",
              "      <td>pa.load(\"/dashboard/introduce_piazza\", null, f...</td>\n",
              "      <td>Introduce Piazza to your students pa.load(\"/da...</td>\n",
              "      <td>0.000</td>\n",
              "      <td>1.000</td>\n",
              "      <td>0.000</td>\n",
              "      <td>0.0000</td>\n",
              "    </tr>\n",
              "    <tr>\n",
              "      <th>3</th>\n",
              "      <td>kcaz64xhuj166f</td>\n",
              "      <td>gd6v7134AUa</td>\n",
              "      <td>2020-07-06 20:46:44+00:00</td>\n",
              "      <td>post</td>\n",
              "      <td>False</td>\n",
              "      <td>no</td>\n",
              "      <td>Welcome to Piazza!</td>\n",
              "      <td>piazza is a q&amp;a platform designed to get you g...</td>\n",
              "      <td>Welcome to Piazza! piazza is a q&amp;a platform de...</td>\n",
              "      <td>0.022</td>\n",
              "      <td>0.888</td>\n",
              "      <td>0.091</td>\n",
              "      <td>0.9725</td>\n",
              "    </tr>\n",
              "    <tr>\n",
              "      <th>4</th>\n",
              "      <td>kcaz64z2b5w66i</td>\n",
              "      <td>gd6v7134AUa</td>\n",
              "      <td>2020-07-06 20:46:44+00:00</td>\n",
              "      <td>post</td>\n",
              "      <td>False</td>\n",
              "      <td>no</td>\n",
              "      <td>Tips &amp; Tricks for a successful class</td>\n",
              "      <td>pa.load(\"/dashboard/tips_tricks\", null, functi...</td>\n",
              "      <td>Tips &amp; Tricks for a successful class pa.load(\"...</td>\n",
              "      <td>0.113</td>\n",
              "      <td>0.602</td>\n",
              "      <td>0.286</td>\n",
              "      <td>0.5106</td>\n",
              "    </tr>\n",
              "    <tr>\n",
              "      <th>...</th>\n",
              "      <td>...</td>\n",
              "      <td>...</td>\n",
              "      <td>...</td>\n",
              "      <td>...</td>\n",
              "      <td>...</td>\n",
              "      <td>...</td>\n",
              "      <td>...</td>\n",
              "      <td>...</td>\n",
              "      <td>...</td>\n",
              "      <td>...</td>\n",
              "      <td>...</td>\n",
              "      <td>...</td>\n",
              "      <td>...</td>\n",
              "    </tr>\n",
              "    <tr>\n",
              "      <th>968</th>\n",
              "      <td>kdumdwljhuc13k</td>\n",
              "      <td>j6f2j9crzay521</td>\n",
              "      <td>2020-08-14 19:23:57+00:00</td>\n",
              "      <td>followup</td>\n",
              "      <td>False</td>\n",
              "      <td>no</td>\n",
              "      <td>wow, thank you! it worked. i was here trying t...</td>\n",
              "      <td></td>\n",
              "      <td>wow, thank you! it worked. i was here trying t...</td>\n",
              "      <td>0.000</td>\n",
              "      <td>0.625</td>\n",
              "      <td>0.375</td>\n",
              "      <td>0.7644</td>\n",
              "    </tr>\n",
              "    <tr>\n",
              "      <th>969</th>\n",
              "      <td>kdumy3zwkuy6o5</td>\n",
              "      <td>kccpr4483bi2k8</td>\n",
              "      <td>2020-08-14 19:39:40+00:00</td>\n",
              "      <td>followup</td>\n",
              "      <td>False</td>\n",
              "      <td>no</td>\n",
              "      <td>so i emailed the professor last night and call...</td>\n",
              "      <td></td>\n",
              "      <td>so i emailed the professor last night and call...</td>\n",
              "      <td>0.142</td>\n",
              "      <td>0.812</td>\n",
              "      <td>0.046</td>\n",
              "      <td>-0.6361</td>\n",
              "    </tr>\n",
              "    <tr>\n",
              "      <th>970</th>\n",
              "      <td>kduoi76hgwy7n1</td>\n",
              "      <td>kccpr4483bi2k8</td>\n",
              "      <td>2020-08-14 20:23:17+00:00</td>\n",
              "      <td>followup</td>\n",
              "      <td>False</td>\n",
              "      <td>no</td>\n",
              "      <td>has anyone in this thread received a response ...</td>\n",
              "      <td></td>\n",
              "      <td>has anyone in this thread received a response ...</td>\n",
              "      <td>0.000</td>\n",
              "      <td>1.000</td>\n",
              "      <td>0.000</td>\n",
              "      <td>0.0000</td>\n",
              "    </tr>\n",
              "    <tr>\n",
              "      <th>971</th>\n",
              "      <td>kduoj7fx1a6kz</td>\n",
              "      <td>k8gcb8lzg3x50j</td>\n",
              "      <td>2020-08-14 20:24:04+00:00</td>\n",
              "      <td>feedback</td>\n",
              "      <td>False</td>\n",
              "      <td>no</td>\n",
              "      <td>nope, nothing.</td>\n",
              "      <td></td>\n",
              "      <td>nope, nothing.</td>\n",
              "      <td>0.000</td>\n",
              "      <td>1.000</td>\n",
              "      <td>0.000</td>\n",
              "      <td>0.0000</td>\n",
              "    </tr>\n",
              "    <tr>\n",
              "      <th>972</th>\n",
              "      <td>kdusbopm2cs1i4</td>\n",
              "      <td>kccpr8p050m2q9</td>\n",
              "      <td>2020-08-14 22:10:12+00:00</td>\n",
              "      <td>followup</td>\n",
              "      <td>False</td>\n",
              "      <td>no</td>\n",
              "      <td>i had the exam issue with proctoru as well. th...</td>\n",
              "      <td></td>\n",
              "      <td>i had the exam issue with proctoru as well. th...</td>\n",
              "      <td>0.077</td>\n",
              "      <td>0.809</td>\n",
              "      <td>0.115</td>\n",
              "      <td>0.2601</td>\n",
              "    </tr>\n",
              "  </tbody>\n",
              "</table>\n",
              "<p>973 rows × 13 columns</p>\n",
              "</div>"
            ],
            "text/plain": [
              "          unique_id             uid  ...    pos compound\n",
              "0    kcaz653v7u666u     gd6v7134AUa  ...  0.000   0.0000\n",
              "1    kcaz64zljpq66k     gd6v7134AUa  ...  0.000   0.0000\n",
              "2    kcaz6506lfv66m     gd6v7134AUa  ...  0.000   0.0000\n",
              "3    kcaz64xhuj166f     gd6v7134AUa  ...  0.091   0.9725\n",
              "4    kcaz64z2b5w66i     gd6v7134AUa  ...  0.286   0.5106\n",
              "..              ...             ...  ...    ...      ...\n",
              "968  kdumdwljhuc13k  j6f2j9crzay521  ...  0.375   0.7644\n",
              "969  kdumy3zwkuy6o5  kccpr4483bi2k8  ...  0.046  -0.6361\n",
              "970  kduoi76hgwy7n1  kccpr4483bi2k8  ...  0.000   0.0000\n",
              "971   kduoj7fx1a6kz  k8gcb8lzg3x50j  ...  0.000   0.0000\n",
              "972  kdusbopm2cs1i4  kccpr8p050m2q9  ...  0.115   0.2601\n",
              "\n",
              "[973 rows x 13 columns]"
            ]
          },
          "metadata": {
            "tags": []
          },
          "execution_count": 19
        }
      ]
    },
    {
      "cell_type": "code",
      "metadata": {
        "id": "h83iQQXZLQGm"
      },
      "source": [
        "# Exam 2 sentiment\n",
        "e2_sentiment = []\n",
        "for sentence in e2['data_content']:\n",
        "  ss = sid.polarity_scores(sentence)\n",
        "  #print(sentence)\n",
        "  e2_sentiment.append(ss)\n",
        "  '''\n",
        "  for k in sorted(ss):\n",
        "    print('{0}: {1}, '.format(k, ss[k]), end='')\n",
        "  print('\\n')'''\n",
        "e2 = pd.concat([e2, pd.DataFrame(e2_sentiment, index=[i for i in range(e2.index[0], e2.index[-1]+1)])], axis=1)"
      ],
      "execution_count": null,
      "outputs": []
    },
    {
      "cell_type": "code",
      "metadata": {
        "colab": {
          "base_uri": "https://localhost:8080/",
          "height": 1000
        },
        "id": "rnGTWtTOdhAo",
        "outputId": "d4c79d95-45c6-4a9e-8f9b-5985a0ef5834"
      },
      "source": [
        "e2"
      ],
      "execution_count": null,
      "outputs": [
        {
          "output_type": "execute_result",
          "data": {
            "text/html": [
              "<div>\n",
              "<style scoped>\n",
              "    .dataframe tbody tr th:only-of-type {\n",
              "        vertical-align: middle;\n",
              "    }\n",
              "\n",
              "    .dataframe tbody tr th {\n",
              "        vertical-align: top;\n",
              "    }\n",
              "\n",
              "    .dataframe thead th {\n",
              "        text-align: right;\n",
              "    }\n",
              "</style>\n",
              "<table border=\"1\" class=\"dataframe\">\n",
              "  <thead>\n",
              "    <tr style=\"text-align: right;\">\n",
              "      <th></th>\n",
              "      <th>unique_id</th>\n",
              "      <th>uid</th>\n",
              "      <th>created</th>\n",
              "      <th>type</th>\n",
              "      <th>is_instructor</th>\n",
              "      <th>anon</th>\n",
              "      <th>subject</th>\n",
              "      <th>content</th>\n",
              "      <th>data_content</th>\n",
              "      <th>neg</th>\n",
              "      <th>neu</th>\n",
              "      <th>pos</th>\n",
              "      <th>compound</th>\n",
              "    </tr>\n",
              "  </thead>\n",
              "  <tbody>\n",
              "    <tr>\n",
              "      <th>973</th>\n",
              "      <td>kduxl6hplm219r</td>\n",
              "      <td>kccpre6co5x2yz</td>\n",
              "      <td>2020-08-15 00:37:33+00:00</td>\n",
              "      <td>feedback</td>\n",
              "      <td>False</td>\n",
              "      <td>stud</td>\n",
              "      <td>we should email professor about the incident a...</td>\n",
              "      <td></td>\n",
              "      <td>we should email professor about the incident a...</td>\n",
              "      <td>0.149</td>\n",
              "      <td>0.789</td>\n",
              "      <td>0.061</td>\n",
              "      <td>-0.4588</td>\n",
              "    </tr>\n",
              "    <tr>\n",
              "      <th>974</th>\n",
              "      <td>kduxvift38t3sp</td>\n",
              "      <td>kccpr4483bi2k8</td>\n",
              "      <td>2020-08-15 00:45:35+00:00</td>\n",
              "      <td>feedback</td>\n",
              "      <td>False</td>\n",
              "      <td>no</td>\n",
              "      <td>i emailed him last night and still have no res...</td>\n",
              "      <td></td>\n",
              "      <td>i emailed him last night and still have no res...</td>\n",
              "      <td>0.140</td>\n",
              "      <td>0.860</td>\n",
              "      <td>0.000</td>\n",
              "      <td>-0.5234</td>\n",
              "    </tr>\n",
              "    <tr>\n",
              "      <th>975</th>\n",
              "      <td>kdv22grhfhs39c</td>\n",
              "      <td>kccomqtx7x04i</td>\n",
              "      <td>2020-08-15 02:42:58+00:00</td>\n",
              "      <td>post</td>\n",
              "      <td>False</td>\n",
              "      <td>no</td>\n",
              "      <td>In gradescope, do we need to tag a page as &amp;#3...</td>\n",
              "      <td>since our hw 5 extra credit question is techni...</td>\n",
              "      <td>In gradescope, do we need to tag a page as &amp;#3...</td>\n",
              "      <td>0.000</td>\n",
              "      <td>0.890</td>\n",
              "      <td>0.110</td>\n",
              "      <td>0.6767</td>\n",
              "    </tr>\n",
              "    <tr>\n",
              "      <th>976</th>\n",
              "      <td>kdv728l6bb12ys</td>\n",
              "      <td>kccpr4483bi2k8</td>\n",
              "      <td>2020-08-15 05:02:45+00:00</td>\n",
              "      <td>feedback</td>\n",
              "      <td>False</td>\n",
              "      <td>no</td>\n",
              "      <td>please do not mark this as resolved again as i...</td>\n",
              "      <td></td>\n",
              "      <td>please do not mark this as resolved again as i...</td>\n",
              "      <td>0.000</td>\n",
              "      <td>0.750</td>\n",
              "      <td>0.250</td>\n",
              "      <td>0.4588</td>\n",
              "    </tr>\n",
              "    <tr>\n",
              "      <th>977</th>\n",
              "      <td>kdv7kktgm1827g</td>\n",
              "      <td>jqjrav14ehv5px</td>\n",
              "      <td>2020-08-15 05:17:01+00:00</td>\n",
              "      <td>feedback</td>\n",
              "      <td>False</td>\n",
              "      <td>no</td>\n",
              "      <td>i'm not sure who marked that as resolved but i...</td>\n",
              "      <td></td>\n",
              "      <td>i'm not sure who marked that as resolved but i...</td>\n",
              "      <td>0.094</td>\n",
              "      <td>0.801</td>\n",
              "      <td>0.105</td>\n",
              "      <td>0.6193</td>\n",
              "    </tr>\n",
              "    <tr>\n",
              "      <th>...</th>\n",
              "      <td>...</td>\n",
              "      <td>...</td>\n",
              "      <td>...</td>\n",
              "      <td>...</td>\n",
              "      <td>...</td>\n",
              "      <td>...</td>\n",
              "      <td>...</td>\n",
              "      <td>...</td>\n",
              "      <td>...</td>\n",
              "      <td>...</td>\n",
              "      <td>...</td>\n",
              "      <td>...</td>\n",
              "      <td>...</td>\n",
              "    </tr>\n",
              "    <tr>\n",
              "      <th>1396</th>\n",
              "      <td>kfhl1r19nrmpu</td>\n",
              "      <td>kccoo5w5r2v73o</td>\n",
              "      <td>2020-09-25 01:44:55+00:00</td>\n",
              "      <td>post</td>\n",
              "      <td>False</td>\n",
              "      <td>no</td>\n",
              "      <td>Exam Submitted On Time</td>\n",
              "      <td>is it possible to know if we submitted the exa...</td>\n",
              "      <td>Exam Submitted On Time is it possible to know ...</td>\n",
              "      <td>0.030</td>\n",
              "      <td>0.804</td>\n",
              "      <td>0.166</td>\n",
              "      <td>0.9577</td>\n",
              "    </tr>\n",
              "    <tr>\n",
              "      <th>1397</th>\n",
              "      <td>kfhekf7v25o78q</td>\n",
              "      <td>kccprf6rrwo30e</td>\n",
              "      <td>2020-09-25 03:56:53+00:00</td>\n",
              "      <td>post</td>\n",
              "      <td>False</td>\n",
              "      <td>no</td>\n",
              "      <td>ProctorU won&amp;#39;t met me take the test</td>\n",
              "      <td>due to technical issues, proctoru won't let me...</td>\n",
              "      <td>ProctorU won&amp;#39;t met me take the test due to...</td>\n",
              "      <td>0.000</td>\n",
              "      <td>1.000</td>\n",
              "      <td>0.000</td>\n",
              "      <td>0.0000</td>\n",
              "    </tr>\n",
              "    <tr>\n",
              "      <th>1398</th>\n",
              "      <td>kfhrv051xts52z</td>\n",
              "      <td>kccpr6hveyd2ng</td>\n",
              "      <td>2020-09-25 04:55:38+00:00</td>\n",
              "      <td>post</td>\n",
              "      <td>False</td>\n",
              "      <td>no</td>\n",
              "      <td>Wrong exam in proctorU</td>\n",
              "      <td>the exam has a different name then the one i a...</td>\n",
              "      <td>Wrong exam in proctorU the exam has a differen...</td>\n",
              "      <td>0.147</td>\n",
              "      <td>0.853</td>\n",
              "      <td>0.000</td>\n",
              "      <td>-0.4767</td>\n",
              "    </tr>\n",
              "    <tr>\n",
              "      <th>1399</th>\n",
              "      <td>kfils08c3ffnx</td>\n",
              "      <td>kccpr2zaayq2i8</td>\n",
              "      <td>2020-09-25 18:53:06+00:00</td>\n",
              "      <td>post</td>\n",
              "      <td>False</td>\n",
              "      <td>no</td>\n",
              "      <td>Exam 2</td>\n",
              "      <td>i noticed that for my exam code yesterday, i a...</td>\n",
              "      <td>Exam 2 i noticed that for my exam code yesterd...</td>\n",
              "      <td>0.110</td>\n",
              "      <td>0.833</td>\n",
              "      <td>0.057</td>\n",
              "      <td>-0.4606</td>\n",
              "    </tr>\n",
              "    <tr>\n",
              "      <th>1400</th>\n",
              "      <td>kfim85qhsilrk</td>\n",
              "      <td>kccprb03yma2tg</td>\n",
              "      <td>2020-09-25 19:05:40+00:00</td>\n",
              "      <td>post</td>\n",
              "      <td>False</td>\n",
              "      <td>stud</td>\n",
              "      <td>regarding the weekly webminar on Friday 3pm</td>\n",
              "      <td>hello folks, we will not have webminar today.i...</td>\n",
              "      <td>regarding the weekly webminar on Friday 3pm he...</td>\n",
              "      <td>0.000</td>\n",
              "      <td>0.903</td>\n",
              "      <td>0.097</td>\n",
              "      <td>0.4404</td>\n",
              "    </tr>\n",
              "  </tbody>\n",
              "</table>\n",
              "<p>428 rows × 13 columns</p>\n",
              "</div>"
            ],
            "text/plain": [
              "           unique_id             uid  ...    pos compound\n",
              "973   kduxl6hplm219r  kccpre6co5x2yz  ...  0.061  -0.4588\n",
              "974   kduxvift38t3sp  kccpr4483bi2k8  ...  0.000  -0.5234\n",
              "975   kdv22grhfhs39c   kccomqtx7x04i  ...  0.110   0.6767\n",
              "976   kdv728l6bb12ys  kccpr4483bi2k8  ...  0.250   0.4588\n",
              "977   kdv7kktgm1827g  jqjrav14ehv5px  ...  0.105   0.6193\n",
              "...              ...             ...  ...    ...      ...\n",
              "1396   kfhl1r19nrmpu  kccoo5w5r2v73o  ...  0.166   0.9577\n",
              "1397  kfhekf7v25o78q  kccprf6rrwo30e  ...  0.000   0.0000\n",
              "1398  kfhrv051xts52z  kccpr6hveyd2ng  ...  0.000  -0.4767\n",
              "1399   kfils08c3ffnx  kccpr2zaayq2i8  ...  0.057  -0.4606\n",
              "1400   kfim85qhsilrk  kccprb03yma2tg  ...  0.097   0.4404\n",
              "\n",
              "[428 rows x 13 columns]"
            ]
          },
          "metadata": {
            "tags": []
          },
          "execution_count": 21
        }
      ]
    },
    {
      "cell_type": "code",
      "metadata": {
        "id": "sKM_FH9pLSv8"
      },
      "source": [
        "# Exam 3 sentiment\n",
        "e3_sentiment = []\n",
        "for sentence in e3['data_content']:\n",
        "  ss = sid.polarity_scores(sentence)\n",
        "  e3_sentiment.append(ss)\n",
        "  #print(sentence)\n",
        "  '''\n",
        "  for k in sorted(ss):\n",
        "    print('{0}: {1}, '.format(k, ss[k]), end='')\n",
        "  print('\\n')'''\n",
        "e3 = pd.concat([e3, pd.DataFrame(e3_sentiment, index=[i for i in range(e3.index[0], e3.index[-1]+1)])], axis=1)"
      ],
      "execution_count": null,
      "outputs": []
    },
    {
      "cell_type": "code",
      "metadata": {
        "colab": {
          "base_uri": "https://localhost:8080/",
          "height": 1000
        },
        "id": "5llDdR0Lf3cE",
        "outputId": "d7dd6092-0809-45f8-ad66-a3965f2b70ff"
      },
      "source": [
        "e3"
      ],
      "execution_count": null,
      "outputs": [
        {
          "output_type": "execute_result",
          "data": {
            "text/html": [
              "<div>\n",
              "<style scoped>\n",
              "    .dataframe tbody tr th:only-of-type {\n",
              "        vertical-align: middle;\n",
              "    }\n",
              "\n",
              "    .dataframe tbody tr th {\n",
              "        vertical-align: top;\n",
              "    }\n",
              "\n",
              "    .dataframe thead th {\n",
              "        text-align: right;\n",
              "    }\n",
              "</style>\n",
              "<table border=\"1\" class=\"dataframe\">\n",
              "  <thead>\n",
              "    <tr style=\"text-align: right;\">\n",
              "      <th></th>\n",
              "      <th>unique_id</th>\n",
              "      <th>uid</th>\n",
              "      <th>created</th>\n",
              "      <th>type</th>\n",
              "      <th>is_instructor</th>\n",
              "      <th>anon</th>\n",
              "      <th>subject</th>\n",
              "      <th>content</th>\n",
              "      <th>data_content</th>\n",
              "      <th>neg</th>\n",
              "      <th>neu</th>\n",
              "      <th>pos</th>\n",
              "      <th>compound</th>\n",
              "    </tr>\n",
              "  </thead>\n",
              "  <tbody>\n",
              "    <tr>\n",
              "      <th>1401</th>\n",
              "      <td>kfj0o01ihzh7lc</td>\n",
              "      <td>kccpra35bd92s8</td>\n",
              "      <td>2020-09-26 01:49:54+00:00</td>\n",
              "      <td>followup</td>\n",
              "      <td>False</td>\n",
              "      <td>no</td>\n",
              "      <td>is the webinar tomorrow at 9:30?</td>\n",
              "      <td></td>\n",
              "      <td>is the webinar tomorrow at 9:30?</td>\n",
              "      <td>0.000</td>\n",
              "      <td>1.000</td>\n",
              "      <td>0.000</td>\n",
              "      <td>0.0000</td>\n",
              "    </tr>\n",
              "    <tr>\n",
              "      <th>1402</th>\n",
              "      <td>kfj48yqrnu923k</td>\n",
              "      <td>kccpr533qtr2lf</td>\n",
              "      <td>2020-09-26 03:30:11+00:00</td>\n",
              "      <td>feedback</td>\n",
              "      <td>False</td>\n",
              "      <td>no</td>\n",
              "      <td>i think it is on next thursday 8:00 pm</td>\n",
              "      <td></td>\n",
              "      <td>i think it is on next thursday 8:00 pm</td>\n",
              "      <td>0.000</td>\n",
              "      <td>1.000</td>\n",
              "      <td>0.000</td>\n",
              "      <td>0.0000</td>\n",
              "    </tr>\n",
              "    <tr>\n",
              "      <th>1403</th>\n",
              "      <td>kfjwidp7dj428d</td>\n",
              "      <td>kccpr35mpc12ig</td>\n",
              "      <td>2020-09-26 16:41:19+00:00</td>\n",
              "      <td>post</td>\n",
              "      <td>False</td>\n",
              "      <td>no</td>\n",
              "      <td>Re-take EXAM 2</td>\n",
              "      <td>hello professor, i would really like to take e...</td>\n",
              "      <td>Re-take EXAM 2 hello professor, i would really...</td>\n",
              "      <td>0.015</td>\n",
              "      <td>0.812</td>\n",
              "      <td>0.172</td>\n",
              "      <td>0.9069</td>\n",
              "    </tr>\n",
              "    <tr>\n",
              "      <th>1404</th>\n",
              "      <td>kfjwm6211ts3t5</td>\n",
              "      <td>kccpr35mpc12ig</td>\n",
              "      <td>2020-09-26 16:44:16+00:00</td>\n",
              "      <td>post</td>\n",
              "      <td>False</td>\n",
              "      <td>stud</td>\n",
              "      <td>Re-Open EXAM 2</td>\n",
              "      <td>professor, would you be able to re-open exam 2...</td>\n",
              "      <td>Re-Open EXAM 2 professor, would you be able to...</td>\n",
              "      <td>0.115</td>\n",
              "      <td>0.858</td>\n",
              "      <td>0.027</td>\n",
              "      <td>-0.6901</td>\n",
              "    </tr>\n",
              "    <tr>\n",
              "      <th>1405</th>\n",
              "      <td>kfk2c5jzcfi23p</td>\n",
              "      <td>kccpr3yu44w2jw</td>\n",
              "      <td>2020-09-26 19:25:09+00:00</td>\n",
              "      <td>post</td>\n",
              "      <td>False</td>\n",
              "      <td>no</td>\n",
              "      <td>Module 15 - Typo or some kind of C&amp;#43;&amp;#43; n...</td>\n",
              "      <td>in module 15, section 'accessors and mutators'...</td>\n",
              "      <td>Module 15 - Typo or some kind of C&amp;#43;&amp;#43; n...</td>\n",
              "      <td>0.000</td>\n",
              "      <td>0.944</td>\n",
              "      <td>0.056</td>\n",
              "      <td>0.5330</td>\n",
              "    </tr>\n",
              "    <tr>\n",
              "      <th>...</th>\n",
              "      <td>...</td>\n",
              "      <td>...</td>\n",
              "      <td>...</td>\n",
              "      <td>...</td>\n",
              "      <td>...</td>\n",
              "      <td>...</td>\n",
              "      <td>...</td>\n",
              "      <td>...</td>\n",
              "      <td>...</td>\n",
              "      <td>...</td>\n",
              "      <td>...</td>\n",
              "      <td>...</td>\n",
              "      <td>...</td>\n",
              "    </tr>\n",
              "    <tr>\n",
              "      <th>1627</th>\n",
              "      <td>khfkh7z8e9d46l</td>\n",
              "      <td>kccprco99ch2vn</td>\n",
              "      <td>2020-11-13 01:12:50+00:00</td>\n",
              "      <td>post</td>\n",
              "      <td>False</td>\n",
              "      <td>no</td>\n",
              "      <td>Couldn&amp;#39;t find classes when submitting</td>\n",
              "      <td>hello, i've submitted my exam through gradesco...</td>\n",
              "      <td>Couldn&amp;#39;t find classes when submitting hell...</td>\n",
              "      <td>0.000</td>\n",
              "      <td>0.960</td>\n",
              "      <td>0.040</td>\n",
              "      <td>0.2942</td>\n",
              "    </tr>\n",
              "    <tr>\n",
              "      <th>1628</th>\n",
              "      <td>khfs3pbkvf2qz</td>\n",
              "      <td>kccpraydebv2te</td>\n",
              "      <td>2020-11-13 04:46:16+00:00</td>\n",
              "      <td>followup</td>\n",
              "      <td>False</td>\n",
              "      <td>no</td>\n",
              "      <td>oops, i only submitted via gradescope! i hope ...</td>\n",
              "      <td></td>\n",
              "      <td>oops, i only submitted via gradescope! i hope ...</td>\n",
              "      <td>0.000</td>\n",
              "      <td>0.541</td>\n",
              "      <td>0.459</td>\n",
              "      <td>0.6239</td>\n",
              "    </tr>\n",
              "    <tr>\n",
              "      <th>1629</th>\n",
              "      <td>khgdqgv2yua2dq</td>\n",
              "      <td>kccprhv31vd33l</td>\n",
              "      <td>2020-11-13 14:51:50+00:00</td>\n",
              "      <td>post</td>\n",
              "      <td>False</td>\n",
              "      <td>no</td>\n",
              "      <td>Homework Not Posted Yet?</td>\n",
              "      <td>hello, i know we had an exam last night, but w...</td>\n",
              "      <td>Homework Not Posted Yet? hello, i know we had ...</td>\n",
              "      <td>0.000</td>\n",
              "      <td>1.000</td>\n",
              "      <td>0.000</td>\n",
              "      <td>0.0000</td>\n",
              "    </tr>\n",
              "    <tr>\n",
              "      <th>1630</th>\n",
              "      <td>khgkjoflihy66v</td>\n",
              "      <td>kccpr9qwli32rt</td>\n",
              "      <td>2020-11-13 18:02:30+00:00</td>\n",
              "      <td>post</td>\n",
              "      <td>False</td>\n",
              "      <td>no</td>\n",
              "      <td>HW17 - Extent to Which Changing Provided Code ...</td>\n",
              "      <td>hi tas,  quick question about homework 17, reg...</td>\n",
              "      <td>HW17 - Extent to Which Changing Provided Code ...</td>\n",
              "      <td>0.011</td>\n",
              "      <td>0.914</td>\n",
              "      <td>0.075</td>\n",
              "      <td>0.8523</td>\n",
              "    </tr>\n",
              "    <tr>\n",
              "      <th>1631</th>\n",
              "      <td>khgoprno6z41fl</td>\n",
              "      <td>kccop9yg5w7li</td>\n",
              "      <td>2020-11-13 19:59:13+00:00</td>\n",
              "      <td>post</td>\n",
              "      <td>False</td>\n",
              "      <td>no</td>\n",
              "      <td>Exam 3 Requests</td>\n",
              "      <td>hello all!i am writing on behalf of several ot...</td>\n",
              "      <td>Exam 3 Requests hello all!i am writing on beha...</td>\n",
              "      <td>0.035</td>\n",
              "      <td>0.851</td>\n",
              "      <td>0.115</td>\n",
              "      <td>0.7772</td>\n",
              "    </tr>\n",
              "  </tbody>\n",
              "</table>\n",
              "<p>231 rows × 13 columns</p>\n",
              "</div>"
            ],
            "text/plain": [
              "           unique_id             uid  ...    pos compound\n",
              "1401  kfj0o01ihzh7lc  kccpra35bd92s8  ...  0.000   0.0000\n",
              "1402  kfj48yqrnu923k  kccpr533qtr2lf  ...  0.000   0.0000\n",
              "1403  kfjwidp7dj428d  kccpr35mpc12ig  ...  0.172   0.9069\n",
              "1404  kfjwm6211ts3t5  kccpr35mpc12ig  ...  0.027  -0.6901\n",
              "1405  kfk2c5jzcfi23p  kccpr3yu44w2jw  ...  0.056   0.5330\n",
              "...              ...             ...  ...    ...      ...\n",
              "1627  khfkh7z8e9d46l  kccprco99ch2vn  ...  0.040   0.2942\n",
              "1628   khfs3pbkvf2qz  kccpraydebv2te  ...  0.459   0.6239\n",
              "1629  khgdqgv2yua2dq  kccprhv31vd33l  ...  0.000   0.0000\n",
              "1630  khgkjoflihy66v  kccpr9qwli32rt  ...  0.075   0.8523\n",
              "1631  khgoprno6z41fl   kccop9yg5w7li  ...  0.115   0.7772\n",
              "\n",
              "[231 rows x 13 columns]"
            ]
          },
          "metadata": {
            "tags": []
          },
          "execution_count": 23
        }
      ]
    },
    {
      "cell_type": "code",
      "metadata": {
        "id": "3fSR8RxSLVzq"
      },
      "source": [
        "# Exam 4 sentiment\n",
        "e4_sentiment = []\n",
        "for sentence in e4['data_content']:\n",
        "  ss = sid.polarity_scores(sentence)\n",
        "  #print(sentence)\n",
        "  e4_sentiment.append(ss)\n",
        "  '''\n",
        "  for k in sorted(ss):\n",
        "    print('{0}: {1}, '.format(k, ss[k]), end='')\n",
        "  print('\\n')'''\n",
        "e4 = pd.concat([e4, pd.DataFrame(e4_sentiment, index=[i for i in range(e4.index[0], e4.index[-1]+1)])], axis=1)"
      ],
      "execution_count": null,
      "outputs": []
    },
    {
      "cell_type": "code",
      "metadata": {
        "colab": {
          "base_uri": "https://localhost:8080/",
          "height": 915
        },
        "id": "W1s1BhkTgcgp",
        "outputId": "bfd3ac36-24e1-4242-95be-2e8982132a1b"
      },
      "source": [
        "e4"
      ],
      "execution_count": null,
      "outputs": [
        {
          "output_type": "execute_result",
          "data": {
            "text/html": [
              "<div>\n",
              "<style scoped>\n",
              "    .dataframe tbody tr th:only-of-type {\n",
              "        vertical-align: middle;\n",
              "    }\n",
              "\n",
              "    .dataframe tbody tr th {\n",
              "        vertical-align: top;\n",
              "    }\n",
              "\n",
              "    .dataframe thead th {\n",
              "        text-align: right;\n",
              "    }\n",
              "</style>\n",
              "<table border=\"1\" class=\"dataframe\">\n",
              "  <thead>\n",
              "    <tr style=\"text-align: right;\">\n",
              "      <th></th>\n",
              "      <th>unique_id</th>\n",
              "      <th>uid</th>\n",
              "      <th>created</th>\n",
              "      <th>type</th>\n",
              "      <th>is_instructor</th>\n",
              "      <th>anon</th>\n",
              "      <th>subject</th>\n",
              "      <th>content</th>\n",
              "      <th>data_content</th>\n",
              "      <th>neg</th>\n",
              "      <th>neu</th>\n",
              "      <th>pos</th>\n",
              "      <th>compound</th>\n",
              "    </tr>\n",
              "  </thead>\n",
              "  <tbody>\n",
              "    <tr>\n",
              "      <th>1632</th>\n",
              "      <td>khkbq1tuena3x4</td>\n",
              "      <td>kccprc5trdb2uv</td>\n",
              "      <td>2020-11-16 09:06:36+00:00</td>\n",
              "      <td>post</td>\n",
              "      <td>False</td>\n",
              "      <td>no</td>\n",
              "      <td>Resubmit HW 17?</td>\n",
              "      <td>since it's an off week (for homework), is ther...</td>\n",
              "      <td>Resubmit HW 17? since it's an off week (for ho...</td>\n",
              "      <td>0.000</td>\n",
              "      <td>0.907</td>\n",
              "      <td>0.093</td>\n",
              "      <td>0.3313</td>\n",
              "    </tr>\n",
              "    <tr>\n",
              "      <th>1633</th>\n",
              "      <td>khl87tc0kqw6yd</td>\n",
              "      <td>kccprfql4pw318</td>\n",
              "      <td>2020-11-17 00:16:12+00:00</td>\n",
              "      <td>post</td>\n",
              "      <td>False</td>\n",
              "      <td>no</td>\n",
              "      <td>hw16-Q1 test cases</td>\n",
              "      <td>hi, i saw that the grade for hw16 is posted an...</td>\n",
              "      <td>hw16-Q1 test cases hi, i saw that the grade fo...</td>\n",
              "      <td>0.056</td>\n",
              "      <td>0.767</td>\n",
              "      <td>0.177</td>\n",
              "      <td>0.6369</td>\n",
              "    </tr>\n",
              "    <tr>\n",
              "      <th>1634</th>\n",
              "      <td>khmqpcfsbe956a</td>\n",
              "      <td>kccprfql4pw318</td>\n",
              "      <td>2020-11-18 01:41:30+00:00</td>\n",
              "      <td>followup</td>\n",
              "      <td>False</td>\n",
              "      <td>no</td>\n",
              "      <td>will do, thank you.</td>\n",
              "      <td></td>\n",
              "      <td>will do, thank you.</td>\n",
              "      <td>0.000</td>\n",
              "      <td>0.545</td>\n",
              "      <td>0.455</td>\n",
              "      <td>0.3612</td>\n",
              "    </tr>\n",
              "    <tr>\n",
              "      <th>1635</th>\n",
              "      <td>khnhpx6evh04j1</td>\n",
              "      <td>gd6v7134AUa</td>\n",
              "      <td>2020-11-18 14:17:46+00:00</td>\n",
              "      <td>post</td>\n",
              "      <td>False</td>\n",
              "      <td>no</td>\n",
              "      <td>Enhanced Polls Functionality</td>\n",
              "      <td>with feedback from instructors, we have enhanc...</td>\n",
              "      <td>Enhanced Polls Functionality with feedback fro...</td>\n",
              "      <td>0.018</td>\n",
              "      <td>0.822</td>\n",
              "      <td>0.160</td>\n",
              "      <td>0.9831</td>\n",
              "    </tr>\n",
              "    <tr>\n",
              "      <th>1636</th>\n",
              "      <td>khno7bg7rbv7b6</td>\n",
              "      <td>k54tl8fv6s767g</td>\n",
              "      <td>2020-11-18 17:19:15+00:00</td>\n",
              "      <td>post</td>\n",
              "      <td>False</td>\n",
              "      <td>stud</td>\n",
              "      <td>Module 23 processes and threads</td>\n",
              "      <td>there is a slide in module 23 that says \"does ...</td>\n",
              "      <td>Module 23 processes and threads there is a sli...</td>\n",
              "      <td>0.107</td>\n",
              "      <td>0.778</td>\n",
              "      <td>0.115</td>\n",
              "      <td>0.3436</td>\n",
              "    </tr>\n",
              "    <tr>\n",
              "      <th>...</th>\n",
              "      <td>...</td>\n",
              "      <td>...</td>\n",
              "      <td>...</td>\n",
              "      <td>...</td>\n",
              "      <td>...</td>\n",
              "      <td>...</td>\n",
              "      <td>...</td>\n",
              "      <td>...</td>\n",
              "      <td>...</td>\n",
              "      <td>...</td>\n",
              "      <td>...</td>\n",
              "      <td>...</td>\n",
              "      <td>...</td>\n",
              "    </tr>\n",
              "    <tr>\n",
              "      <th>1717</th>\n",
              "      <td>kiqxbveidci4xm</td>\n",
              "      <td>k54tq3hzuyo33f</td>\n",
              "      <td>2020-12-16 04:37:45+00:00</td>\n",
              "      <td>feedback</td>\n",
              "      <td>False</td>\n",
              "      <td>no</td>\n",
              "      <td>i don't know, that seems like a logical conclu...</td>\n",
              "      <td></td>\n",
              "      <td>i don't know, that seems like a logical conclu...</td>\n",
              "      <td>0.000</td>\n",
              "      <td>0.848</td>\n",
              "      <td>0.152</td>\n",
              "      <td>0.3612</td>\n",
              "    </tr>\n",
              "    <tr>\n",
              "      <th>1718</th>\n",
              "      <td>kirc9jcvei11tr</td>\n",
              "      <td>kccpr58wnwl2lm</td>\n",
              "      <td>2020-12-16 11:35:51+00:00</td>\n",
              "      <td>followup</td>\n",
              "      <td>False</td>\n",
              "      <td>no</td>\n",
              "      <td>ian, thank you so much for this answer! it is ...</td>\n",
              "      <td></td>\n",
              "      <td>ian, thank you so much for this answer! it is ...</td>\n",
              "      <td>0.000</td>\n",
              "      <td>0.630</td>\n",
              "      <td>0.370</td>\n",
              "      <td>0.7082</td>\n",
              "    </tr>\n",
              "    <tr>\n",
              "      <th>1719</th>\n",
              "      <td>kitg7eg1kr12m4</td>\n",
              "      <td>kccpicp8wjt60n</td>\n",
              "      <td>2020-12-17 23:01:42+00:00</td>\n",
              "      <td>post</td>\n",
              "      <td>False</td>\n",
              "      <td>stud</td>\n",
              "      <td>Exam 4 Gradescope Link</td>\n",
              "      <td>is exam 4 going to be added to gradescope?</td>\n",
              "      <td>Exam 4 Gradescope Link is exam 4 going to be a...</td>\n",
              "      <td>0.000</td>\n",
              "      <td>1.000</td>\n",
              "      <td>0.000</td>\n",
              "      <td>0.0000</td>\n",
              "    </tr>\n",
              "    <tr>\n",
              "      <th>1720</th>\n",
              "      <td>kitkll8lc9f624</td>\n",
              "      <td>kccop9yg5w7li</td>\n",
              "      <td>2020-12-18 01:04:42+00:00</td>\n",
              "      <td>post</td>\n",
              "      <td>False</td>\n",
              "      <td>no</td>\n",
              "      <td>confirming submission/complete exam</td>\n",
              "      <td>hello all, i just finished my exam but proctor...</td>\n",
              "      <td>confirming submission/complete exam hello all,...</td>\n",
              "      <td>0.061</td>\n",
              "      <td>0.900</td>\n",
              "      <td>0.039</td>\n",
              "      <td>-0.3137</td>\n",
              "    </tr>\n",
              "    <tr>\n",
              "      <th>1721</th>\n",
              "      <td>kitkr4076bt4lv</td>\n",
              "      <td>jrleouqzv0p38x</td>\n",
              "      <td>2020-12-18 01:09:00+00:00</td>\n",
              "      <td>followup</td>\n",
              "      <td>False</td>\n",
              "      <td>no</td>\n",
              "      <td>hi amber, don't worry about it. while i haven'...</td>\n",
              "      <td></td>\n",
              "      <td>hi amber, don't worry about it. while i haven'...</td>\n",
              "      <td>0.000</td>\n",
              "      <td>0.861</td>\n",
              "      <td>0.139</td>\n",
              "      <td>0.5667</td>\n",
              "    </tr>\n",
              "  </tbody>\n",
              "</table>\n",
              "<p>90 rows × 13 columns</p>\n",
              "</div>"
            ],
            "text/plain": [
              "           unique_id             uid  ...    pos compound\n",
              "1632  khkbq1tuena3x4  kccprc5trdb2uv  ...  0.093   0.3313\n",
              "1633  khl87tc0kqw6yd  kccprfql4pw318  ...  0.177   0.6369\n",
              "1634  khmqpcfsbe956a  kccprfql4pw318  ...  0.455   0.3612\n",
              "1635  khnhpx6evh04j1     gd6v7134AUa  ...  0.160   0.9831\n",
              "1636  khno7bg7rbv7b6  k54tl8fv6s767g  ...  0.115   0.3436\n",
              "...              ...             ...  ...    ...      ...\n",
              "1717  kiqxbveidci4xm  k54tq3hzuyo33f  ...  0.152   0.3612\n",
              "1718  kirc9jcvei11tr  kccpr58wnwl2lm  ...  0.370   0.7082\n",
              "1719  kitg7eg1kr12m4  kccpicp8wjt60n  ...  0.000   0.0000\n",
              "1720  kitkll8lc9f624   kccop9yg5w7li  ...  0.039  -0.3137\n",
              "1721  kitkr4076bt4lv  jrleouqzv0p38x  ...  0.139   0.5667\n",
              "\n",
              "[90 rows x 13 columns]"
            ]
          },
          "metadata": {
            "tags": []
          },
          "execution_count": 25
        }
      ]
    },
    {
      "cell_type": "markdown",
      "metadata": {
        "id": "nuHvKvwyfWK7"
      },
      "source": [
        "## Plotting the Sentiments"
      ]
    },
    {
      "cell_type": "markdown",
      "metadata": {
        "id": "qrRqelBHfbsN"
      },
      "source": [
        "Types of sentiments:-\n",
        "\n",
        "\n",
        "*   **Positive**: (also called, pos) Positive sentiment of happiness\n",
        "*   **Negative**: (also called, neg) Negative sentiment of sadness\n",
        "*   **Neutral**: (also called, neu) Neither positive nor negative\n",
        "*   **Compound**: Sum of positive, negative and neutral sentiments normalized between -1 to 1, where -1 is most negative and +1 is most positive sentiment\n",
        "\n",
        "\n",
        "\n"
      ]
    },
    {
      "cell_type": "markdown",
      "metadata": {
        "id": "3s7n-k6ZhTH7"
      },
      "source": [
        "## Compound Sentiment Plots"
      ]
    },
    {
      "cell_type": "markdown",
      "metadata": {
        "id": "L7NpNS8OhZcs"
      },
      "source": [
        "### Exam 1"
      ]
    },
    {
      "cell_type": "code",
      "metadata": {
        "colab": {
          "base_uri": "https://localhost:8080/",
          "height": 295
        },
        "id": "JLoXRK3tiXSQ",
        "outputId": "69e765d6-d9d5-45f9-d143-ac8b8ec583f7"
      },
      "source": [
        "plt.title(\"Compound Sentiment of Exam 1\")\n",
        "plt.plot(e1['compound'], color='blue')\n",
        "plt.xlabel(\"Post number\")\n",
        "plt.ylabel(\"Sentiment Value\")\n",
        "plt.ylim((-1, 1))\n",
        "plt.show()"
      ],
      "execution_count": null,
      "outputs": [
        {
          "output_type": "display_data",
          "data": {
            "image/png": "[encoded data removed]",
            "text/plain": [
              "<Figure size 432x288 with 1 Axes>"
            ]
          },
          "metadata": {
            "tags": [],
            "needs_background": "light"
          }
        }
      ]
    },
    {
      "cell_type": "markdown",
      "metadata": {
        "id": "9-odNCXLhcY7"
      },
      "source": [
        "### Exam 2"
      ]
    },
    {
      "cell_type": "code",
      "metadata": {
        "colab": {
          "base_uri": "https://localhost:8080/",
          "height": 295
        },
        "id": "23VhFUetj_iX",
        "outputId": "1d3c4e42-bbe2-423b-c50a-a4d7e54fe6c3"
      },
      "source": [
        "plt.title(\"Compound Sentiment of Exam 2\")\n",
        "plt.plot(e2['compound'], color='blue')\n",
        "plt.xlabel(\"Post number\")\n",
        "plt.ylabel(\"Sentiment Value\")\n",
        "plt.ylim((-1, 1))\n",
        "plt.show()"
      ],
      "execution_count": null,
      "outputs": [
        {
          "output_type": "display_data",
          "data": {
            "image/png": "[encoded data removed]",
            "text/plain": [
              "<Figure size 432x288 with 1 Axes>"
            ]
          },
          "metadata": {
            "tags": [],
            "needs_background": "light"
          }
        }
      ]
    },
    {
      "cell_type": "markdown",
      "metadata": {
        "id": "quFLhM92iOTL"
      },
      "source": [
        "### Exam 3"
      ]
    },
    {
      "cell_type": "code",
      "metadata": {
        "colab": {
          "base_uri": "https://localhost:8080/",
          "height": 295
        },
        "id": "vew1Y2cLkdp3",
        "outputId": "75bb370a-452c-40a6-be0d-09e66705221d"
      },
      "source": [
        "plt.title(\"Compound Sentiment of Exam 3\")\n",
        "plt.plot(e3['compound'], color='blue')\n",
        "plt.xlabel(\"Post number\")\n",
        "plt.ylabel(\"Sentiment Value\")\n",
        "plt.ylim((-1, 1))\n",
        "plt.show()"
      ],
      "execution_count": null,
      "outputs": [
        {
          "output_type": "display_data",
          "data": {
            "image/png": "[encoded data removed]",
            "text/plain": [
              "<Figure size 432x288 with 1 Axes>"
            ]
          },
          "metadata": {
            "tags": [],
            "needs_background": "light"
          }
        }
      ]
    },
    {
      "cell_type": "markdown",
      "metadata": {
        "id": "92qeH_L9iQFU"
      },
      "source": [
        "### Exam 4"
      ]
    },
    {
      "cell_type": "code",
      "metadata": {
        "colab": {
          "base_uri": "https://localhost:8080/",
          "height": 295
        },
        "id": "CC-0bTvhknIc",
        "outputId": "5f5aaf67-1dab-4e1f-dbb4-fd81d1912b5a"
      },
      "source": [
        "plt.title(\"Compound Sentiment of Exam 4\")\n",
        "plt.plot(e4['compound'], color='blue')\n",
        "plt.xlabel(\"Post number\")\n",
        "plt.ylabel(\"Sentiment Value\")\n",
        "plt.ylim((-1, 1))\n",
        "plt.show()"
      ],
      "execution_count": null,
      "outputs": [
        {
          "output_type": "display_data",
          "data": {
            "image/png": "[encoded data removed]",
            "text/plain": [
              "<Figure size 432x288 with 1 Axes>"
            ]
          },
          "metadata": {
            "tags": [],
            "needs_background": "light"
          }
        }
      ]
    },
    {
      "cell_type": "markdown",
      "metadata": {
        "id": "6GWzRGhSlu-G"
      },
      "source": [
        "## Positive Sentiment Plots"
      ]
    },
    {
      "cell_type": "markdown",
      "metadata": {
        "id": "Blq1WiFVlykK"
      },
      "source": [
        "### Exam 1"
      ]
    },
    {
      "cell_type": "code",
      "metadata": {
        "colab": {
          "base_uri": "https://localhost:8080/",
          "height": 295
        },
        "id": "WFRGUK80l0Yo",
        "outputId": "92438def-9fbd-426b-f089-9ebcea036d2f"
      },
      "source": [
        "plt.title(\"Positive Sentiment of Exam 1\")\n",
        "plt.plot(e1['pos'], color='green')\n",
        "plt.xlabel(\"Post number\")\n",
        "plt.ylabel(\"Sentiment Probability\")\n",
        "plt.ylim((0, 1))\n",
        "plt.show()"
      ],
      "execution_count": null,
      "outputs": [
        {
          "output_type": "display_data",
          "data": {
            "image/png": "[encoded data removed]",
            "text/plain": [
              "<Figure size 432x288 with 1 Axes>"
            ]
          },
          "metadata": {
            "tags": [],
            "needs_background": "light"
          }
        }
      ]
    },
    {
      "cell_type": "markdown",
      "metadata": {
        "id": "_pUe56L0l0wD"
      },
      "source": [
        "### Exam 2"
      ]
    },
    {
      "cell_type": "code",
      "metadata": {
        "colab": {
          "base_uri": "https://localhost:8080/",
          "height": 295
        },
        "id": "TKz1IjoBl24j",
        "outputId": "df6d6619-e1e5-4e2f-f35a-74a228a3739b"
      },
      "source": [
        "plt.title(\"Positive Sentiment of Exam 2\")\n",
        "plt.plot(e2['pos'], color='green')\n",
        "plt.xlabel(\"Post number\")\n",
        "plt.ylabel(\"Sentiment Probability\")\n",
        "plt.ylim((0, 1))\n",
        "plt.show()"
      ],
      "execution_count": null,
      "outputs": [
        {
          "output_type": "display_data",
          "data": {
            "image/png": "[encoded data removed]",
            "text/plain": [
              "<Figure size 432x288 with 1 Axes>"
            ]
          },
          "metadata": {
            "tags": [],
            "needs_background": "light"
          }
        }
      ]
    },
    {
      "cell_type": "markdown",
      "metadata": {
        "id": "CJ9wXu9Sl3hM"
      },
      "source": [
        "### Exam 3"
      ]
    },
    {
      "cell_type": "code",
      "metadata": {
        "colab": {
          "base_uri": "https://localhost:8080/",
          "height": 295
        },
        "id": "W5UCrBzSl5PT",
        "outputId": "152e7893-14a2-4f2f-9ea0-4a7fd8d4682a"
      },
      "source": [
        "plt.title(\"Positive Sentiment of Exam 3\")\n",
        "plt.plot(e3['pos'], color='green')\n",
        "plt.xlabel(\"Post number\")\n",
        "plt.ylabel(\"Sentiment Probability\")\n",
        "plt.ylim((0, 1))\n",
        "plt.show()"
      ],
      "execution_count": null,
      "outputs": [
        {
          "output_type": "display_data",
          "data": {
            "image/png": "[encoded data removed]",
            "text/plain": [
              "<Figure size 432x288 with 1 Axes>"
            ]
          },
          "metadata": {
            "tags": [],
            "needs_background": "light"
          }
        }
      ]
    },
    {
      "cell_type": "markdown",
      "metadata": {
        "id": "WQ78B8-Pl5rs"
      },
      "source": [
        "### Exam 4"
      ]
    },
    {
      "cell_type": "code",
      "metadata": {
        "colab": {
          "base_uri": "https://localhost:8080/",
          "height": 295
        },
        "id": "ZNPBfCYYl7HJ",
        "outputId": "4087ac68-fee0-44d5-a370-4fd6e4ef43ac"
      },
      "source": [
        "plt.title(\"Positive Sentiment of Exam 4\")\n",
        "plt.plot(e4['pos'], color='green')\n",
        "plt.xlabel(\"Post number\")\n",
        "plt.ylabel(\"Sentiment Probability\")\n",
        "plt.ylim((0, 1))\n",
        "plt.show()"
      ],
      "execution_count": null,
      "outputs": [
        {
          "output_type": "display_data",
          "data": {
            "image/png": "[encoded data removed]",
            "text/plain": [
              "<Figure size 432x288 with 1 Axes>"
            ]
          },
          "metadata": {
            "tags": [],
            "needs_background": "light"
          }
        }
      ]
    },
    {
      "cell_type": "markdown",
      "metadata": {
        "id": "VnQsr3jDk2CG"
      },
      "source": [
        "## Negative Sentiment Plots"
      ]
    },
    {
      "cell_type": "markdown",
      "metadata": {
        "id": "OEwi2H1kk7b7"
      },
      "source": [
        "### Exam 1"
      ]
    },
    {
      "cell_type": "code",
      "metadata": {
        "colab": {
          "base_uri": "https://localhost:8080/",
          "height": 295
        },
        "id": "Vo0o0v9wlC_r",
        "outputId": "89681f60-a6ef-4564-b719-7e30d4061af5"
      },
      "source": [
        "plt.title(\"Negative Sentiment of Exam 1\")\n",
        "plt.plot(e1['neg'], color='red')\n",
        "plt.xlabel(\"Post number\")\n",
        "plt.ylabel(\"Sentiment Probability\")\n",
        "plt.ylim((0, 1))\n",
        "plt.show()"
      ],
      "execution_count": null,
      "outputs": [
        {
          "output_type": "display_data",
          "data": {
            "image/png": "[encoded data removed]",
            "text/plain": [
              "<Figure size 432x288 with 1 Axes>"
            ]
          },
          "metadata": {
            "tags": [],
            "needs_background": "light"
          }
        }
      ]
    },
    {
      "cell_type": "markdown",
      "metadata": {
        "id": "yJKTJKN3k9sW"
      },
      "source": [
        "### Exam 2"
      ]
    },
    {
      "cell_type": "code",
      "metadata": {
        "colab": {
          "base_uri": "https://localhost:8080/",
          "height": 295
        },
        "id": "mTl8_8gsldk0",
        "outputId": "69f9f559-b1a6-4f1f-87d6-8563687bb415"
      },
      "source": [
        "plt.title(\"Negative Sentiment of Exam 2\")\n",
        "plt.plot(e2['neg'], color='red')\n",
        "plt.xlabel(\"Post number\")\n",
        "plt.ylabel(\"Sentiment Probability\")\n",
        "plt.ylim((0, 1))\n",
        "plt.show()"
      ],
      "execution_count": null,
      "outputs": [
        {
          "output_type": "display_data",
          "data": {
            "image/png": "[encoded data removed]",
            "text/plain": [
              "<Figure size 432x288 with 1 Axes>"
            ]
          },
          "metadata": {
            "tags": [],
            "needs_background": "light"
          }
        }
      ]
    },
    {
      "cell_type": "markdown",
      "metadata": {
        "id": "_5nqhNIxk_f7"
      },
      "source": [
        "### Exam 3"
      ]
    },
    {
      "cell_type": "code",
      "metadata": {
        "colab": {
          "base_uri": "https://localhost:8080/",
          "height": 295
        },
        "id": "CwALxrhWlj8f",
        "outputId": "81ee351b-5a4a-489a-a31e-a1a6ad9f9f90"
      },
      "source": [
        "plt.title(\"Negative Sentiment of Exam 3\")\n",
        "plt.plot(e3['neg'], color='red')\n",
        "plt.xlabel(\"Post number\")\n",
        "plt.ylabel(\"Sentiment Probability\")\n",
        "plt.ylim((0, 1))\n",
        "plt.show()"
      ],
      "execution_count": null,
      "outputs": [
        {
          "output_type": "display_data",
          "data": {
            "image/png": "[encoded data removed]",
            "text/plain": [
              "<Figure size 432x288 with 1 Axes>"
            ]
          },
          "metadata": {
            "tags": [],
            "needs_background": "light"
          }
        }
      ]
    },
    {
      "cell_type": "markdown",
      "metadata": {
        "id": "_A6cC20PlBC7"
      },
      "source": [
        "### Exam 4"
      ]
    },
    {
      "cell_type": "code",
      "metadata": {
        "colab": {
          "base_uri": "https://localhost:8080/",
          "height": 295
        },
        "id": "HQn8xfDTlo5W",
        "outputId": "e16f6faa-7332-4b48-ad55-ef145ef1f89e"
      },
      "source": [
        "plt.title(\"Negative Sentiment of Exam 4\")\n",
        "plt.plot(e4['neg'], color='red')\n",
        "plt.xlabel(\"Post number\")\n",
        "plt.ylabel(\"Sentiment Probability\")\n",
        "plt.ylim((0, 1))\n",
        "plt.show()"
      ],
      "execution_count": null,
      "outputs": [
        {
          "output_type": "display_data",
          "data": {
            "image/png": "[encoded data removed]",
            "text/plain": [
              "<Figure size 432x288 with 1 Axes>"
            ]
          },
          "metadata": {
            "tags": [],
            "needs_background": "light"
          }
        }
      ]
    },
    {
      "cell_type": "markdown",
      "metadata": {
        "id": "JtGGbs1hmzy-"
      },
      "source": [
        "## Positive v/s Negative Sentiment"
      ]
    },
    {
      "cell_type": "markdown",
      "metadata": {
        "id": "PcBVxGk3m3za"
      },
      "source": [
        "### Exam 1"
      ]
    },
    {
      "cell_type": "code",
      "metadata": {
        "colab": {
          "base_uri": "https://localhost:8080/",
          "height": 295
        },
        "id": "04J6KlvOmRUn",
        "outputId": "95404c1c-2e15-4402-df48-337a5fd2e7ed"
      },
      "source": [
        "plt.title(\"Positive vs Negative Sentiment of Exam 1\")\n",
        "plt.plot(e1['pos'], color='green')\n",
        "plt.plot(e1['neg'], color='red')\n",
        "plt.xlabel(\"Post number\")\n",
        "plt.ylabel(\"Sentiment Probability\")\n",
        "plt.ylim((0, 1))\n",
        "plt.show()"
      ],
      "execution_count": null,
      "outputs": [
        {
          "output_type": "display_data",
          "data": {
            "image/png": "[encoded data removed]",
            "text/plain": [
              "<Figure size 432x288 with 1 Axes>"
            ]
          },
          "metadata": {
            "tags": [],
            "needs_background": "light"
          }
        }
      ]
    },
    {
      "cell_type": "markdown",
      "metadata": {
        "id": "KWc8N6b3m6Xb"
      },
      "source": [
        "### Exam 2"
      ]
    },
    {
      "cell_type": "code",
      "metadata": {
        "colab": {
          "base_uri": "https://localhost:8080/",
          "height": 295
        },
        "id": "CDUTXBjrmh1F",
        "outputId": "4e254d56-409c-483d-bedc-ec70cd596a12"
      },
      "source": [
        "plt.title(\"Positive vs Negative Sentiment of Exam 2\")\n",
        "plt.plot(e2['pos'], color='green')\n",
        "plt.plot(e2['neg'], color='red')\n",
        "plt.xlabel(\"Post number\")\n",
        "plt.ylabel(\"Sentiment Probability\")\n",
        "plt.ylim((0, 1))\n",
        "plt.show()"
      ],
      "execution_count": null,
      "outputs": [
        {
          "output_type": "display_data",
          "data": {
            "image/png": "[encoded data removed]",
            "text/plain": [
              "<Figure size 432x288 with 1 Axes>"
            ]
          },
          "metadata": {
            "tags": [],
            "needs_background": "light"
          }
        }
      ]
    },
    {
      "cell_type": "markdown",
      "metadata": {
        "id": "fGHfH_i_m8jn"
      },
      "source": [
        "### Exam 3"
      ]
    },
    {
      "cell_type": "code",
      "metadata": {
        "colab": {
          "base_uri": "https://localhost:8080/",
          "height": 295
        },
        "id": "cy_yAUCYmnnX",
        "outputId": "93bc1283-88c3-466e-b2fd-355d863bed42"
      },
      "source": [
        "plt.title(\"Positive vs Negative Sentiment of Exam 3\")\n",
        "plt.plot(e3['pos'], color='green')\n",
        "plt.plot(e3['neg'], color='red')\n",
        "plt.xlabel(\"Post number\")\n",
        "plt.ylabel(\"Sentiment Probability\")\n",
        "plt.ylim((0, 1))\n",
        "plt.show()"
      ],
      "execution_count": null,
      "outputs": [
        {
          "output_type": "display_data",
          "data": {
            "image/png": "[encoded data removed]",
            "text/plain": [
              "<Figure size 432x288 with 1 Axes>"
            ]
          },
          "metadata": {
            "tags": [],
            "needs_background": "light"
          }
        }
      ]
    },
    {
      "cell_type": "markdown",
      "metadata": {
        "id": "5P7xFRQFm-g2"
      },
      "source": [
        "### Exam 4"
      ]
    },
    {
      "cell_type": "code",
      "metadata": {
        "colab": {
          "base_uri": "https://localhost:8080/",
          "height": 295
        },
        "id": "Z4B7O0rPmrmK",
        "outputId": "29a822f9-fb3a-4aa2-8e73-2dfd4eb98630"
      },
      "source": [
        "plt.title(\"Positive vs Negative Sentiment of Exam 4\")\n",
        "plt.plot(e4['pos'], color='green')\n",
        "plt.plot(e4['neg'], color='red')\n",
        "plt.xlabel(\"Post number\")\n",
        "plt.ylabel(\"Sentiment Probability\")\n",
        "plt.ylim((0, 1))\n",
        "plt.show()"
      ],
      "execution_count": null,
      "outputs": [
        {
          "output_type": "display_data",
          "data": {
            "image/png": "[encoded data removed]",
            "text/plain": [
              "<Figure size 432x288 with 1 Axes>"
            ]
          },
          "metadata": {
            "tags": [],
            "needs_background": "light"
          }
        }
      ]
    },
    {
      "cell_type": "markdown",
      "metadata": {
        "id": "_VC18qeZnePo"
      },
      "source": [
        "## Count of all the 3 sentiments: pos, neg, neu"
      ]
    },
    {
      "cell_type": "code",
      "metadata": {
        "id": "GxsfyEhHob-O"
      },
      "source": [
        "# Generate the classes\n",
        "sentiments = ['positive', 'negative', 'neutral']"
      ],
      "execution_count": null,
      "outputs": []
    },
    {
      "cell_type": "markdown",
      "metadata": {
        "id": "Q2eE2H-Qs1XZ"
      },
      "source": [
        "### Exam 1"
      ]
    },
    {
      "cell_type": "code",
      "metadata": {
        "id": "JrET68y5noJc"
      },
      "source": [
        "# Exam 1\n",
        "e1_classes = []\n",
        "e1_count = [0]*3\n",
        "for postve, negtve, neutral in zip(e1['pos'], e1['neg'], e1['neu']):\n",
        "  postve = abs(postve)\n",
        "  negtve = abs(negtve)\n",
        "  neutral = abs(neutral)\n",
        "  if postve > negtve and postve >= neutral:\n",
        "    e1_classes.append(sentiments[0])\n",
        "    e1_count[0] += 1\n",
        "  elif negtve > postve and negtve >= neutral:\n",
        "    e1_classes.append(sentiments[1])\n",
        "    e1_count[1] += 1\n",
        "  else:\n",
        "    e1_classes.append(sentiments[2])\n",
        "    e1_count[2] += 1\n",
        "e1['sentiment'] = pd.DataFrame(e1_classes, index=[i for i in range(e1.index[0], e1.index[-1]+1)])"
      ],
      "execution_count": null,
      "outputs": []
    },
    {
      "cell_type": "code",
      "metadata": {
        "colab": {
          "base_uri": "https://localhost:8080/",
          "height": 898
        },
        "id": "TehJW3FlGRPp",
        "outputId": "c34f5ae0-e2ba-4ff8-b9d0-38f2ef8b8df4"
      },
      "source": [
        "e1"
      ],
      "execution_count": null,
      "outputs": [
        {
          "output_type": "execute_result",
          "data": {
            "text/html": [
              "<div>\n",
              "<style scoped>\n",
              "    .dataframe tbody tr th:only-of-type {\n",
              "        vertical-align: middle;\n",
              "    }\n",
              "\n",
              "    .dataframe tbody tr th {\n",
              "        vertical-align: top;\n",
              "    }\n",
              "\n",
              "    .dataframe thead th {\n",
              "        text-align: right;\n",
              "    }\n",
              "</style>\n",
              "<table border=\"1\" class=\"dataframe\">\n",
              "  <thead>\n",
              "    <tr style=\"text-align: right;\">\n",
              "      <th></th>\n",
              "      <th>unique_id</th>\n",
              "      <th>uid</th>\n",
              "      <th>created</th>\n",
              "      <th>type</th>\n",
              "      <th>is_instructor</th>\n",
              "      <th>anon</th>\n",
              "      <th>subject</th>\n",
              "      <th>content</th>\n",
              "      <th>data_content</th>\n",
              "      <th>neg</th>\n",
              "      <th>neu</th>\n",
              "      <th>pos</th>\n",
              "      <th>compound</th>\n",
              "      <th>sentiment</th>\n",
              "    </tr>\n",
              "  </thead>\n",
              "  <tbody>\n",
              "    <tr>\n",
              "      <th>0</th>\n",
              "      <td>kcaz653v7u666u</td>\n",
              "      <td>gd6v7134AUa</td>\n",
              "      <td>2020-07-06 20:46:44+00:00</td>\n",
              "      <td>post</td>\n",
              "      <td>False</td>\n",
              "      <td>no</td>\n",
              "      <td>Search for Teammates!</td>\n",
              "      <td>pa.load(\"/dashboard/project_partners\", null, f...</td>\n",
              "      <td>Search for Teammates! pa.load(\"/dashboard/proj...</td>\n",
              "      <td>0.000</td>\n",
              "      <td>1.000</td>\n",
              "      <td>0.000</td>\n",
              "      <td>0.0000</td>\n",
              "      <td>neutral</td>\n",
              "    </tr>\n",
              "    <tr>\n",
              "      <th>1</th>\n",
              "      <td>kcaz64zljpq66k</td>\n",
              "      <td>gd6v7134AUa</td>\n",
              "      <td>2020-07-06 20:46:44+00:00</td>\n",
              "      <td>post</td>\n",
              "      <td>False</td>\n",
              "      <td>no</td>\n",
              "      <td>Get familiar with Piazza</td>\n",
              "      <td>pa.load(\"/dashboard/get_familiar\", null, funct...</td>\n",
              "      <td>Get familiar with Piazza pa.load(\"/dashboard/g...</td>\n",
              "      <td>0.000</td>\n",
              "      <td>1.000</td>\n",
              "      <td>0.000</td>\n",
              "      <td>0.0000</td>\n",
              "      <td>neutral</td>\n",
              "    </tr>\n",
              "    <tr>\n",
              "      <th>2</th>\n",
              "      <td>kcaz6506lfv66m</td>\n",
              "      <td>gd6v7134AUa</td>\n",
              "      <td>2020-07-06 20:46:44+00:00</td>\n",
              "      <td>post</td>\n",
              "      <td>False</td>\n",
              "      <td>no</td>\n",
              "      <td>Introduce Piazza to your students</td>\n",
              "      <td>pa.load(\"/dashboard/introduce_piazza\", null, f...</td>\n",
              "      <td>Introduce Piazza to your students pa.load(\"/da...</td>\n",
              "      <td>0.000</td>\n",
              "      <td>1.000</td>\n",
              "      <td>0.000</td>\n",
              "      <td>0.0000</td>\n",
              "      <td>neutral</td>\n",
              "    </tr>\n",
              "    <tr>\n",
              "      <th>3</th>\n",
              "      <td>kcaz64xhuj166f</td>\n",
              "      <td>gd6v7134AUa</td>\n",
              "      <td>2020-07-06 20:46:44+00:00</td>\n",
              "      <td>post</td>\n",
              "      <td>False</td>\n",
              "      <td>no</td>\n",
              "      <td>Welcome to Piazza!</td>\n",
              "      <td>piazza is a q&amp;a platform designed to get you g...</td>\n",
              "      <td>Welcome to Piazza! piazza is a q&amp;a platform de...</td>\n",
              "      <td>0.022</td>\n",
              "      <td>0.888</td>\n",
              "      <td>0.091</td>\n",
              "      <td>0.9725</td>\n",
              "      <td>neutral</td>\n",
              "    </tr>\n",
              "    <tr>\n",
              "      <th>4</th>\n",
              "      <td>kcaz64z2b5w66i</td>\n",
              "      <td>gd6v7134AUa</td>\n",
              "      <td>2020-07-06 20:46:44+00:00</td>\n",
              "      <td>post</td>\n",
              "      <td>False</td>\n",
              "      <td>no</td>\n",
              "      <td>Tips &amp; Tricks for a successful class</td>\n",
              "      <td>pa.load(\"/dashboard/tips_tricks\", null, functi...</td>\n",
              "      <td>Tips &amp; Tricks for a successful class pa.load(\"...</td>\n",
              "      <td>0.113</td>\n",
              "      <td>0.602</td>\n",
              "      <td>0.286</td>\n",
              "      <td>0.5106</td>\n",
              "      <td>neutral</td>\n",
              "    </tr>\n",
              "    <tr>\n",
              "      <th>...</th>\n",
              "      <td>...</td>\n",
              "      <td>...</td>\n",
              "      <td>...</td>\n",
              "      <td>...</td>\n",
              "      <td>...</td>\n",
              "      <td>...</td>\n",
              "      <td>...</td>\n",
              "      <td>...</td>\n",
              "      <td>...</td>\n",
              "      <td>...</td>\n",
              "      <td>...</td>\n",
              "      <td>...</td>\n",
              "      <td>...</td>\n",
              "      <td>...</td>\n",
              "    </tr>\n",
              "    <tr>\n",
              "      <th>968</th>\n",
              "      <td>kdumdwljhuc13k</td>\n",
              "      <td>j6f2j9crzay521</td>\n",
              "      <td>2020-08-14 19:23:57+00:00</td>\n",
              "      <td>followup</td>\n",
              "      <td>False</td>\n",
              "      <td>no</td>\n",
              "      <td>wow, thank you! it worked. i was here trying t...</td>\n",
              "      <td></td>\n",
              "      <td>wow, thank you! it worked. i was here trying t...</td>\n",
              "      <td>0.000</td>\n",
              "      <td>0.625</td>\n",
              "      <td>0.375</td>\n",
              "      <td>0.7644</td>\n",
              "      <td>neutral</td>\n",
              "    </tr>\n",
              "    <tr>\n",
              "      <th>969</th>\n",
              "      <td>kdumy3zwkuy6o5</td>\n",
              "      <td>kccpr4483bi2k8</td>\n",
              "      <td>2020-08-14 19:39:40+00:00</td>\n",
              "      <td>followup</td>\n",
              "      <td>False</td>\n",
              "      <td>no</td>\n",
              "      <td>so i emailed the professor last night and call...</td>\n",
              "      <td></td>\n",
              "      <td>so i emailed the professor last night and call...</td>\n",
              "      <td>0.142</td>\n",
              "      <td>0.812</td>\n",
              "      <td>0.046</td>\n",
              "      <td>-0.6361</td>\n",
              "      <td>neutral</td>\n",
              "    </tr>\n",
              "    <tr>\n",
              "      <th>970</th>\n",
              "      <td>kduoi76hgwy7n1</td>\n",
              "      <td>kccpr4483bi2k8</td>\n",
              "      <td>2020-08-14 20:23:17+00:00</td>\n",
              "      <td>followup</td>\n",
              "      <td>False</td>\n",
              "      <td>no</td>\n",
              "      <td>has anyone in this thread received a response ...</td>\n",
              "      <td></td>\n",
              "      <td>has anyone in this thread received a response ...</td>\n",
              "      <td>0.000</td>\n",
              "      <td>1.000</td>\n",
              "      <td>0.000</td>\n",
              "      <td>0.0000</td>\n",
              "      <td>neutral</td>\n",
              "    </tr>\n",
              "    <tr>\n",
              "      <th>971</th>\n",
              "      <td>kduoj7fx1a6kz</td>\n",
              "      <td>k8gcb8lzg3x50j</td>\n",
              "      <td>2020-08-14 20:24:04+00:00</td>\n",
              "      <td>feedback</td>\n",
              "      <td>False</td>\n",
              "      <td>no</td>\n",
              "      <td>nope, nothing.</td>\n",
              "      <td></td>\n",
              "      <td>nope, nothing.</td>\n",
              "      <td>0.000</td>\n",
              "      <td>1.000</td>\n",
              "      <td>0.000</td>\n",
              "      <td>0.0000</td>\n",
              "      <td>neutral</td>\n",
              "    </tr>\n",
              "    <tr>\n",
              "      <th>972</th>\n",
              "      <td>kdusbopm2cs1i4</td>\n",
              "      <td>kccpr8p050m2q9</td>\n",
              "      <td>2020-08-14 22:10:12+00:00</td>\n",
              "      <td>followup</td>\n",
              "      <td>False</td>\n",
              "      <td>no</td>\n",
              "      <td>i had the exam issue with proctoru as well. th...</td>\n",
              "      <td></td>\n",
              "      <td>i had the exam issue with proctoru as well. th...</td>\n",
              "      <td>0.077</td>\n",
              "      <td>0.809</td>\n",
              "      <td>0.115</td>\n",
              "      <td>0.2601</td>\n",
              "      <td>neutral</td>\n",
              "    </tr>\n",
              "  </tbody>\n",
              "</table>\n",
              "<p>973 rows × 14 columns</p>\n",
              "</div>"
            ],
            "text/plain": [
              "          unique_id             uid  ... compound sentiment\n",
              "0    kcaz653v7u666u     gd6v7134AUa  ...   0.0000   neutral\n",
              "1    kcaz64zljpq66k     gd6v7134AUa  ...   0.0000   neutral\n",
              "2    kcaz6506lfv66m     gd6v7134AUa  ...   0.0000   neutral\n",
              "3    kcaz64xhuj166f     gd6v7134AUa  ...   0.9725   neutral\n",
              "4    kcaz64z2b5w66i     gd6v7134AUa  ...   0.5106   neutral\n",
              "..              ...             ...  ...      ...       ...\n",
              "968  kdumdwljhuc13k  j6f2j9crzay521  ...   0.7644   neutral\n",
              "969  kdumy3zwkuy6o5  kccpr4483bi2k8  ...  -0.6361   neutral\n",
              "970  kduoi76hgwy7n1  kccpr4483bi2k8  ...   0.0000   neutral\n",
              "971   kduoj7fx1a6kz  k8gcb8lzg3x50j  ...   0.0000   neutral\n",
              "972  kdusbopm2cs1i4  kccpr8p050m2q9  ...   0.2601   neutral\n",
              "\n",
              "[973 rows x 14 columns]"
            ]
          },
          "metadata": {
            "tags": []
          },
          "execution_count": 44
        }
      ]
    },
    {
      "cell_type": "code",
      "metadata": {
        "id": "JSooKpJPq30k"
      },
      "source": [
        "# save the CSV\n",
        "e1_final = pd.concat([e1['data_content'], e1['sentiment'], e1['pos'], e1['neg'], e1['neu']], axis=1)\n",
        "e1_final.to_csv('Exam1Sentiments.csv', index=True, header=True)"
      ],
      "execution_count": null,
      "outputs": []
    },
    {
      "cell_type": "markdown",
      "metadata": {
        "id": "ucoC6kgMtER7"
      },
      "source": [
        "### Exam 2"
      ]
    },
    {
      "cell_type": "code",
      "metadata": {
        "id": "QpSzWN6QtqD0"
      },
      "source": [
        "# Exam 2\n",
        "e2_classes = []\n",
        "e2_count = [0]*3\n",
        "for postve, negtve, neutral in zip(e2['pos'], e2['neg'], e2['neu']):\n",
        "  postve = abs(postve)\n",
        "  negtve = abs(negtve)\n",
        "  neutral = abs(neutral)\n",
        "  if postve > negtve and postve >= neutral:\n",
        "    e2_classes.append(sentiments[0])\n",
        "    e2_count[0] += 1\n",
        "  elif negtve > postve and negtve >= neutral:\n",
        "    e2_classes.append(sentiments[1])\n",
        "    e2_count[1] += 1\n",
        "  else:\n",
        "    e2_classes.append(sentiments[2])\n",
        "    e2_count[2] += 1\n",
        "e2['sentiment'] = pd.DataFrame(e2_classes, index=[i for i in range(e2.index[0], e2.index[-1]+1)])"
      ],
      "execution_count": null,
      "outputs": []
    },
    {
      "cell_type": "code",
      "metadata": {
        "id": "DFqAd6uvuRRb"
      },
      "source": [
        "# save the CSV\n",
        "e2_final = pd.concat([e2['data_content'], e2['sentiment'], e2['pos'], e2['neg'], e2['neu']], axis=1)\n",
        "e2_final.to_csv('Exam2Sentiments.csv', index=True, header=True)"
      ],
      "execution_count": null,
      "outputs": []
    },
    {
      "cell_type": "markdown",
      "metadata": {
        "id": "BaECnOHm3ChD"
      },
      "source": [
        "### Exam 3"
      ]
    },
    {
      "cell_type": "code",
      "metadata": {
        "id": "mdrVzHdct0x-"
      },
      "source": [
        "# Exam 3\n",
        "e3_classes = []\n",
        "e3_count = [0]*3\n",
        "for postve, negtve, neutral in zip(e3['pos'], e3['neg'], e3['neu']):\n",
        "  postve = abs(postve)\n",
        "  negtve = abs(negtve)\n",
        "  neutral = abs(neutral)\n",
        "  if postve > negtve and postve >= neutral:\n",
        "    e3_classes.append(sentiments[0])\n",
        "    e3_count[0] += 1\n",
        "  elif negtve > postve and negtve >= neutral:\n",
        "    e3_classes.append(sentiments[1])\n",
        "    e3_count[1] += 1\n",
        "  else:\n",
        "    e3_classes.append(sentiments[2])\n",
        "    e3_count[2] += 1\n",
        "e3['sentiment'] = pd.DataFrame(e3_classes, index=[i for i in range(e3.index[0], e3.index[-1]+1)])"
      ],
      "execution_count": null,
      "outputs": []
    },
    {
      "cell_type": "code",
      "metadata": {
        "id": "l6IUpejNuc_1"
      },
      "source": [
        "# save the CSV\n",
        "e3_final = pd.concat([e3['data_content'], e3['sentiment'], e3['pos'], e3['neg'], e3['neu']], axis=1)\n",
        "e3_final.to_csv('Exam3Sentiments.csv', index=True, header=True)"
      ],
      "execution_count": null,
      "outputs": []
    },
    {
      "cell_type": "markdown",
      "metadata": {
        "id": "M34DoYT93Hsh"
      },
      "source": [
        "### Exam 4"
      ]
    },
    {
      "cell_type": "code",
      "metadata": {
        "id": "f6QvSqn3uDNl"
      },
      "source": [
        "# Exam 4\n",
        "e4_classes = []\n",
        "e4_count = [0]*3\n",
        "for postve, negtve, neutral in zip(e4['pos'], e4['neg'], e4['neu']):\n",
        "  postve = abs(postve)\n",
        "  negtve = abs(negtve)\n",
        "  neutral = abs(neutral)\n",
        "  if postve > negtve and postve >= neutral:\n",
        "    e4_classes.append(sentiments[0])\n",
        "    e4_count[0] += 1\n",
        "  elif negtve > postve and negtve >= neutral:\n",
        "    e4_classes.append(sentiments[1])\n",
        "    e4_count[1] += 1\n",
        "  else:\n",
        "    e4_classes.append(sentiments[2])\n",
        "    e4_count[2] += 1\n",
        "e4['sentiment'] = pd.DataFrame(e4_classes, index=[i for i in range(e4.index[0], e4.index[-1]+1)])"
      ],
      "execution_count": null,
      "outputs": []
    },
    {
      "cell_type": "code",
      "metadata": {
        "id": "-UAswii2um0O"
      },
      "source": [
        "# save the CSV\n",
        "e4_final = pd.concat([e4['data_content'], e4['sentiment'], e4['pos'], e4['neg'], e4['neu']], axis=1)\n",
        "e4_final.to_csv('Exam4Sentiments.csv', index=True, header=True)"
      ],
      "execution_count": null,
      "outputs": []
    },
    {
      "cell_type": "markdown",
      "metadata": {
        "id": "VSDFW-6wL-_6"
      },
      "source": [
        "### Plot of Sentiment Count of Piazza Posts by Exam Time Slice"
      ]
    },
    {
      "cell_type": "code",
      "metadata": {
        "colab": {
          "base_uri": "https://localhost:8080/",
          "height": 295
        },
        "id": "IKNLCrguvOVc",
        "outputId": "742a180d-e3ea-4384-a3fb-ce774f618f62"
      },
      "source": [
        "# group bar chart\n",
        "x = np.arange(4)\n",
        "width = 0.2\n",
        "plt.title(\"Sentiment Count of Piazza Posts by Exam Time Slice\")\n",
        "plt.bar(x-0.2, [e1_count[0], e2_count[0], e3_count[0], e4_count[0]], width, color='green')\n",
        "plt.bar(x, [e1_count[1], e2_count[1], e3_count[1], e4_count[1]], width, color='red')\n",
        "plt.bar(x+0.2, [e1_count[2], e2_count[2], e3_count[2], e4_count[2]], width, color='blue')\n",
        "plt.xticks(x, ['Exam 1', 'Exam 2', 'Exam 3', 'Exam 4'])\n",
        "plt.xlabel(\"Exam Time Slice\")\n",
        "plt.ylabel(\"Count\")\n",
        "plt.legend([\"Positive\", \"Negative\", \"Neutral\"])\n",
        "plt.show()"
      ],
      "execution_count": null,
      "outputs": [
        {
          "output_type": "display_data",
          "data": {
            "image/png": "[encoded data removed]",
            "text/plain": [
              "<Figure size 432x288 with 1 Axes>"
            ]
          },
          "metadata": {
            "tags": [],
            "needs_background": "light"
          }
        }
      ]
    },
    {
      "cell_type": "markdown",
      "metadata": {
        "id": "mSW8UcIpxoiC"
      },
      "source": [
        "## Without considering neutral"
      ]
    },
    {
      "cell_type": "markdown",
      "metadata": {
        "id": "T6Fp_kCbLxV6"
      },
      "source": [
        "### Exam 1"
      ]
    },
    {
      "cell_type": "code",
      "metadata": {
        "id": "ZgEfjOolxrnd"
      },
      "source": [
        "# Exam 1\n",
        "e1_classes_wout_neutral = []\n",
        "e1_count_wout_neutral = [0]*2\n",
        "for postve, negtve in zip(e1['pos'], e1['neg']):\n",
        "  postve = abs(postve)\n",
        "  negtve = abs(negtve)\n",
        "  if postve > negtve:\n",
        "    e1_classes_wout_neutral.append(sentiments[0])\n",
        "    e1_count_wout_neutral[0] += 1\n",
        "  else:\n",
        "    e1_classes_wout_neutral.append(sentiments[1])\n",
        "    e1_count_wout_neutral[1] += 1\n",
        "e1['sentiment_wout_neutral'] = pd.DataFrame(e1_classes_wout_neutral, index=[i for i in range(e1.index[0], e1.index[-1]+1)])"
      ],
      "execution_count": null,
      "outputs": []
    },
    {
      "cell_type": "code",
      "metadata": {
        "colab": {
          "base_uri": "https://localhost:8080/",
          "height": 898
        },
        "id": "2LIfZhTZGcJY",
        "outputId": "48f141d3-07b6-4dd7-ecd6-2612fde70c14"
      },
      "source": [
        "e1"
      ],
      "execution_count": null,
      "outputs": [
        {
          "output_type": "execute_result",
          "data": {
            "text/html": [
              "<div>\n",
              "<style scoped>\n",
              "    .dataframe tbody tr th:only-of-type {\n",
              "        vertical-align: middle;\n",
              "    }\n",
              "\n",
              "    .dataframe tbody tr th {\n",
              "        vertical-align: top;\n",
              "    }\n",
              "\n",
              "    .dataframe thead th {\n",
              "        text-align: right;\n",
              "    }\n",
              "</style>\n",
              "<table border=\"1\" class=\"dataframe\">\n",
              "  <thead>\n",
              "    <tr style=\"text-align: right;\">\n",
              "      <th></th>\n",
              "      <th>unique_id</th>\n",
              "      <th>uid</th>\n",
              "      <th>created</th>\n",
              "      <th>type</th>\n",
              "      <th>is_instructor</th>\n",
              "      <th>anon</th>\n",
              "      <th>subject</th>\n",
              "      <th>content</th>\n",
              "      <th>data_content</th>\n",
              "      <th>neg</th>\n",
              "      <th>neu</th>\n",
              "      <th>pos</th>\n",
              "      <th>compound</th>\n",
              "      <th>sentiment</th>\n",
              "      <th>sentiment_wout_neutral</th>\n",
              "    </tr>\n",
              "  </thead>\n",
              "  <tbody>\n",
              "    <tr>\n",
              "      <th>0</th>\n",
              "      <td>kcaz653v7u666u</td>\n",
              "      <td>gd6v7134AUa</td>\n",
              "      <td>2020-07-06 20:46:44+00:00</td>\n",
              "      <td>post</td>\n",
              "      <td>False</td>\n",
              "      <td>no</td>\n",
              "      <td>Search for Teammates!</td>\n",
              "      <td>pa.load(\"/dashboard/project_partners\", null, f...</td>\n",
              "      <td>Search for Teammates! pa.load(\"/dashboard/proj...</td>\n",
              "      <td>0.000</td>\n",
              "      <td>1.000</td>\n",
              "      <td>0.000</td>\n",
              "      <td>0.0000</td>\n",
              "      <td>neutral</td>\n",
              "      <td>negative</td>\n",
              "    </tr>\n",
              "    <tr>\n",
              "      <th>1</th>\n",
              "      <td>kcaz64zljpq66k</td>\n",
              "      <td>gd6v7134AUa</td>\n",
              "      <td>2020-07-06 20:46:44+00:00</td>\n",
              "      <td>post</td>\n",
              "      <td>False</td>\n",
              "      <td>no</td>\n",
              "      <td>Get familiar with Piazza</td>\n",
              "      <td>pa.load(\"/dashboard/get_familiar\", null, funct...</td>\n",
              "      <td>Get familiar with Piazza pa.load(\"/dashboard/g...</td>\n",
              "      <td>0.000</td>\n",
              "      <td>1.000</td>\n",
              "      <td>0.000</td>\n",
              "      <td>0.0000</td>\n",
              "      <td>neutral</td>\n",
              "      <td>negative</td>\n",
              "    </tr>\n",
              "    <tr>\n",
              "      <th>2</th>\n",
              "      <td>kcaz6506lfv66m</td>\n",
              "      <td>gd6v7134AUa</td>\n",
              "      <td>2020-07-06 20:46:44+00:00</td>\n",
              "      <td>post</td>\n",
              "      <td>False</td>\n",
              "      <td>no</td>\n",
              "      <td>Introduce Piazza to your students</td>\n",
              "      <td>pa.load(\"/dashboard/introduce_piazza\", null, f...</td>\n",
              "      <td>Introduce Piazza to your students pa.load(\"/da...</td>\n",
              "      <td>0.000</td>\n",
              "      <td>1.000</td>\n",
              "      <td>0.000</td>\n",
              "      <td>0.0000</td>\n",
              "      <td>neutral</td>\n",
              "      <td>negative</td>\n",
              "    </tr>\n",
              "    <tr>\n",
              "      <th>3</th>\n",
              "      <td>kcaz64xhuj166f</td>\n",
              "      <td>gd6v7134AUa</td>\n",
              "      <td>2020-07-06 20:46:44+00:00</td>\n",
              "      <td>post</td>\n",
              "      <td>False</td>\n",
              "      <td>no</td>\n",
              "      <td>Welcome to Piazza!</td>\n",
              "      <td>piazza is a q&amp;a platform designed to get you g...</td>\n",
              "      <td>Welcome to Piazza! piazza is a q&amp;a platform de...</td>\n",
              "      <td>0.022</td>\n",
              "      <td>0.888</td>\n",
              "      <td>0.091</td>\n",
              "      <td>0.9725</td>\n",
              "      <td>neutral</td>\n",
              "      <td>positive</td>\n",
              "    </tr>\n",
              "    <tr>\n",
              "      <th>4</th>\n",
              "      <td>kcaz64z2b5w66i</td>\n",
              "      <td>gd6v7134AUa</td>\n",
              "      <td>2020-07-06 20:46:44+00:00</td>\n",
              "      <td>post</td>\n",
              "      <td>False</td>\n",
              "      <td>no</td>\n",
              "      <td>Tips &amp; Tricks for a successful class</td>\n",
              "      <td>pa.load(\"/dashboard/tips_tricks\", null, functi...</td>\n",
              "      <td>Tips &amp; Tricks for a successful class pa.load(\"...</td>\n",
              "      <td>0.113</td>\n",
              "      <td>0.602</td>\n",
              "      <td>0.286</td>\n",
              "      <td>0.5106</td>\n",
              "      <td>neutral</td>\n",
              "      <td>positive</td>\n",
              "    </tr>\n",
              "    <tr>\n",
              "      <th>...</th>\n",
              "      <td>...</td>\n",
              "      <td>...</td>\n",
              "      <td>...</td>\n",
              "      <td>...</td>\n",
              "      <td>...</td>\n",
              "      <td>...</td>\n",
              "      <td>...</td>\n",
              "      <td>...</td>\n",
              "      <td>...</td>\n",
              "      <td>...</td>\n",
              "      <td>...</td>\n",
              "      <td>...</td>\n",
              "      <td>...</td>\n",
              "      <td>...</td>\n",
              "      <td>...</td>\n",
              "    </tr>\n",
              "    <tr>\n",
              "      <th>968</th>\n",
              "      <td>kdumdwljhuc13k</td>\n",
              "      <td>j6f2j9crzay521</td>\n",
              "      <td>2020-08-14 19:23:57+00:00</td>\n",
              "      <td>followup</td>\n",
              "      <td>False</td>\n",
              "      <td>no</td>\n",
              "      <td>wow, thank you! it worked. i was here trying t...</td>\n",
              "      <td></td>\n",
              "      <td>wow, thank you! it worked. i was here trying t...</td>\n",
              "      <td>0.000</td>\n",
              "      <td>0.625</td>\n",
              "      <td>0.375</td>\n",
              "      <td>0.7644</td>\n",
              "      <td>neutral</td>\n",
              "      <td>positive</td>\n",
              "    </tr>\n",
              "    <tr>\n",
              "      <th>969</th>\n",
              "      <td>kdumy3zwkuy6o5</td>\n",
              "      <td>kccpr4483bi2k8</td>\n",
              "      <td>2020-08-14 19:39:40+00:00</td>\n",
              "      <td>followup</td>\n",
              "      <td>False</td>\n",
              "      <td>no</td>\n",
              "      <td>so i emailed the professor last night and call...</td>\n",
              "      <td></td>\n",
              "      <td>so i emailed the professor last night and call...</td>\n",
              "      <td>0.142</td>\n",
              "      <td>0.812</td>\n",
              "      <td>0.046</td>\n",
              "      <td>-0.6361</td>\n",
              "      <td>neutral</td>\n",
              "      <td>negative</td>\n",
              "    </tr>\n",
              "    <tr>\n",
              "      <th>970</th>\n",
              "      <td>kduoi76hgwy7n1</td>\n",
              "      <td>kccpr4483bi2k8</td>\n",
              "      <td>2020-08-14 20:23:17+00:00</td>\n",
              "      <td>followup</td>\n",
              "      <td>False</td>\n",
              "      <td>no</td>\n",
              "      <td>has anyone in this thread received a response ...</td>\n",
              "      <td></td>\n",
              "      <td>has anyone in this thread received a response ...</td>\n",
              "      <td>0.000</td>\n",
              "      <td>1.000</td>\n",
              "      <td>0.000</td>\n",
              "      <td>0.0000</td>\n",
              "      <td>neutral</td>\n",
              "      <td>negative</td>\n",
              "    </tr>\n",
              "    <tr>\n",
              "      <th>971</th>\n",
              "      <td>kduoj7fx1a6kz</td>\n",
              "      <td>k8gcb8lzg3x50j</td>\n",
              "      <td>2020-08-14 20:24:04+00:00</td>\n",
              "      <td>feedback</td>\n",
              "      <td>False</td>\n",
              "      <td>no</td>\n",
              "      <td>nope, nothing.</td>\n",
              "      <td></td>\n",
              "      <td>nope, nothing.</td>\n",
              "      <td>0.000</td>\n",
              "      <td>1.000</td>\n",
              "      <td>0.000</td>\n",
              "      <td>0.0000</td>\n",
              "      <td>neutral</td>\n",
              "      <td>negative</td>\n",
              "    </tr>\n",
              "    <tr>\n",
              "      <th>972</th>\n",
              "      <td>kdusbopm2cs1i4</td>\n",
              "      <td>kccpr8p050m2q9</td>\n",
              "      <td>2020-08-14 22:10:12+00:00</td>\n",
              "      <td>followup</td>\n",
              "      <td>False</td>\n",
              "      <td>no</td>\n",
              "      <td>i had the exam issue with proctoru as well. th...</td>\n",
              "      <td></td>\n",
              "      <td>i had the exam issue with proctoru as well. th...</td>\n",
              "      <td>0.077</td>\n",
              "      <td>0.809</td>\n",
              "      <td>0.115</td>\n",
              "      <td>0.2601</td>\n",
              "      <td>neutral</td>\n",
              "      <td>positive</td>\n",
              "    </tr>\n",
              "  </tbody>\n",
              "</table>\n",
              "<p>973 rows × 15 columns</p>\n",
              "</div>"
            ],
            "text/plain": [
              "          unique_id             uid  ... sentiment sentiment_wout_neutral\n",
              "0    kcaz653v7u666u     gd6v7134AUa  ...   neutral               negative\n",
              "1    kcaz64zljpq66k     gd6v7134AUa  ...   neutral               negative\n",
              "2    kcaz6506lfv66m     gd6v7134AUa  ...   neutral               negative\n",
              "3    kcaz64xhuj166f     gd6v7134AUa  ...   neutral               positive\n",
              "4    kcaz64z2b5w66i     gd6v7134AUa  ...   neutral               positive\n",
              "..              ...             ...  ...       ...                    ...\n",
              "968  kdumdwljhuc13k  j6f2j9crzay521  ...   neutral               positive\n",
              "969  kdumy3zwkuy6o5  kccpr4483bi2k8  ...   neutral               negative\n",
              "970  kduoi76hgwy7n1  kccpr4483bi2k8  ...   neutral               negative\n",
              "971   kduoj7fx1a6kz  k8gcb8lzg3x50j  ...   neutral               negative\n",
              "972  kdusbopm2cs1i4  kccpr8p050m2q9  ...   neutral               positive\n",
              "\n",
              "[973 rows x 15 columns]"
            ]
          },
          "metadata": {
            "tags": []
          },
          "execution_count": 55
        }
      ]
    },
    {
      "cell_type": "code",
      "metadata": {
        "id": "r33n4NM0WdKv"
      },
      "source": [
        "# save the CSV\n",
        "e1_final_wout_neutral = pd.concat([e1['data_content'], e1['sentiment_wout_neutral'], e1['pos'], e1['neg'], e1['neu']], axis=1)\n",
        "e1_final_wout_neutral.to_csv('Exam1SentimentsWoutNeutral.csv', index=True, header=True)"
      ],
      "execution_count": null,
      "outputs": []
    },
    {
      "cell_type": "markdown",
      "metadata": {
        "id": "JZsOKNJ3LzTm"
      },
      "source": [
        "### Exam 2"
      ]
    },
    {
      "cell_type": "code",
      "metadata": {
        "id": "0GhdqEqlyqoa"
      },
      "source": [
        "# Exam 2\n",
        "e2_classes_wout_neutral = []\n",
        "e2_count_wout_neutral = [0]*2\n",
        "for postve, negtve in zip(e2['pos'], e2['neg']):\n",
        "  postve = abs(postve)\n",
        "  negtve = abs(negtve)\n",
        "  if postve > negtve:\n",
        "    e2_classes_wout_neutral.append(sentiments[0])\n",
        "    e2_count_wout_neutral[0] += 1\n",
        "  else:\n",
        "    e2_classes_wout_neutral.append(sentiments[1])\n",
        "    e2_count_wout_neutral[1] += 1\n",
        "e2['sentiment_wout_neutral'] = pd.DataFrame(e2_classes_wout_neutral, index=[i for i in range(e2.index[0], e2.index[-1]+1)])"
      ],
      "execution_count": null,
      "outputs": []
    },
    {
      "cell_type": "code",
      "metadata": {
        "id": "hV1nsho2XNjG"
      },
      "source": [
        "# save the CSV\n",
        "e2_final_wout_neutral = pd.concat([e2['data_content'], e2['sentiment_wout_neutral'], e2['pos'], e2['neg'], e2['neu']], axis=1)\n",
        "e2_final_wout_neutral.to_csv('Exam2SentimentsWoutNeutral.csv', index=True, header=True)"
      ],
      "execution_count": null,
      "outputs": []
    },
    {
      "cell_type": "markdown",
      "metadata": {
        "id": "cwzt8wcQL1Fx"
      },
      "source": [
        "### Exam 3"
      ]
    },
    {
      "cell_type": "code",
      "metadata": {
        "id": "0Wkxq08PysMC"
      },
      "source": [
        "# Exam 3\n",
        "e3_classes_wout_neutral = []\n",
        "e3_count_wout_neutral = [0]*2\n",
        "for postve, negtve in zip(e3['pos'], e3['neg']):\n",
        "  postve = abs(postve)\n",
        "  negtve = abs(negtve)\n",
        "  if postve > negtve:\n",
        "    e3_classes_wout_neutral.append(sentiments[0])\n",
        "    e3_count_wout_neutral[0] += 1\n",
        "  else:\n",
        "    e3_classes_wout_neutral.append(sentiments[1])\n",
        "    e3_count_wout_neutral[1] += 1\n",
        "e3['sentiment_wout_neutral'] = pd.DataFrame(e3_classes_wout_neutral, index=[i for i in range(e3.index[0], e3.index[-1]+1)])"
      ],
      "execution_count": null,
      "outputs": []
    },
    {
      "cell_type": "code",
      "metadata": {
        "id": "bJvLz5rdXXhF"
      },
      "source": [
        "# save the CSV\n",
        "e3_final_wout_neutral = pd.concat([e3['data_content'], e3['sentiment_wout_neutral'], e3['pos'], e3['neg'], e3['neu']], axis=1)\n",
        "e3_final_wout_neutral.to_csv('Exam3SentimentsWoutNeutral.csv', index=True, header=True)"
      ],
      "execution_count": null,
      "outputs": []
    },
    {
      "cell_type": "markdown",
      "metadata": {
        "id": "5UDzQdOLL3d2"
      },
      "source": [
        "### Exam 4"
      ]
    },
    {
      "cell_type": "code",
      "metadata": {
        "id": "RpZOH6OAytEw"
      },
      "source": [
        "# Exam 4\n",
        "e4_classes_wout_neutral = []\n",
        "e4_count_wout_neutral = [0]*2\n",
        "for postve, negtve in zip(e4['pos'], e4['neg']):\n",
        "  postve = abs(postve)\n",
        "  negtve = abs(negtve)\n",
        "  if postve > negtve:\n",
        "    e4_classes_wout_neutral.append(sentiments[0])\n",
        "    e4_count_wout_neutral[0] += 1\n",
        "  else:\n",
        "    e4_classes_wout_neutral.append(sentiments[1])\n",
        "    e4_count_wout_neutral[1] += 1\n",
        "e4['sentiment_wout_neutral'] = pd.DataFrame(e4_classes_wout_neutral, index=[i for i in range(e4.index[0], e4.index[-1]+1)])"
      ],
      "execution_count": null,
      "outputs": []
    },
    {
      "cell_type": "code",
      "metadata": {
        "id": "pjG1DVKsXgSj"
      },
      "source": [
        "# save the CSV\n",
        "e4_final_wout_neutral = pd.concat([e4['data_content'], e4['sentiment_wout_neutral'], e4['pos'], e4['neg'], e4['neu']], axis=1)\n",
        "e4_final_wout_neutral.to_csv('Exam4SentimentsWoutNeutral.csv', index=True, header=True)"
      ],
      "execution_count": null,
      "outputs": []
    },
    {
      "cell_type": "code",
      "metadata": {
        "colab": {
          "base_uri": "https://localhost:8080/",
          "height": 1000
        },
        "id": "sqwL3fIVFApN",
        "outputId": "5a1478e4-18a6-46f3-8b17-a38963f2bff3"
      },
      "source": [
        "e2"
      ],
      "execution_count": null,
      "outputs": [
        {
          "output_type": "execute_result",
          "data": {
            "text/html": [
              "<div>\n",
              "<style scoped>\n",
              "    .dataframe tbody tr th:only-of-type {\n",
              "        vertical-align: middle;\n",
              "    }\n",
              "\n",
              "    .dataframe tbody tr th {\n",
              "        vertical-align: top;\n",
              "    }\n",
              "\n",
              "    .dataframe thead th {\n",
              "        text-align: right;\n",
              "    }\n",
              "</style>\n",
              "<table border=\"1\" class=\"dataframe\">\n",
              "  <thead>\n",
              "    <tr style=\"text-align: right;\">\n",
              "      <th></th>\n",
              "      <th>unique_id</th>\n",
              "      <th>uid</th>\n",
              "      <th>created</th>\n",
              "      <th>type</th>\n",
              "      <th>is_instructor</th>\n",
              "      <th>anon</th>\n",
              "      <th>subject</th>\n",
              "      <th>content</th>\n",
              "      <th>data_content</th>\n",
              "      <th>neg</th>\n",
              "      <th>neu</th>\n",
              "      <th>pos</th>\n",
              "      <th>compound</th>\n",
              "      <th>sentiment</th>\n",
              "      <th>sentiment_wout_neutral</th>\n",
              "    </tr>\n",
              "  </thead>\n",
              "  <tbody>\n",
              "    <tr>\n",
              "      <th>973</th>\n",
              "      <td>kduxl6hplm219r</td>\n",
              "      <td>kccpre6co5x2yz</td>\n",
              "      <td>2020-08-15 00:37:33+00:00</td>\n",
              "      <td>feedback</td>\n",
              "      <td>False</td>\n",
              "      <td>stud</td>\n",
              "      <td>we should email professor about the incident a...</td>\n",
              "      <td></td>\n",
              "      <td>we should email professor about the incident a...</td>\n",
              "      <td>0.149</td>\n",
              "      <td>0.789</td>\n",
              "      <td>0.061</td>\n",
              "      <td>-0.4588</td>\n",
              "      <td>neutral</td>\n",
              "      <td>negative</td>\n",
              "    </tr>\n",
              "    <tr>\n",
              "      <th>974</th>\n",
              "      <td>kduxvift38t3sp</td>\n",
              "      <td>kccpr4483bi2k8</td>\n",
              "      <td>2020-08-15 00:45:35+00:00</td>\n",
              "      <td>feedback</td>\n",
              "      <td>False</td>\n",
              "      <td>no</td>\n",
              "      <td>i emailed him last night and still have no res...</td>\n",
              "      <td></td>\n",
              "      <td>i emailed him last night and still have no res...</td>\n",
              "      <td>0.140</td>\n",
              "      <td>0.860</td>\n",
              "      <td>0.000</td>\n",
              "      <td>-0.5234</td>\n",
              "      <td>neutral</td>\n",
              "      <td>negative</td>\n",
              "    </tr>\n",
              "    <tr>\n",
              "      <th>975</th>\n",
              "      <td>kdv22grhfhs39c</td>\n",
              "      <td>kccomqtx7x04i</td>\n",
              "      <td>2020-08-15 02:42:58+00:00</td>\n",
              "      <td>post</td>\n",
              "      <td>False</td>\n",
              "      <td>no</td>\n",
              "      <td>In gradescope, do we need to tag a page as &amp;#3...</td>\n",
              "      <td>since our hw 5 extra credit question is techni...</td>\n",
              "      <td>In gradescope, do we need to tag a page as &amp;#3...</td>\n",
              "      <td>0.000</td>\n",
              "      <td>0.890</td>\n",
              "      <td>0.110</td>\n",
              "      <td>0.6767</td>\n",
              "      <td>neutral</td>\n",
              "      <td>positive</td>\n",
              "    </tr>\n",
              "    <tr>\n",
              "      <th>976</th>\n",
              "      <td>kdv728l6bb12ys</td>\n",
              "      <td>kccpr4483bi2k8</td>\n",
              "      <td>2020-08-15 05:02:45+00:00</td>\n",
              "      <td>feedback</td>\n",
              "      <td>False</td>\n",
              "      <td>no</td>\n",
              "      <td>please do not mark this as resolved again as i...</td>\n",
              "      <td></td>\n",
              "      <td>please do not mark this as resolved again as i...</td>\n",
              "      <td>0.000</td>\n",
              "      <td>0.750</td>\n",
              "      <td>0.250</td>\n",
              "      <td>0.4588</td>\n",
              "      <td>neutral</td>\n",
              "      <td>positive</td>\n",
              "    </tr>\n",
              "    <tr>\n",
              "      <th>977</th>\n",
              "      <td>kdv7kktgm1827g</td>\n",
              "      <td>jqjrav14ehv5px</td>\n",
              "      <td>2020-08-15 05:17:01+00:00</td>\n",
              "      <td>feedback</td>\n",
              "      <td>False</td>\n",
              "      <td>no</td>\n",
              "      <td>i'm not sure who marked that as resolved but i...</td>\n",
              "      <td></td>\n",
              "      <td>i'm not sure who marked that as resolved but i...</td>\n",
              "      <td>0.094</td>\n",
              "      <td>0.801</td>\n",
              "      <td>0.105</td>\n",
              "      <td>0.6193</td>\n",
              "      <td>neutral</td>\n",
              "      <td>positive</td>\n",
              "    </tr>\n",
              "    <tr>\n",
              "      <th>...</th>\n",
              "      <td>...</td>\n",
              "      <td>...</td>\n",
              "      <td>...</td>\n",
              "      <td>...</td>\n",
              "      <td>...</td>\n",
              "      <td>...</td>\n",
              "      <td>...</td>\n",
              "      <td>...</td>\n",
              "      <td>...</td>\n",
              "      <td>...</td>\n",
              "      <td>...</td>\n",
              "      <td>...</td>\n",
              "      <td>...</td>\n",
              "      <td>...</td>\n",
              "      <td>...</td>\n",
              "    </tr>\n",
              "    <tr>\n",
              "      <th>1396</th>\n",
              "      <td>kfhl1r19nrmpu</td>\n",
              "      <td>kccoo5w5r2v73o</td>\n",
              "      <td>2020-09-25 01:44:55+00:00</td>\n",
              "      <td>post</td>\n",
              "      <td>False</td>\n",
              "      <td>no</td>\n",
              "      <td>Exam Submitted On Time</td>\n",
              "      <td>is it possible to know if we submitted the exa...</td>\n",
              "      <td>Exam Submitted On Time is it possible to know ...</td>\n",
              "      <td>0.030</td>\n",
              "      <td>0.804</td>\n",
              "      <td>0.166</td>\n",
              "      <td>0.9577</td>\n",
              "      <td>neutral</td>\n",
              "      <td>positive</td>\n",
              "    </tr>\n",
              "    <tr>\n",
              "      <th>1397</th>\n",
              "      <td>kfhekf7v25o78q</td>\n",
              "      <td>kccprf6rrwo30e</td>\n",
              "      <td>2020-09-25 03:56:53+00:00</td>\n",
              "      <td>post</td>\n",
              "      <td>False</td>\n",
              "      <td>no</td>\n",
              "      <td>ProctorU won&amp;#39;t met me take the test</td>\n",
              "      <td>due to technical issues, proctoru won't let me...</td>\n",
              "      <td>ProctorU won&amp;#39;t met me take the test due to...</td>\n",
              "      <td>0.000</td>\n",
              "      <td>1.000</td>\n",
              "      <td>0.000</td>\n",
              "      <td>0.0000</td>\n",
              "      <td>neutral</td>\n",
              "      <td>negative</td>\n",
              "    </tr>\n",
              "    <tr>\n",
              "      <th>1398</th>\n",
              "      <td>kfhrv051xts52z</td>\n",
              "      <td>kccpr6hveyd2ng</td>\n",
              "      <td>2020-09-25 04:55:38+00:00</td>\n",
              "      <td>post</td>\n",
              "      <td>False</td>\n",
              "      <td>no</td>\n",
              "      <td>Wrong exam in proctorU</td>\n",
              "      <td>the exam has a different name then the one i a...</td>\n",
              "      <td>Wrong exam in proctorU the exam has a differen...</td>\n",
              "      <td>0.147</td>\n",
              "      <td>0.853</td>\n",
              "      <td>0.000</td>\n",
              "      <td>-0.4767</td>\n",
              "      <td>neutral</td>\n",
              "      <td>negative</td>\n",
              "    </tr>\n",
              "    <tr>\n",
              "      <th>1399</th>\n",
              "      <td>kfils08c3ffnx</td>\n",
              "      <td>kccpr2zaayq2i8</td>\n",
              "      <td>2020-09-25 18:53:06+00:00</td>\n",
              "      <td>post</td>\n",
              "      <td>False</td>\n",
              "      <td>no</td>\n",
              "      <td>Exam 2</td>\n",
              "      <td>i noticed that for my exam code yesterday, i a...</td>\n",
              "      <td>Exam 2 i noticed that for my exam code yesterd...</td>\n",
              "      <td>0.110</td>\n",
              "      <td>0.833</td>\n",
              "      <td>0.057</td>\n",
              "      <td>-0.4606</td>\n",
              "      <td>neutral</td>\n",
              "      <td>negative</td>\n",
              "    </tr>\n",
              "    <tr>\n",
              "      <th>1400</th>\n",
              "      <td>kfim85qhsilrk</td>\n",
              "      <td>kccprb03yma2tg</td>\n",
              "      <td>2020-09-25 19:05:40+00:00</td>\n",
              "      <td>post</td>\n",
              "      <td>False</td>\n",
              "      <td>stud</td>\n",
              "      <td>regarding the weekly webminar on Friday 3pm</td>\n",
              "      <td>hello folks, we will not have webminar today.i...</td>\n",
              "      <td>regarding the weekly webminar on Friday 3pm he...</td>\n",
              "      <td>0.000</td>\n",
              "      <td>0.903</td>\n",
              "      <td>0.097</td>\n",
              "      <td>0.4404</td>\n",
              "      <td>neutral</td>\n",
              "      <td>positive</td>\n",
              "    </tr>\n",
              "  </tbody>\n",
              "</table>\n",
              "<p>428 rows × 15 columns</p>\n",
              "</div>"
            ],
            "text/plain": [
              "           unique_id             uid  ... sentiment sentiment_wout_neutral\n",
              "973   kduxl6hplm219r  kccpre6co5x2yz  ...   neutral               negative\n",
              "974   kduxvift38t3sp  kccpr4483bi2k8  ...   neutral               negative\n",
              "975   kdv22grhfhs39c   kccomqtx7x04i  ...   neutral               positive\n",
              "976   kdv728l6bb12ys  kccpr4483bi2k8  ...   neutral               positive\n",
              "977   kdv7kktgm1827g  jqjrav14ehv5px  ...   neutral               positive\n",
              "...              ...             ...  ...       ...                    ...\n",
              "1396   kfhl1r19nrmpu  kccoo5w5r2v73o  ...   neutral               positive\n",
              "1397  kfhekf7v25o78q  kccprf6rrwo30e  ...   neutral               negative\n",
              "1398  kfhrv051xts52z  kccpr6hveyd2ng  ...   neutral               negative\n",
              "1399   kfils08c3ffnx  kccpr2zaayq2i8  ...   neutral               negative\n",
              "1400   kfim85qhsilrk  kccprb03yma2tg  ...   neutral               positive\n",
              "\n",
              "[428 rows x 15 columns]"
            ]
          },
          "metadata": {
            "tags": []
          },
          "execution_count": 63
        }
      ]
    },
    {
      "cell_type": "code",
      "metadata": {
        "colab": {
          "base_uri": "https://localhost:8080/",
          "height": 1000
        },
        "id": "fktKQIjVpYHY",
        "outputId": "7d740773-f000-4a20-834b-91d23749ff17"
      },
      "source": [
        "e3"
      ],
      "execution_count": null,
      "outputs": [
        {
          "output_type": "execute_result",
          "data": {
            "text/html": [
              "<div>\n",
              "<style scoped>\n",
              "    .dataframe tbody tr th:only-of-type {\n",
              "        vertical-align: middle;\n",
              "    }\n",
              "\n",
              "    .dataframe tbody tr th {\n",
              "        vertical-align: top;\n",
              "    }\n",
              "\n",
              "    .dataframe thead th {\n",
              "        text-align: right;\n",
              "    }\n",
              "</style>\n",
              "<table border=\"1\" class=\"dataframe\">\n",
              "  <thead>\n",
              "    <tr style=\"text-align: right;\">\n",
              "      <th></th>\n",
              "      <th>unique_id</th>\n",
              "      <th>uid</th>\n",
              "      <th>created</th>\n",
              "      <th>type</th>\n",
              "      <th>is_instructor</th>\n",
              "      <th>anon</th>\n",
              "      <th>subject</th>\n",
              "      <th>content</th>\n",
              "      <th>data_content</th>\n",
              "      <th>neg</th>\n",
              "      <th>neu</th>\n",
              "      <th>pos</th>\n",
              "      <th>compound</th>\n",
              "      <th>sentiment</th>\n",
              "      <th>sentiment_wout_neutral</th>\n",
              "    </tr>\n",
              "  </thead>\n",
              "  <tbody>\n",
              "    <tr>\n",
              "      <th>1401</th>\n",
              "      <td>kfj0o01ihzh7lc</td>\n",
              "      <td>kccpra35bd92s8</td>\n",
              "      <td>2020-09-26 01:49:54+00:00</td>\n",
              "      <td>followup</td>\n",
              "      <td>False</td>\n",
              "      <td>no</td>\n",
              "      <td>is the webinar tomorrow at 9:30?</td>\n",
              "      <td></td>\n",
              "      <td>is the webinar tomorrow at 9:30?</td>\n",
              "      <td>0.000</td>\n",
              "      <td>1.000</td>\n",
              "      <td>0.000</td>\n",
              "      <td>0.0000</td>\n",
              "      <td>neutral</td>\n",
              "      <td>negative</td>\n",
              "    </tr>\n",
              "    <tr>\n",
              "      <th>1402</th>\n",
              "      <td>kfj48yqrnu923k</td>\n",
              "      <td>kccpr533qtr2lf</td>\n",
              "      <td>2020-09-26 03:30:11+00:00</td>\n",
              "      <td>feedback</td>\n",
              "      <td>False</td>\n",
              "      <td>no</td>\n",
              "      <td>i think it is on next thursday 8:00 pm</td>\n",
              "      <td></td>\n",
              "      <td>i think it is on next thursday 8:00 pm</td>\n",
              "      <td>0.000</td>\n",
              "      <td>1.000</td>\n",
              "      <td>0.000</td>\n",
              "      <td>0.0000</td>\n",
              "      <td>neutral</td>\n",
              "      <td>negative</td>\n",
              "    </tr>\n",
              "    <tr>\n",
              "      <th>1403</th>\n",
              "      <td>kfjwidp7dj428d</td>\n",
              "      <td>kccpr35mpc12ig</td>\n",
              "      <td>2020-09-26 16:41:19+00:00</td>\n",
              "      <td>post</td>\n",
              "      <td>False</td>\n",
              "      <td>no</td>\n",
              "      <td>Re-take EXAM 2</td>\n",
              "      <td>hello professor, i would really like to take e...</td>\n",
              "      <td>Re-take EXAM 2 hello professor, i would really...</td>\n",
              "      <td>0.015</td>\n",
              "      <td>0.812</td>\n",
              "      <td>0.172</td>\n",
              "      <td>0.9069</td>\n",
              "      <td>neutral</td>\n",
              "      <td>positive</td>\n",
              "    </tr>\n",
              "    <tr>\n",
              "      <th>1404</th>\n",
              "      <td>kfjwm6211ts3t5</td>\n",
              "      <td>kccpr35mpc12ig</td>\n",
              "      <td>2020-09-26 16:44:16+00:00</td>\n",
              "      <td>post</td>\n",
              "      <td>False</td>\n",
              "      <td>stud</td>\n",
              "      <td>Re-Open EXAM 2</td>\n",
              "      <td>professor, would you be able to re-open exam 2...</td>\n",
              "      <td>Re-Open EXAM 2 professor, would you be able to...</td>\n",
              "      <td>0.115</td>\n",
              "      <td>0.858</td>\n",
              "      <td>0.027</td>\n",
              "      <td>-0.6901</td>\n",
              "      <td>neutral</td>\n",
              "      <td>negative</td>\n",
              "    </tr>\n",
              "    <tr>\n",
              "      <th>1405</th>\n",
              "      <td>kfk2c5jzcfi23p</td>\n",
              "      <td>kccpr3yu44w2jw</td>\n",
              "      <td>2020-09-26 19:25:09+00:00</td>\n",
              "      <td>post</td>\n",
              "      <td>False</td>\n",
              "      <td>no</td>\n",
              "      <td>Module 15 - Typo or some kind of C&amp;#43;&amp;#43; n...</td>\n",
              "      <td>in module 15, section 'accessors and mutators'...</td>\n",
              "      <td>Module 15 - Typo or some kind of C&amp;#43;&amp;#43; n...</td>\n",
              "      <td>0.000</td>\n",
              "      <td>0.944</td>\n",
              "      <td>0.056</td>\n",
              "      <td>0.5330</td>\n",
              "      <td>neutral</td>\n",
              "      <td>positive</td>\n",
              "    </tr>\n",
              "    <tr>\n",
              "      <th>...</th>\n",
              "      <td>...</td>\n",
              "      <td>...</td>\n",
              "      <td>...</td>\n",
              "      <td>...</td>\n",
              "      <td>...</td>\n",
              "      <td>...</td>\n",
              "      <td>...</td>\n",
              "      <td>...</td>\n",
              "      <td>...</td>\n",
              "      <td>...</td>\n",
              "      <td>...</td>\n",
              "      <td>...</td>\n",
              "      <td>...</td>\n",
              "      <td>...</td>\n",
              "      <td>...</td>\n",
              "    </tr>\n",
              "    <tr>\n",
              "      <th>1627</th>\n",
              "      <td>khfkh7z8e9d46l</td>\n",
              "      <td>kccprco99ch2vn</td>\n",
              "      <td>2020-11-13 01:12:50+00:00</td>\n",
              "      <td>post</td>\n",
              "      <td>False</td>\n",
              "      <td>no</td>\n",
              "      <td>Couldn&amp;#39;t find classes when submitting</td>\n",
              "      <td>hello, i've submitted my exam through gradesco...</td>\n",
              "      <td>Couldn&amp;#39;t find classes when submitting hell...</td>\n",
              "      <td>0.000</td>\n",
              "      <td>0.960</td>\n",
              "      <td>0.040</td>\n",
              "      <td>0.2942</td>\n",
              "      <td>neutral</td>\n",
              "      <td>positive</td>\n",
              "    </tr>\n",
              "    <tr>\n",
              "      <th>1628</th>\n",
              "      <td>khfs3pbkvf2qz</td>\n",
              "      <td>kccpraydebv2te</td>\n",
              "      <td>2020-11-13 04:46:16+00:00</td>\n",
              "      <td>followup</td>\n",
              "      <td>False</td>\n",
              "      <td>no</td>\n",
              "      <td>oops, i only submitted via gradescope! i hope ...</td>\n",
              "      <td></td>\n",
              "      <td>oops, i only submitted via gradescope! i hope ...</td>\n",
              "      <td>0.000</td>\n",
              "      <td>0.541</td>\n",
              "      <td>0.459</td>\n",
              "      <td>0.6239</td>\n",
              "      <td>neutral</td>\n",
              "      <td>positive</td>\n",
              "    </tr>\n",
              "    <tr>\n",
              "      <th>1629</th>\n",
              "      <td>khgdqgv2yua2dq</td>\n",
              "      <td>kccprhv31vd33l</td>\n",
              "      <td>2020-11-13 14:51:50+00:00</td>\n",
              "      <td>post</td>\n",
              "      <td>False</td>\n",
              "      <td>no</td>\n",
              "      <td>Homework Not Posted Yet?</td>\n",
              "      <td>hello, i know we had an exam last night, but w...</td>\n",
              "      <td>Homework Not Posted Yet? hello, i know we had ...</td>\n",
              "      <td>0.000</td>\n",
              "      <td>1.000</td>\n",
              "      <td>0.000</td>\n",
              "      <td>0.0000</td>\n",
              "      <td>neutral</td>\n",
              "      <td>negative</td>\n",
              "    </tr>\n",
              "    <tr>\n",
              "      <th>1630</th>\n",
              "      <td>khgkjoflihy66v</td>\n",
              "      <td>kccpr9qwli32rt</td>\n",
              "      <td>2020-11-13 18:02:30+00:00</td>\n",
              "      <td>post</td>\n",
              "      <td>False</td>\n",
              "      <td>no</td>\n",
              "      <td>HW17 - Extent to Which Changing Provided Code ...</td>\n",
              "      <td>hi tas,  quick question about homework 17, reg...</td>\n",
              "      <td>HW17 - Extent to Which Changing Provided Code ...</td>\n",
              "      <td>0.011</td>\n",
              "      <td>0.914</td>\n",
              "      <td>0.075</td>\n",
              "      <td>0.8523</td>\n",
              "      <td>neutral</td>\n",
              "      <td>positive</td>\n",
              "    </tr>\n",
              "    <tr>\n",
              "      <th>1631</th>\n",
              "      <td>khgoprno6z41fl</td>\n",
              "      <td>kccop9yg5w7li</td>\n",
              "      <td>2020-11-13 19:59:13+00:00</td>\n",
              "      <td>post</td>\n",
              "      <td>False</td>\n",
              "      <td>no</td>\n",
              "      <td>Exam 3 Requests</td>\n",
              "      <td>hello all!i am writing on behalf of several ot...</td>\n",
              "      <td>Exam 3 Requests hello all!i am writing on beha...</td>\n",
              "      <td>0.035</td>\n",
              "      <td>0.851</td>\n",
              "      <td>0.115</td>\n",
              "      <td>0.7772</td>\n",
              "      <td>neutral</td>\n",
              "      <td>positive</td>\n",
              "    </tr>\n",
              "  </tbody>\n",
              "</table>\n",
              "<p>231 rows × 15 columns</p>\n",
              "</div>"
            ],
            "text/plain": [
              "           unique_id             uid  ... sentiment sentiment_wout_neutral\n",
              "1401  kfj0o01ihzh7lc  kccpra35bd92s8  ...   neutral               negative\n",
              "1402  kfj48yqrnu923k  kccpr533qtr2lf  ...   neutral               negative\n",
              "1403  kfjwidp7dj428d  kccpr35mpc12ig  ...   neutral               positive\n",
              "1404  kfjwm6211ts3t5  kccpr35mpc12ig  ...   neutral               negative\n",
              "1405  kfk2c5jzcfi23p  kccpr3yu44w2jw  ...   neutral               positive\n",
              "...              ...             ...  ...       ...                    ...\n",
              "1627  khfkh7z8e9d46l  kccprco99ch2vn  ...   neutral               positive\n",
              "1628   khfs3pbkvf2qz  kccpraydebv2te  ...   neutral               positive\n",
              "1629  khgdqgv2yua2dq  kccprhv31vd33l  ...   neutral               negative\n",
              "1630  khgkjoflihy66v  kccpr9qwli32rt  ...   neutral               positive\n",
              "1631  khgoprno6z41fl   kccop9yg5w7li  ...   neutral               positive\n",
              "\n",
              "[231 rows x 15 columns]"
            ]
          },
          "metadata": {
            "tags": []
          },
          "execution_count": 64
        }
      ]
    },
    {
      "cell_type": "code",
      "metadata": {
        "colab": {
          "base_uri": "https://localhost:8080/",
          "height": 915
        },
        "id": "X7y5FhpNpZxE",
        "outputId": "8fdfd628-b22f-49ab-a74c-4bb551122dfb"
      },
      "source": [
        "e4"
      ],
      "execution_count": null,
      "outputs": [
        {
          "output_type": "execute_result",
          "data": {
            "text/html": [
              "<div>\n",
              "<style scoped>\n",
              "    .dataframe tbody tr th:only-of-type {\n",
              "        vertical-align: middle;\n",
              "    }\n",
              "\n",
              "    .dataframe tbody tr th {\n",
              "        vertical-align: top;\n",
              "    }\n",
              "\n",
              "    .dataframe thead th {\n",
              "        text-align: right;\n",
              "    }\n",
              "</style>\n",
              "<table border=\"1\" class=\"dataframe\">\n",
              "  <thead>\n",
              "    <tr style=\"text-align: right;\">\n",
              "      <th></th>\n",
              "      <th>unique_id</th>\n",
              "      <th>uid</th>\n",
              "      <th>created</th>\n",
              "      <th>type</th>\n",
              "      <th>is_instructor</th>\n",
              "      <th>anon</th>\n",
              "      <th>subject</th>\n",
              "      <th>content</th>\n",
              "      <th>data_content</th>\n",
              "      <th>neg</th>\n",
              "      <th>neu</th>\n",
              "      <th>pos</th>\n",
              "      <th>compound</th>\n",
              "      <th>sentiment</th>\n",
              "      <th>sentiment_wout_neutral</th>\n",
              "    </tr>\n",
              "  </thead>\n",
              "  <tbody>\n",
              "    <tr>\n",
              "      <th>1632</th>\n",
              "      <td>khkbq1tuena3x4</td>\n",
              "      <td>kccprc5trdb2uv</td>\n",
              "      <td>2020-11-16 09:06:36+00:00</td>\n",
              "      <td>post</td>\n",
              "      <td>False</td>\n",
              "      <td>no</td>\n",
              "      <td>Resubmit HW 17?</td>\n",
              "      <td>since it's an off week (for homework), is ther...</td>\n",
              "      <td>Resubmit HW 17? since it's an off week (for ho...</td>\n",
              "      <td>0.000</td>\n",
              "      <td>0.907</td>\n",
              "      <td>0.093</td>\n",
              "      <td>0.3313</td>\n",
              "      <td>neutral</td>\n",
              "      <td>positive</td>\n",
              "    </tr>\n",
              "    <tr>\n",
              "      <th>1633</th>\n",
              "      <td>khl87tc0kqw6yd</td>\n",
              "      <td>kccprfql4pw318</td>\n",
              "      <td>2020-11-17 00:16:12+00:00</td>\n",
              "      <td>post</td>\n",
              "      <td>False</td>\n",
              "      <td>no</td>\n",
              "      <td>hw16-Q1 test cases</td>\n",
              "      <td>hi, i saw that the grade for hw16 is posted an...</td>\n",
              "      <td>hw16-Q1 test cases hi, i saw that the grade fo...</td>\n",
              "      <td>0.056</td>\n",
              "      <td>0.767</td>\n",
              "      <td>0.177</td>\n",
              "      <td>0.6369</td>\n",
              "      <td>neutral</td>\n",
              "      <td>positive</td>\n",
              "    </tr>\n",
              "    <tr>\n",
              "      <th>1634</th>\n",
              "      <td>khmqpcfsbe956a</td>\n",
              "      <td>kccprfql4pw318</td>\n",
              "      <td>2020-11-18 01:41:30+00:00</td>\n",
              "      <td>followup</td>\n",
              "      <td>False</td>\n",
              "      <td>no</td>\n",
              "      <td>will do, thank you.</td>\n",
              "      <td></td>\n",
              "      <td>will do, thank you.</td>\n",
              "      <td>0.000</td>\n",
              "      <td>0.545</td>\n",
              "      <td>0.455</td>\n",
              "      <td>0.3612</td>\n",
              "      <td>neutral</td>\n",
              "      <td>positive</td>\n",
              "    </tr>\n",
              "    <tr>\n",
              "      <th>1635</th>\n",
              "      <td>khnhpx6evh04j1</td>\n",
              "      <td>gd6v7134AUa</td>\n",
              "      <td>2020-11-18 14:17:46+00:00</td>\n",
              "      <td>post</td>\n",
              "      <td>False</td>\n",
              "      <td>no</td>\n",
              "      <td>Enhanced Polls Functionality</td>\n",
              "      <td>with feedback from instructors, we have enhanc...</td>\n",
              "      <td>Enhanced Polls Functionality with feedback fro...</td>\n",
              "      <td>0.018</td>\n",
              "      <td>0.822</td>\n",
              "      <td>0.160</td>\n",
              "      <td>0.9831</td>\n",
              "      <td>neutral</td>\n",
              "      <td>positive</td>\n",
              "    </tr>\n",
              "    <tr>\n",
              "      <th>1636</th>\n",
              "      <td>khno7bg7rbv7b6</td>\n",
              "      <td>k54tl8fv6s767g</td>\n",
              "      <td>2020-11-18 17:19:15+00:00</td>\n",
              "      <td>post</td>\n",
              "      <td>False</td>\n",
              "      <td>stud</td>\n",
              "      <td>Module 23 processes and threads</td>\n",
              "      <td>there is a slide in module 23 that says \"does ...</td>\n",
              "      <td>Module 23 processes and threads there is a sli...</td>\n",
              "      <td>0.107</td>\n",
              "      <td>0.778</td>\n",
              "      <td>0.115</td>\n",
              "      <td>0.3436</td>\n",
              "      <td>neutral</td>\n",
              "      <td>positive</td>\n",
              "    </tr>\n",
              "    <tr>\n",
              "      <th>...</th>\n",
              "      <td>...</td>\n",
              "      <td>...</td>\n",
              "      <td>...</td>\n",
              "      <td>...</td>\n",
              "      <td>...</td>\n",
              "      <td>...</td>\n",
              "      <td>...</td>\n",
              "      <td>...</td>\n",
              "      <td>...</td>\n",
              "      <td>...</td>\n",
              "      <td>...</td>\n",
              "      <td>...</td>\n",
              "      <td>...</td>\n",
              "      <td>...</td>\n",
              "      <td>...</td>\n",
              "    </tr>\n",
              "    <tr>\n",
              "      <th>1717</th>\n",
              "      <td>kiqxbveidci4xm</td>\n",
              "      <td>k54tq3hzuyo33f</td>\n",
              "      <td>2020-12-16 04:37:45+00:00</td>\n",
              "      <td>feedback</td>\n",
              "      <td>False</td>\n",
              "      <td>no</td>\n",
              "      <td>i don't know, that seems like a logical conclu...</td>\n",
              "      <td></td>\n",
              "      <td>i don't know, that seems like a logical conclu...</td>\n",
              "      <td>0.000</td>\n",
              "      <td>0.848</td>\n",
              "      <td>0.152</td>\n",
              "      <td>0.3612</td>\n",
              "      <td>neutral</td>\n",
              "      <td>positive</td>\n",
              "    </tr>\n",
              "    <tr>\n",
              "      <th>1718</th>\n",
              "      <td>kirc9jcvei11tr</td>\n",
              "      <td>kccpr58wnwl2lm</td>\n",
              "      <td>2020-12-16 11:35:51+00:00</td>\n",
              "      <td>followup</td>\n",
              "      <td>False</td>\n",
              "      <td>no</td>\n",
              "      <td>ian, thank you so much for this answer! it is ...</td>\n",
              "      <td></td>\n",
              "      <td>ian, thank you so much for this answer! it is ...</td>\n",
              "      <td>0.000</td>\n",
              "      <td>0.630</td>\n",
              "      <td>0.370</td>\n",
              "      <td>0.7082</td>\n",
              "      <td>neutral</td>\n",
              "      <td>positive</td>\n",
              "    </tr>\n",
              "    <tr>\n",
              "      <th>1719</th>\n",
              "      <td>kitg7eg1kr12m4</td>\n",
              "      <td>kccpicp8wjt60n</td>\n",
              "      <td>2020-12-17 23:01:42+00:00</td>\n",
              "      <td>post</td>\n",
              "      <td>False</td>\n",
              "      <td>stud</td>\n",
              "      <td>Exam 4 Gradescope Link</td>\n",
              "      <td>is exam 4 going to be added to gradescope?</td>\n",
              "      <td>Exam 4 Gradescope Link is exam 4 going to be a...</td>\n",
              "      <td>0.000</td>\n",
              "      <td>1.000</td>\n",
              "      <td>0.000</td>\n",
              "      <td>0.0000</td>\n",
              "      <td>neutral</td>\n",
              "      <td>negative</td>\n",
              "    </tr>\n",
              "    <tr>\n",
              "      <th>1720</th>\n",
              "      <td>kitkll8lc9f624</td>\n",
              "      <td>kccop9yg5w7li</td>\n",
              "      <td>2020-12-18 01:04:42+00:00</td>\n",
              "      <td>post</td>\n",
              "      <td>False</td>\n",
              "      <td>no</td>\n",
              "      <td>confirming submission/complete exam</td>\n",
              "      <td>hello all, i just finished my exam but proctor...</td>\n",
              "      <td>confirming submission/complete exam hello all,...</td>\n",
              "      <td>0.061</td>\n",
              "      <td>0.900</td>\n",
              "      <td>0.039</td>\n",
              "      <td>-0.3137</td>\n",
              "      <td>neutral</td>\n",
              "      <td>negative</td>\n",
              "    </tr>\n",
              "    <tr>\n",
              "      <th>1721</th>\n",
              "      <td>kitkr4076bt4lv</td>\n",
              "      <td>jrleouqzv0p38x</td>\n",
              "      <td>2020-12-18 01:09:00+00:00</td>\n",
              "      <td>followup</td>\n",
              "      <td>False</td>\n",
              "      <td>no</td>\n",
              "      <td>hi amber, don't worry about it. while i haven'...</td>\n",
              "      <td></td>\n",
              "      <td>hi amber, don't worry about it. while i haven'...</td>\n",
              "      <td>0.000</td>\n",
              "      <td>0.861</td>\n",
              "      <td>0.139</td>\n",
              "      <td>0.5667</td>\n",
              "      <td>neutral</td>\n",
              "      <td>positive</td>\n",
              "    </tr>\n",
              "  </tbody>\n",
              "</table>\n",
              "<p>90 rows × 15 columns</p>\n",
              "</div>"
            ],
            "text/plain": [
              "           unique_id             uid  ... sentiment sentiment_wout_neutral\n",
              "1632  khkbq1tuena3x4  kccprc5trdb2uv  ...   neutral               positive\n",
              "1633  khl87tc0kqw6yd  kccprfql4pw318  ...   neutral               positive\n",
              "1634  khmqpcfsbe956a  kccprfql4pw318  ...   neutral               positive\n",
              "1635  khnhpx6evh04j1     gd6v7134AUa  ...   neutral               positive\n",
              "1636  khno7bg7rbv7b6  k54tl8fv6s767g  ...   neutral               positive\n",
              "...              ...             ...  ...       ...                    ...\n",
              "1717  kiqxbveidci4xm  k54tq3hzuyo33f  ...   neutral               positive\n",
              "1718  kirc9jcvei11tr  kccpr58wnwl2lm  ...   neutral               positive\n",
              "1719  kitg7eg1kr12m4  kccpicp8wjt60n  ...   neutral               negative\n",
              "1720  kitkll8lc9f624   kccop9yg5w7li  ...   neutral               negative\n",
              "1721  kitkr4076bt4lv  jrleouqzv0p38x  ...   neutral               positive\n",
              "\n",
              "[90 rows x 15 columns]"
            ]
          },
          "metadata": {
            "tags": []
          },
          "execution_count": 65
        }
      ]
    },
    {
      "cell_type": "markdown",
      "metadata": {
        "id": "mPxbIaO8MLa9"
      },
      "source": [
        "### Plot of Sentiment Count of Piazza Posts by Exam Time Slice W/out considering Neutral"
      ]
    },
    {
      "cell_type": "code",
      "metadata": {
        "colab": {
          "base_uri": "https://localhost:8080/",
          "height": 295
        },
        "id": "HlN0j4v6zOmv",
        "outputId": "27bbe0b6-dc12-419e-d43b-bf403c786d0c"
      },
      "source": [
        "# group bar chart\n",
        "x = np.arange(4)\n",
        "width = 0.2\n",
        "plt.title(\"Sentiment Count of Piazza Posts by Exam Time Slice W/out Considering Neutral\")\n",
        "plt.bar(x-0.2, [e1_count_wout_neutral[0], e2_count_wout_neutral[0], e3_count_wout_neutral[0], e4_count_wout_neutral[0]], width, color='green')\n",
        "plt.bar(x, [e1_count_wout_neutral[1], e2_count_wout_neutral[1], e3_count_wout_neutral[1], e4_count_wout_neutral[1]], width, color='red')\n",
        "plt.xticks(x, ['Exam 1', 'Exam 2', 'Exam 3', 'Exam 4'])\n",
        "plt.xlabel(\"Exam Time Slice\")\n",
        "plt.ylabel(\"Count\")\n",
        "plt.legend([\"Positive\", \"Negative\"])\n",
        "plt.show()"
      ],
      "execution_count": null,
      "outputs": [
        {
          "output_type": "display_data",
          "data": {
            "image/png": "[encoded data removed]",
            "text/plain": [
              "<Figure size 432x288 with 1 Axes>"
            ]
          },
          "metadata": {
            "tags": [],
            "needs_background": "light"
          }
        }
      ]
    },
    {
      "cell_type": "markdown",
      "metadata": {
        "id": "YH1gifXaMwKa"
      },
      "source": [
        "### Plot of Sentiment Fraction of Piazza Posts by Exam Time Slice W/out Considering Neutral"
      ]
    },
    {
      "cell_type": "code",
      "metadata": {
        "id": "HV592DdD1bO1"
      },
      "source": [
        "e1_fractions = [0]*2\n",
        "e1_fractions[0] = e1_count_wout_neutral[0]/sum(e1_count_wout_neutral)\n",
        "e1_fractions[1] = e1_count_wout_neutral[1]/sum(e1_count_wout_neutral)"
      ],
      "execution_count": null,
      "outputs": []
    },
    {
      "cell_type": "code",
      "metadata": {
        "id": "oWTtVd0Y17B4"
      },
      "source": [
        "e2_fractions = [0]*2\n",
        "e2_fractions[0] = e2_count_wout_neutral[0]/sum(e2_count_wout_neutral)\n",
        "e2_fractions[1] = e2_count_wout_neutral[1]/sum(e2_count_wout_neutral)"
      ],
      "execution_count": null,
      "outputs": []
    },
    {
      "cell_type": "code",
      "metadata": {
        "id": "1rlocQIw170u"
      },
      "source": [
        "e3_fractions = [0]*2\n",
        "e3_fractions[0] = e3_count_wout_neutral[0]/sum(e3_count_wout_neutral)\n",
        "e3_fractions[1] = e3_count_wout_neutral[1]/sum(e3_count_wout_neutral)"
      ],
      "execution_count": null,
      "outputs": []
    },
    {
      "cell_type": "code",
      "metadata": {
        "id": "_CWD4POJ18pH"
      },
      "source": [
        "e4_fractions = [0]*2\n",
        "e4_fractions[0] = e4_count_wout_neutral[0]/sum(e4_count_wout_neutral)\n",
        "e4_fractions[1] = e4_count_wout_neutral[1]/sum(e4_count_wout_neutral)"
      ],
      "execution_count": null,
      "outputs": []
    },
    {
      "cell_type": "code",
      "metadata": {
        "colab": {
          "base_uri": "https://localhost:8080/",
          "height": 295
        },
        "id": "p_z7gRYV2Vut",
        "outputId": "7c25faf6-7803-4c73-d0dc-913f0a538a7f"
      },
      "source": [
        "# group bar chart\n",
        "x = np.arange(4)\n",
        "width = 0.2\n",
        "plt.title(\"Sentiment Fraction of Piazza Posts by Exam Time Slice W/out Considering Neutral\")\n",
        "plt.bar(x-0.2, [e1_fractions[0], e2_fractions[0], e3_fractions[0], e4_fractions[0]], width, color='green')\n",
        "plt.bar(x, [e1_fractions[1], e2_fractions[1], e3_fractions[1], e4_fractions[1]], width, color='red')\n",
        "plt.xticks(x, ['Exam 1', 'Exam 2', 'Exam 3', 'Exam 4'])\n",
        "plt.xlabel(\"Exam Time Slice\")\n",
        "plt.ylabel(\"Fraction\")\n",
        "plt.legend([\"Positive\", \"Negative\"])\n",
        "plt.show()"
      ],
      "execution_count": null,
      "outputs": [
        {
          "output_type": "display_data",
          "data": {
            "image/png": "[encoded data removed]",
            "text/plain": [
              "<Figure size 432x288 with 1 Axes>"
            ]
          },
          "metadata": {
            "tags": [],
            "needs_background": "light"
          }
        }
      ]
    },
    {
      "cell_type": "markdown",
      "metadata": {
        "id": "HYuNR4GtM3Kc"
      },
      "source": [
        "### Plot of Neutral Sentiment Fraction of Piazza Posts by Exam Time Slice"
      ]
    },
    {
      "cell_type": "code",
      "metadata": {
        "colab": {
          "base_uri": "https://localhost:8080/",
          "height": 295
        },
        "id": "VqomnVCg31Ob",
        "outputId": "7d28a7b4-3907-4698-81c7-a6cd0bede48c"
      },
      "source": [
        "# group bar chart\n",
        "x = np.arange(4)\n",
        "plt.title(\"Neutral Sentiment Fraction of Piazza Posts by Exam Time Slice\")\n",
        "plt.bar(x, [e1_count[2]/sum(e1_count), e2_count[2]/sum(e2_count), e3_count[2]/sum(e3_count), e4_count[2]/sum(e4_count)], width, color='blue')\n",
        "plt.xticks(x, ['Exam 1', 'Exam 2', 'Exam 3', 'Exam 4'])\n",
        "plt.xlabel(\"Exam Time Slice\")\n",
        "plt.ylabel(\"Fraction\")\n",
        "plt.show()"
      ],
      "execution_count": null,
      "outputs": [
        {
          "output_type": "display_data",
          "data": {
            "image/png": "[encoded data removed]",
            "text/plain": [
              "<Figure size 432x288 with 1 Axes>"
            ]
          },
          "metadata": {
            "tags": [],
            "needs_background": "light"
          }
        }
      ]
    },
    {
      "cell_type": "markdown",
      "metadata": {
        "id": "_xmurzUVNWZr"
      },
      "source": [
        "As we come to know that the neutral sentiment fraction of posts is the same for every exam time slice, it is safe to say that our hypothesis that the positive sentiment decreases with time and the negative sentiment increases with time. Although, in our case, there is almost a plateau of negative sentiments after exam 2 time slice."
      ]
    },
    {
      "cell_type": "markdown",
      "metadata": {
        "id": "yswY_Zjnpkty"
      },
      "source": [
        "### Final CSV file combining all the exam time slices"
      ]
    },
    {
      "cell_type": "code",
      "metadata": {
        "colab": {
          "base_uri": "https://localhost:8080/",
          "height": 711
        },
        "id": "5xfzXZm7ps54",
        "outputId": "0bc691ee-ae8d-40bc-b960-dd106d53b197"
      },
      "source": [
        "# combine all the four exam time slices\n",
        "piazzaPostsWithSentiments = pd.concat([e1, e2, e3, e4], axis=0)\n",
        "piazzaPostsWithSentiments"
      ],
      "execution_count": null,
      "outputs": [
        {
          "output_type": "execute_result",
          "data": {
            "text/html": [
              "<div>\n",
              "<style scoped>\n",
              "    .dataframe tbody tr th:only-of-type {\n",
              "        vertical-align: middle;\n",
              "    }\n",
              "\n",
              "    .dataframe tbody tr th {\n",
              "        vertical-align: top;\n",
              "    }\n",
              "\n",
              "    .dataframe thead th {\n",
              "        text-align: right;\n",
              "    }\n",
              "</style>\n",
              "<table border=\"1\" class=\"dataframe\">\n",
              "  <thead>\n",
              "    <tr style=\"text-align: right;\">\n",
              "      <th></th>\n",
              "      <th>unique_id</th>\n",
              "      <th>uid</th>\n",
              "      <th>created</th>\n",
              "      <th>type</th>\n",
              "      <th>is_instructor</th>\n",
              "      <th>anon</th>\n",
              "      <th>subject</th>\n",
              "      <th>content</th>\n",
              "      <th>data_content</th>\n",
              "      <th>neg</th>\n",
              "      <th>neu</th>\n",
              "      <th>pos</th>\n",
              "      <th>compound</th>\n",
              "      <th>sentiment</th>\n",
              "      <th>sentiment_wout_neutral</th>\n",
              "    </tr>\n",
              "  </thead>\n",
              "  <tbody>\n",
              "    <tr>\n",
              "      <th>0</th>\n",
              "      <td>kcaz653v7u666u</td>\n",
              "      <td>gd6v7134AUa</td>\n",
              "      <td>2020-07-06 20:46:44+00:00</td>\n",
              "      <td>post</td>\n",
              "      <td>False</td>\n",
              "      <td>no</td>\n",
              "      <td>Search for Teammates!</td>\n",
              "      <td>pa.load(\"/dashboard/project_partners\", null, f...</td>\n",
              "      <td>Search for Teammates! pa.load(\"/dashboard/proj...</td>\n",
              "      <td>0.000</td>\n",
              "      <td>1.000</td>\n",
              "      <td>0.000</td>\n",
              "      <td>0.0000</td>\n",
              "      <td>neutral</td>\n",
              "      <td>negative</td>\n",
              "    </tr>\n",
              "    <tr>\n",
              "      <th>1</th>\n",
              "      <td>kcaz64zljpq66k</td>\n",
              "      <td>gd6v7134AUa</td>\n",
              "      <td>2020-07-06 20:46:44+00:00</td>\n",
              "      <td>post</td>\n",
              "      <td>False</td>\n",
              "      <td>no</td>\n",
              "      <td>Get familiar with Piazza</td>\n",
              "      <td>pa.load(\"/dashboard/get_familiar\", null, funct...</td>\n",
              "      <td>Get familiar with Piazza pa.load(\"/dashboard/g...</td>\n",
              "      <td>0.000</td>\n",
              "      <td>1.000</td>\n",
              "      <td>0.000</td>\n",
              "      <td>0.0000</td>\n",
              "      <td>neutral</td>\n",
              "      <td>negative</td>\n",
              "    </tr>\n",
              "    <tr>\n",
              "      <th>2</th>\n",
              "      <td>kcaz6506lfv66m</td>\n",
              "      <td>gd6v7134AUa</td>\n",
              "      <td>2020-07-06 20:46:44+00:00</td>\n",
              "      <td>post</td>\n",
              "      <td>False</td>\n",
              "      <td>no</td>\n",
              "      <td>Introduce Piazza to your students</td>\n",
              "      <td>pa.load(\"/dashboard/introduce_piazza\", null, f...</td>\n",
              "      <td>Introduce Piazza to your students pa.load(\"/da...</td>\n",
              "      <td>0.000</td>\n",
              "      <td>1.000</td>\n",
              "      <td>0.000</td>\n",
              "      <td>0.0000</td>\n",
              "      <td>neutral</td>\n",
              "      <td>negative</td>\n",
              "    </tr>\n",
              "    <tr>\n",
              "      <th>3</th>\n",
              "      <td>kcaz64xhuj166f</td>\n",
              "      <td>gd6v7134AUa</td>\n",
              "      <td>2020-07-06 20:46:44+00:00</td>\n",
              "      <td>post</td>\n",
              "      <td>False</td>\n",
              "      <td>no</td>\n",
              "      <td>Welcome to Piazza!</td>\n",
              "      <td>piazza is a q&amp;a platform designed to get you g...</td>\n",
              "      <td>Welcome to Piazza! piazza is a q&amp;a platform de...</td>\n",
              "      <td>0.022</td>\n",
              "      <td>0.888</td>\n",
              "      <td>0.091</td>\n",
              "      <td>0.9725</td>\n",
              "      <td>neutral</td>\n",
              "      <td>positive</td>\n",
              "    </tr>\n",
              "    <tr>\n",
              "      <th>4</th>\n",
              "      <td>kcaz64z2b5w66i</td>\n",
              "      <td>gd6v7134AUa</td>\n",
              "      <td>2020-07-06 20:46:44+00:00</td>\n",
              "      <td>post</td>\n",
              "      <td>False</td>\n",
              "      <td>no</td>\n",
              "      <td>Tips &amp; Tricks for a successful class</td>\n",
              "      <td>pa.load(\"/dashboard/tips_tricks\", null, functi...</td>\n",
              "      <td>Tips &amp; Tricks for a successful class pa.load(\"...</td>\n",
              "      <td>0.113</td>\n",
              "      <td>0.602</td>\n",
              "      <td>0.286</td>\n",
              "      <td>0.5106</td>\n",
              "      <td>neutral</td>\n",
              "      <td>positive</td>\n",
              "    </tr>\n",
              "    <tr>\n",
              "      <th>...</th>\n",
              "      <td>...</td>\n",
              "      <td>...</td>\n",
              "      <td>...</td>\n",
              "      <td>...</td>\n",
              "      <td>...</td>\n",
              "      <td>...</td>\n",
              "      <td>...</td>\n",
              "      <td>...</td>\n",
              "      <td>...</td>\n",
              "      <td>...</td>\n",
              "      <td>...</td>\n",
              "      <td>...</td>\n",
              "      <td>...</td>\n",
              "      <td>...</td>\n",
              "      <td>...</td>\n",
              "    </tr>\n",
              "    <tr>\n",
              "      <th>1717</th>\n",
              "      <td>kiqxbveidci4xm</td>\n",
              "      <td>k54tq3hzuyo33f</td>\n",
              "      <td>2020-12-16 04:37:45+00:00</td>\n",
              "      <td>feedback</td>\n",
              "      <td>False</td>\n",
              "      <td>no</td>\n",
              "      <td>i don't know, that seems like a logical conclu...</td>\n",
              "      <td></td>\n",
              "      <td>i don't know, that seems like a logical conclu...</td>\n",
              "      <td>0.000</td>\n",
              "      <td>0.848</td>\n",
              "      <td>0.152</td>\n",
              "      <td>0.3612</td>\n",
              "      <td>neutral</td>\n",
              "      <td>positive</td>\n",
              "    </tr>\n",
              "    <tr>\n",
              "      <th>1718</th>\n",
              "      <td>kirc9jcvei11tr</td>\n",
              "      <td>kccpr58wnwl2lm</td>\n",
              "      <td>2020-12-16 11:35:51+00:00</td>\n",
              "      <td>followup</td>\n",
              "      <td>False</td>\n",
              "      <td>no</td>\n",
              "      <td>ian, thank you so much for this answer! it is ...</td>\n",
              "      <td></td>\n",
              "      <td>ian, thank you so much for this answer! it is ...</td>\n",
              "      <td>0.000</td>\n",
              "      <td>0.630</td>\n",
              "      <td>0.370</td>\n",
              "      <td>0.7082</td>\n",
              "      <td>neutral</td>\n",
              "      <td>positive</td>\n",
              "    </tr>\n",
              "    <tr>\n",
              "      <th>1719</th>\n",
              "      <td>kitg7eg1kr12m4</td>\n",
              "      <td>kccpicp8wjt60n</td>\n",
              "      <td>2020-12-17 23:01:42+00:00</td>\n",
              "      <td>post</td>\n",
              "      <td>False</td>\n",
              "      <td>stud</td>\n",
              "      <td>Exam 4 Gradescope Link</td>\n",
              "      <td>is exam 4 going to be added to gradescope?</td>\n",
              "      <td>Exam 4 Gradescope Link is exam 4 going to be a...</td>\n",
              "      <td>0.000</td>\n",
              "      <td>1.000</td>\n",
              "      <td>0.000</td>\n",
              "      <td>0.0000</td>\n",
              "      <td>neutral</td>\n",
              "      <td>negative</td>\n",
              "    </tr>\n",
              "    <tr>\n",
              "      <th>1720</th>\n",
              "      <td>kitkll8lc9f624</td>\n",
              "      <td>kccop9yg5w7li</td>\n",
              "      <td>2020-12-18 01:04:42+00:00</td>\n",
              "      <td>post</td>\n",
              "      <td>False</td>\n",
              "      <td>no</td>\n",
              "      <td>confirming submission/complete exam</td>\n",
              "      <td>hello all, i just finished my exam but proctor...</td>\n",
              "      <td>confirming submission/complete exam hello all,...</td>\n",
              "      <td>0.061</td>\n",
              "      <td>0.900</td>\n",
              "      <td>0.039</td>\n",
              "      <td>-0.3137</td>\n",
              "      <td>neutral</td>\n",
              "      <td>negative</td>\n",
              "    </tr>\n",
              "    <tr>\n",
              "      <th>1721</th>\n",
              "      <td>kitkr4076bt4lv</td>\n",
              "      <td>jrleouqzv0p38x</td>\n",
              "      <td>2020-12-18 01:09:00+00:00</td>\n",
              "      <td>followup</td>\n",
              "      <td>False</td>\n",
              "      <td>no</td>\n",
              "      <td>hi amber, don't worry about it. while i haven'...</td>\n",
              "      <td></td>\n",
              "      <td>hi amber, don't worry about it. while i haven'...</td>\n",
              "      <td>0.000</td>\n",
              "      <td>0.861</td>\n",
              "      <td>0.139</td>\n",
              "      <td>0.5667</td>\n",
              "      <td>neutral</td>\n",
              "      <td>positive</td>\n",
              "    </tr>\n",
              "  </tbody>\n",
              "</table>\n",
              "<p>1722 rows × 15 columns</p>\n",
              "</div>"
            ],
            "text/plain": [
              "           unique_id             uid  ... sentiment sentiment_wout_neutral\n",
              "0     kcaz653v7u666u     gd6v7134AUa  ...   neutral               negative\n",
              "1     kcaz64zljpq66k     gd6v7134AUa  ...   neutral               negative\n",
              "2     kcaz6506lfv66m     gd6v7134AUa  ...   neutral               negative\n",
              "3     kcaz64xhuj166f     gd6v7134AUa  ...   neutral               positive\n",
              "4     kcaz64z2b5w66i     gd6v7134AUa  ...   neutral               positive\n",
              "...              ...             ...  ...       ...                    ...\n",
              "1717  kiqxbveidci4xm  k54tq3hzuyo33f  ...   neutral               positive\n",
              "1718  kirc9jcvei11tr  kccpr58wnwl2lm  ...   neutral               positive\n",
              "1719  kitg7eg1kr12m4  kccpicp8wjt60n  ...   neutral               negative\n",
              "1720  kitkll8lc9f624   kccop9yg5w7li  ...   neutral               negative\n",
              "1721  kitkr4076bt4lv  jrleouqzv0p38x  ...   neutral               positive\n",
              "\n",
              "[1722 rows x 15 columns]"
            ]
          },
          "metadata": {
            "tags": []
          },
          "execution_count": 73
        }
      ]
    },
    {
      "cell_type": "code",
      "metadata": {
        "id": "UoED2M5vqRwU"
      },
      "source": [
        "# save the CSV\n",
        "piazzaPostsWithSentiments.to_csv('piazzaPostsWithSentiments.csv', index=True, header=True)"
      ],
      "execution_count": null,
      "outputs": []
    },
    {
      "cell_type": "markdown",
      "metadata": {
        "id": "vpODmAlKoyVI"
      },
      "source": [
        "# Package Used: TextBlob"
      ]
    },
    {
      "cell_type": "markdown",
      "metadata": {
        "id": "cJ2biqT6rIUZ"
      },
      "source": [
        "Only one sentiment is calculated here, **polarity**. Polarity is basically the sum of the positive and negative sentiment normalized between [-1, 1] where, -1 is extreme negative sentiment and +1 is extreme positive sentiment."
      ]
    },
    {
      "cell_type": "markdown",
      "metadata": {
        "id": "NZgnBUMSrlTA"
      },
      "source": [
        "One of the other applications of using TextBlob is to calculate whether the text is subjective or objective. However, in this context, we do not need the information of whether the post is more subjective or objective. Hence, we can ignore this functionality of TextBlob."
      ]
    },
    {
      "cell_type": "code",
      "metadata": {
        "colab": {
          "base_uri": "https://localhost:8080/"
        },
        "id": "dQSEjm0jpFqB",
        "outputId": "64af90d7-9613-4c8b-db7a-88f2edfb6555"
      },
      "source": [
        "!pip install -U textblob\n",
        "!python -m textblob.download_corpora"
      ],
      "execution_count": null,
      "outputs": [
        {
          "output_type": "stream",
          "text": [
            "Requirement already up-to-date: textblob in /usr/local/lib/python3.7/dist-packages (0.15.3)\n",
            "Requirement already satisfied, skipping upgrade: nltk>=3.1 in /usr/local/lib/python3.7/dist-packages (from textblob) (3.2.5)\n",
            "Requirement already satisfied, skipping upgrade: six in /usr/local/lib/python3.7/dist-packages (from nltk>=3.1->textblob) (1.15.0)\n",
            "[nltk_data] Downloading package brown to /root/nltk_data...\n",
            "[nltk_data]   Unzipping corpora/brown.zip.\n",
            "[nltk_data] Downloading package punkt to /root/nltk_data...\n",
            "[nltk_data]   Package punkt is already up-to-date!\n",
            "[nltk_data] Downloading package wordnet to /root/nltk_data...\n",
            "[nltk_data]   Package wordnet is already up-to-date!\n",
            "[nltk_data] Downloading package averaged_perceptron_tagger to\n",
            "[nltk_data]     /root/nltk_data...\n",
            "[nltk_data]   Unzipping taggers/averaged_perceptron_tagger.zip.\n",
            "[nltk_data] Downloading package conll2000 to /root/nltk_data...\n",
            "[nltk_data]   Unzipping corpora/conll2000.zip.\n",
            "[nltk_data] Downloading package movie_reviews to /root/nltk_data...\n",
            "[nltk_data]   Unzipping corpora/movie_reviews.zip.\n",
            "Finished.\n"
          ],
          "name": "stdout"
        }
      ]
    },
    {
      "cell_type": "code",
      "metadata": {
        "id": "IQsXDN7gpOF0"
      },
      "source": [
        "from textblob import TextBlob"
      ],
      "execution_count": null,
      "outputs": []
    },
    {
      "cell_type": "code",
      "metadata": {
        "id": "NB7YLJbhpapB"
      },
      "source": [
        "# Exam 1 Polarity\n",
        "e1_polarity = []\n",
        "for sentence in e1['data_content']:\n",
        "  e1_blob = TextBlob(sentence)\n",
        "  e1_polarity.append(e1_blob.sentiment.polarity)"
      ],
      "execution_count": null,
      "outputs": []
    },
    {
      "cell_type": "code",
      "metadata": {
        "id": "gT2iBMMtsB3b"
      },
      "source": [
        "# Exam 2 Polarity\n",
        "e2_polarity = []\n",
        "for sentence in e2['data_content']:\n",
        "  e2_blob = TextBlob(str(sentence))\n",
        "  e2_polarity.append(e2_blob.sentiment.polarity)"
      ],
      "execution_count": null,
      "outputs": []
    },
    {
      "cell_type": "code",
      "metadata": {
        "id": "n-cabZhmsCoR"
      },
      "source": [
        "# Exam 3 Polarity\n",
        "e3_polarity = []\n",
        "for sentence in e3['data_content']:\n",
        "  e3_blob = TextBlob(str(sentence))\n",
        "  e3_polarity.append(e3_blob.sentiment.polarity)"
      ],
      "execution_count": null,
      "outputs": []
    },
    {
      "cell_type": "code",
      "metadata": {
        "id": "apURv2mosDSz"
      },
      "source": [
        "# Exam 4 Polarity\n",
        "e4_polarity = []\n",
        "for sentence in e4['data_content']:\n",
        "  e4_blob = TextBlob(str(sentence))\n",
        "  e4_polarity.append(e4_blob.sentiment.polarity)"
      ],
      "execution_count": null,
      "outputs": []
    },
    {
      "cell_type": "markdown",
      "metadata": {
        "id": "4ryy5GMQsmpB"
      },
      "source": [
        "## Plotting the polarity"
      ]
    },
    {
      "cell_type": "markdown",
      "metadata": {
        "id": "L24kLUWhuYRd"
      },
      "source": [
        "### Exam 1"
      ]
    },
    {
      "cell_type": "code",
      "metadata": {
        "colab": {
          "base_uri": "https://localhost:8080/",
          "height": 295
        },
        "id": "rd_FA8XntNqv",
        "outputId": "5e42515f-5ee9-4a9c-f4f3-874ccfd06761"
      },
      "source": [
        "plt.title(\"Polarity of Exam 1\")\n",
        "plt.plot(e1_polarity, color='purple')\n",
        "plt.xlabel(\"Post number\")\n",
        "plt.ylabel(\"Sentiment Value\")\n",
        "plt.ylim((-1, 1))\n",
        "plt.show()"
      ],
      "execution_count": null,
      "outputs": [
        {
          "output_type": "display_data",
          "data": {
            "image/png": "[encoded data removed]",
            "text/plain": [
              "<Figure size 432x288 with 1 Axes>"
            ]
          },
          "metadata": {
            "tags": [],
            "needs_background": "light"
          }
        }
      ]
    },
    {
      "cell_type": "markdown",
      "metadata": {
        "id": "6TOXsu3ouaNn"
      },
      "source": [
        "### Exam 2"
      ]
    },
    {
      "cell_type": "code",
      "metadata": {
        "colab": {
          "base_uri": "https://localhost:8080/",
          "height": 295
        },
        "id": "Jt_YHFE8tg0w",
        "outputId": "e7c7601a-8563-42c0-9513-9b3c9dc4d5b0"
      },
      "source": [
        "plt.title(\"Polarity of Exam 2\")\n",
        "plt.plot(e2_polarity, color='purple')\n",
        "plt.xlabel(\"Post number\")\n",
        "plt.ylabel(\"Sentiment Value\")\n",
        "plt.ylim((-1, 1))\n",
        "plt.show()"
      ],
      "execution_count": null,
      "outputs": [
        {
          "output_type": "display_data",
          "data": {
            "image/png": "[encoded data removed]",
            "text/plain": [
              "<Figure size 432x288 with 1 Axes>"
            ]
          },
          "metadata": {
            "tags": [],
            "needs_background": "light"
          }
        }
      ]
    },
    {
      "cell_type": "markdown",
      "metadata": {
        "id": "ipCA6E31ub7c"
      },
      "source": [
        "### Exam 3"
      ]
    },
    {
      "cell_type": "code",
      "metadata": {
        "colab": {
          "base_uri": "https://localhost:8080/",
          "height": 295
        },
        "id": "j5inSNHLtoxr",
        "outputId": "d7ee433e-bead-45aa-f9f6-989b8d8b6800"
      },
      "source": [
        "plt.title(\"Polarity of Exam 3\")\n",
        "plt.plot(e3_polarity, color='purple')\n",
        "plt.xlabel(\"Post number\")\n",
        "plt.ylabel(\"Sentiment Value\")\n",
        "plt.ylim((-1, 1))\n",
        "plt.show()"
      ],
      "execution_count": null,
      "outputs": [
        {
          "output_type": "display_data",
          "data": {
            "image/png": "[encoded data removed]",
            "text/plain": [
              "<Figure size 432x288 with 1 Axes>"
            ]
          },
          "metadata": {
            "tags": [],
            "needs_background": "light"
          }
        }
      ]
    },
    {
      "cell_type": "markdown",
      "metadata": {
        "id": "uxdj5LWfufV8"
      },
      "source": [
        "### Exam 4"
      ]
    },
    {
      "cell_type": "code",
      "metadata": {
        "colab": {
          "base_uri": "https://localhost:8080/",
          "height": 295
        },
        "id": "Qq1DT3cFt3xz",
        "outputId": "390109ad-1ea1-4ed2-ae73-cecfa278643a"
      },
      "source": [
        "plt.title(\"Polarity of Exam 4\")\n",
        "plt.plot(e4_polarity, color='purple')\n",
        "plt.xlabel(\"Post number\")\n",
        "plt.ylabel(\"Sentiment Value\")\n",
        "plt.ylim((-1, 1))\n",
        "plt.show()"
      ],
      "execution_count": null,
      "outputs": [
        {
          "output_type": "display_data",
          "data": {
            "image/png": "[encoded data removed]",
            "text/plain": [
              "<Figure size 432x288 with 1 Axes>"
            ]
          },
          "metadata": {
            "tags": [],
            "needs_background": "light"
          }
        }
      ]
    }
  ]
}
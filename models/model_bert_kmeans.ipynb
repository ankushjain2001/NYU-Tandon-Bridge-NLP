{
  "nbformat": 4,
  "nbformat_minor": 0,
  "metadata": {
    "colab": {
      "name": "model_bert_kmeans.ipynb",
      "provenance": [],
      "collapsed_sections": [],
      "toc_visible": true
    },
    "kernelspec": {
      "name": "python3",
      "display_name": "Python 3"
    },
    "widgets": {
      "application/vnd.jupyter.widget-state+json": {
        "ca05be32e12c427ba551d5190c3fd734": {
          "model_module": "@jupyter-widgets/controls",
          "model_name": "HBoxModel",
          "state": {
            "_view_name": "HBoxView",
            "_dom_classes": [],
            "_model_name": "HBoxModel",
            "_view_module": "@jupyter-widgets/controls",
            "_model_module_version": "1.5.0",
            "_view_count": null,
            "_view_module_version": "1.5.0",
            "box_style": "",
            "layout": "IPY_MODEL_d5c35ea7a6484881b38212ebee81db27",
            "_model_module": "@jupyter-widgets/controls",
            "children": [
              "IPY_MODEL_7dc32d9389654028a56f5de786f941a5",
              "IPY_MODEL_22d60d69c717431f997e14651189dfdf"
            ]
          }
        },
        "d5c35ea7a6484881b38212ebee81db27": {
          "model_module": "@jupyter-widgets/base",
          "model_name": "LayoutModel",
          "state": {
            "_view_name": "LayoutView",
            "grid_template_rows": null,
            "right": null,
            "justify_content": null,
            "_view_module": "@jupyter-widgets/base",
            "overflow": null,
            "_model_module_version": "1.2.0",
            "_view_count": null,
            "flex_flow": null,
            "width": null,
            "min_width": null,
            "border": null,
            "align_items": null,
            "bottom": null,
            "_model_module": "@jupyter-widgets/base",
            "top": null,
            "grid_column": null,
            "overflow_y": null,
            "overflow_x": null,
            "grid_auto_flow": null,
            "grid_area": null,
            "grid_template_columns": null,
            "flex": null,
            "_model_name": "LayoutModel",
            "justify_items": null,
            "grid_row": null,
            "max_height": null,
            "align_content": null,
            "visibility": null,
            "align_self": null,
            "height": null,
            "min_height": null,
            "padding": null,
            "grid_auto_rows": null,
            "grid_gap": null,
            "max_width": null,
            "order": null,
            "_view_module_version": "1.2.0",
            "grid_template_areas": null,
            "object_position": null,
            "object_fit": null,
            "grid_auto_columns": null,
            "margin": null,
            "display": null,
            "left": null
          }
        },
        "7dc32d9389654028a56f5de786f941a5": {
          "model_module": "@jupyter-widgets/controls",
          "model_name": "FloatProgressModel",
          "state": {
            "_view_name": "ProgressView",
            "style": "IPY_MODEL_86d48983eb3044a5a706dab1b52d9211",
            "_dom_classes": [],
            "description": "Batches: 100%",
            "_model_name": "FloatProgressModel",
            "bar_style": "success",
            "max": 13,
            "_view_module": "@jupyter-widgets/controls",
            "_model_module_version": "1.5.0",
            "value": 13,
            "_view_count": null,
            "_view_module_version": "1.5.0",
            "orientation": "horizontal",
            "min": 0,
            "description_tooltip": null,
            "_model_module": "@jupyter-widgets/controls",
            "layout": "IPY_MODEL_861285c82985412aaa5d38a8246f193f"
          }
        },
        "22d60d69c717431f997e14651189dfdf": {
          "model_module": "@jupyter-widgets/controls",
          "model_name": "HTMLModel",
          "state": {
            "_view_name": "HTMLView",
            "style": "IPY_MODEL_2cedf4b6e33148d4bef974b896e369a1",
            "_dom_classes": [],
            "description": "",
            "_model_name": "HTMLModel",
            "placeholder": "​",
            "_view_module": "@jupyter-widgets/controls",
            "_model_module_version": "1.5.0",
            "value": " 13/13 [00:01&lt;00:00,  6.69it/s]",
            "_view_count": null,
            "_view_module_version": "1.5.0",
            "description_tooltip": null,
            "_model_module": "@jupyter-widgets/controls",
            "layout": "IPY_MODEL_4e7e3feb9c4e4aeda7f0d126234ac437"
          }
        },
        "86d48983eb3044a5a706dab1b52d9211": {
          "model_module": "@jupyter-widgets/controls",
          "model_name": "ProgressStyleModel",
          "state": {
            "_view_name": "StyleView",
            "_model_name": "ProgressStyleModel",
            "description_width": "initial",
            "_view_module": "@jupyter-widgets/base",
            "_model_module_version": "1.5.0",
            "_view_count": null,
            "_view_module_version": "1.2.0",
            "bar_color": null,
            "_model_module": "@jupyter-widgets/controls"
          }
        },
        "861285c82985412aaa5d38a8246f193f": {
          "model_module": "@jupyter-widgets/base",
          "model_name": "LayoutModel",
          "state": {
            "_view_name": "LayoutView",
            "grid_template_rows": null,
            "right": null,
            "justify_content": null,
            "_view_module": "@jupyter-widgets/base",
            "overflow": null,
            "_model_module_version": "1.2.0",
            "_view_count": null,
            "flex_flow": null,
            "width": null,
            "min_width": null,
            "border": null,
            "align_items": null,
            "bottom": null,
            "_model_module": "@jupyter-widgets/base",
            "top": null,
            "grid_column": null,
            "overflow_y": null,
            "overflow_x": null,
            "grid_auto_flow": null,
            "grid_area": null,
            "grid_template_columns": null,
            "flex": null,
            "_model_name": "LayoutModel",
            "justify_items": null,
            "grid_row": null,
            "max_height": null,
            "align_content": null,
            "visibility": null,
            "align_self": null,
            "height": null,
            "min_height": null,
            "padding": null,
            "grid_auto_rows": null,
            "grid_gap": null,
            "max_width": null,
            "order": null,
            "_view_module_version": "1.2.0",
            "grid_template_areas": null,
            "object_position": null,
            "object_fit": null,
            "grid_auto_columns": null,
            "margin": null,
            "display": null,
            "left": null
          }
        },
        "2cedf4b6e33148d4bef974b896e369a1": {
          "model_module": "@jupyter-widgets/controls",
          "model_name": "DescriptionStyleModel",
          "state": {
            "_view_name": "StyleView",
            "_model_name": "DescriptionStyleModel",
            "description_width": "",
            "_view_module": "@jupyter-widgets/base",
            "_model_module_version": "1.5.0",
            "_view_count": null,
            "_view_module_version": "1.2.0",
            "_model_module": "@jupyter-widgets/controls"
          }
        },
        "4e7e3feb9c4e4aeda7f0d126234ac437": {
          "model_module": "@jupyter-widgets/base",
          "model_name": "LayoutModel",
          "state": {
            "_view_name": "LayoutView",
            "grid_template_rows": null,
            "right": null,
            "justify_content": null,
            "_view_module": "@jupyter-widgets/base",
            "overflow": null,
            "_model_module_version": "1.2.0",
            "_view_count": null,
            "flex_flow": null,
            "width": null,
            "min_width": null,
            "border": null,
            "align_items": null,
            "bottom": null,
            "_model_module": "@jupyter-widgets/base",
            "top": null,
            "grid_column": null,
            "overflow_y": null,
            "overflow_x": null,
            "grid_auto_flow": null,
            "grid_area": null,
            "grid_template_columns": null,
            "flex": null,
            "_model_name": "LayoutModel",
            "justify_items": null,
            "grid_row": null,
            "max_height": null,
            "align_content": null,
            "visibility": null,
            "align_self": null,
            "height": null,
            "min_height": null,
            "padding": null,
            "grid_auto_rows": null,
            "grid_gap": null,
            "max_width": null,
            "order": null,
            "_view_module_version": "1.2.0",
            "grid_template_areas": null,
            "object_position": null,
            "object_fit": null,
            "grid_auto_columns": null,
            "margin": null,
            "display": null,
            "left": null
          }
        }
      }
    },
    "accelerator": "GPU"
  },
  "cells": [
    {
      "cell_type": "markdown",
      "metadata": {
        "id": "hbkYL7ATtB1J"
      },
      "source": [
        "# **NYU Tandon Bridge - BERT + K-Means Clustering**\n",
        "https://towardsdatascience.com/topic-modeling-with-bert-779f7db187e6\n",
        "\n",
        "Others:\n",
        "https://github.com/ddangelov/Top2Vec\n",
        "https://github.com/MaartenGr/BERTopic"
      ]
    },
    {
      "cell_type": "code",
      "metadata": {
        "colab": {
          "base_uri": "https://localhost:8080/"
        },
        "id": "3w7I6A8WtA2r",
        "outputId": "91d25e07-87a7-4f24-f469-11c06cbcc12f"
      },
      "source": [
        "!pip install -q sentence-transformers\n",
        "!pip install -q umap-learn"
      ],
      "execution_count": null,
      "outputs": [
        {
          "output_type": "stream",
          "text": [
            "\u001b[K     |████████████████████████████████| 71kB 8.1MB/s \n",
            "\u001b[K     |████████████████████████████████| 1.8MB 24.2MB/s \n",
            "\u001b[K     |████████████████████████████████| 1.2MB 53.8MB/s \n",
            "\u001b[K     |████████████████████████████████| 890kB 49.7MB/s \n",
            "\u001b[K     |████████████████████████████████| 3.2MB 55.2MB/s \n",
            "\u001b[?25h  Building wheel for sentence-transformers (setup.py) ... \u001b[?25l\u001b[?25hdone\n",
            "  Building wheel for sacremoses (setup.py) ... \u001b[?25l\u001b[?25hdone\n"
          ],
          "name": "stdout"
        }
      ]
    },
    {
      "cell_type": "code",
      "metadata": {
        "colab": {
          "base_uri": "https://localhost:8080/"
        },
        "id": "lU7VYCGtoDai",
        "outputId": "e63eea7e-8deb-4e3b-fb94-87e04d33ca0a"
      },
      "source": [
        "import re\n",
        "import json\n",
        "import numpy as np\n",
        "import pandas as pd\n",
        "import matplotlib.pyplot as plt\n",
        "\n",
        "import nltk\n",
        "from nltk.corpus import stopwords\n",
        "from nltk.tokenize import word_tokenize\n",
        "from nltk.stem import PorterStemmer, WordNetLemmatizer\n",
        "\n",
        "from scipy import spatial\n",
        "from collections import defaultdict\n",
        "from sklearn.cluster import KMeans\n",
        "from sklearn.preprocessing import MinMaxScaler\n",
        "from sklearn.feature_extraction.text import TfidfVectorizer, CountVectorizer\n",
        "\n",
        "import umap\n",
        "from sentence_transformers import SentenceTransformer\n",
        "\n",
        "nltk.download('stopwords')\n",
        "nltk.download('wordnet')"
      ],
      "execution_count": null,
      "outputs": [
        {
          "output_type": "stream",
          "text": [
            "[nltk_data] Downloading package stopwords to /root/nltk_data...\n",
            "[nltk_data]   Unzipping corpora/stopwords.zip.\n",
            "[nltk_data] Downloading package wordnet to /root/nltk_data...\n",
            "[nltk_data]   Unzipping corpora/wordnet.zip.\n"
          ],
          "name": "stdout"
        },
        {
          "output_type": "execute_result",
          "data": {
            "text/plain": [
              "True"
            ]
          },
          "metadata": {
            "tags": []
          },
          "execution_count": 2
        }
      ]
    },
    {
      "cell_type": "markdown",
      "metadata": {
        "id": "dzGi8QJnqno5"
      },
      "source": [
        "## **A. Data Preprocessing**"
      ]
    },
    {
      "cell_type": "code",
      "metadata": {
        "id": "KhKInPI8qmFa"
      },
      "source": [
        "path = \"drive/MyDrive/data/tandon_bridge/\"\n",
        "# Import raw json data\n",
        "with open(path+\"data/preprocessed/transcripts.json\", \"r\") as f:\n",
        "    raw_transcript = json.load(f)\n",
        "\n",
        "with open(path+\"data/preprocessed/ppts.json\", \"r\") as f:\n",
        "    raw_ppt = json.load(f)"
      ],
      "execution_count": null,
      "outputs": []
    },
    {
      "cell_type": "code",
      "metadata": {
        "id": "4-WawU5hqmH8"
      },
      "source": [
        "# --- Data Preprocessing ------------------------------------------------------\n",
        "\n",
        "# # Init Spacy\n",
        "# nlp = spacy.load('en_core_web_lg')\n",
        "# Define the stop words list\n",
        "stop_words = set(stopwords.words('english'))\n",
        "# Define stemmer\n",
        "stemmer = PorterStemmer()\n",
        "# Define lemmatizer\n",
        "lemmatizer = WordNetLemmatizer()\n",
        "# Define tf-idf vectorizer\n",
        "vectorizer = TfidfVectorizer()\n",
        "\n",
        "\n",
        "# Text preprocessing pipeline for the model\n",
        "def text_preprocessing_1(lines):\n",
        "    # Join lines into a string\n",
        "    line = \" \".join(lines)\n",
        "    # Lowercase\n",
        "    line = line.lower()\n",
        "    # Remove symbols and numbers\n",
        "    # line = re.sub(r'[^a-zA-Z]+', ' ', line)\n",
        "    # Normalizing whitespaces\n",
        "    line = line.split()\n",
        "    # Remove stopwords and discards words of length < 3\n",
        "    # line = [token for token in line if token not in stop_words and len(token) > 3]\n",
        "    # Lemmatize the verbs and then stem\n",
        "    # line = [stemmer.stem(lemmatizer.lemmatize(token, pos='v')) for token in line]\n",
        "    # Join words to string\n",
        "    line = ' '.join(line)\n",
        "    return line\n",
        "\n",
        "\n",
        "# Converts raw data to dataframe where each doc is a slide or transcript para\n",
        "def convert_to_dataframe(raw_ppt, explode_col, text_col):\n",
        "    df = pd.DataFrame(raw_ppt)\n",
        "    df = df.explode(explode_col)\n",
        "    df.dropna(inplace=True)\n",
        "    df.reset_index(drop=True, inplace=True)\n",
        "    df = pd.concat([df, pd.DataFrame(df[explode_col].to_list())], axis=1)\n",
        "    df.drop(explode_col, axis=1, inplace=True)\n",
        "    df[text_col] = df[text_col].apply(text_preprocessing_1)\n",
        "    return df\n",
        "\n",
        "\n",
        "# Apply conversion\n",
        "df_ppt = convert_to_dataframe(raw_ppt, \"ppt\", \"slide_text\")\n",
        "df_transcript = convert_to_dataframe(raw_transcript, \"transcript\", \"data\")\n",
        "\n",
        "# Extract the text data\n",
        "# data = df_ppt[\"slide_text\"].to_list() + df_transcript[\"data\"].to_list()\n",
        "# mod_nos = df_ppt[\"module_number\"].to_list() + df_transcript['module_number'].to_list()\n",
        "data = df_transcript[\"data\"].to_list()\n",
        "mod_nos = df_transcript['module_number'].to_list()\n",
        "# data = df_ppt[\"slide_text\"].to_list()\n",
        "# mod_nos = df_transcript['slide_text'].to_list()\n",
        "\n"
      ],
      "execution_count": null,
      "outputs": []
    },
    {
      "cell_type": "markdown",
      "metadata": {
        "id": "B111q7m-ybXO"
      },
      "source": [
        "## B. Embeddings"
      ]
    },
    {
      "cell_type": "code",
      "metadata": {
        "colab": {
          "base_uri": "https://localhost:8080/",
          "height": 82,
          "referenced_widgets": [
            "ca05be32e12c427ba551d5190c3fd734",
            "d5c35ea7a6484881b38212ebee81db27",
            "7dc32d9389654028a56f5de786f941a5",
            "22d60d69c717431f997e14651189dfdf",
            "86d48983eb3044a5a706dab1b52d9211",
            "861285c82985412aaa5d38a8246f193f",
            "2cedf4b6e33148d4bef974b896e369a1",
            "4e7e3feb9c4e4aeda7f0d126234ac437"
          ]
        },
        "id": "JVAfyo4iyTUr",
        "outputId": "344a34bd-3d0b-43db-937e-44a5479d265d"
      },
      "source": [
        "# Distilbert gives good speed + performance\n",
        "model = SentenceTransformer('distilbert-base-nli-mean-tokens')\n",
        "embeddings = model.encode(data, show_progress_bar=True)\n",
        "\n",
        "# IMPORTANT: Must make sure that the data adheres the 512 token limit of BERT.\n",
        "# ELSE SPLIT THE DOCS INTO MULTIPLE PARAGRAPHS "
      ],
      "execution_count": null,
      "outputs": [
        {
          "output_type": "stream",
          "text": [
            "100%|██████████| 245M/245M [00:11<00:00, 22.0MB/s]\n"
          ],
          "name": "stderr"
        },
        {
          "output_type": "display_data",
          "data": {
            "application/vnd.jupyter.widget-view+json": {
              "model_id": "ca05be32e12c427ba551d5190c3fd734",
              "version_minor": 0,
              "version_major": 2
            },
            "text/plain": [
              "HBox(children=(FloatProgress(value=0.0, description='Batches', max=13.0, style=ProgressStyle(description_width…"
            ]
          },
          "metadata": {
            "tags": []
          }
        },
        {
          "output_type": "stream",
          "text": [
            "\n"
          ],
          "name": "stdout"
        }
      ]
    },
    {
      "cell_type": "markdown",
      "metadata": {
        "id": "E3QNT8dk3tAM"
      },
      "source": [
        "## C. Clustering\n",
        "\n",
        "It will help us in determining a suitable number of topics for the topic model.\n",
        "\n",
        "### C.1. Dimensionality Reduction (UMAP)"
      ]
    },
    {
      "cell_type": "code",
      "metadata": {
        "id": "2N0-mKnERHRP"
      },
      "source": [
        "neighbors = 10"
      ],
      "execution_count": null,
      "outputs": []
    },
    {
      "cell_type": "code",
      "metadata": {
        "id": "yN_-QcdlyV6x"
      },
      "source": [
        "umap_embeddings = umap.UMAP(n_neighbors=neighbors, \n",
        "                            n_components=256, \n",
        "                            metric='cosine').fit_transform(embeddings)"
      ],
      "execution_count": null,
      "outputs": []
    },
    {
      "cell_type": "code",
      "metadata": {
        "id": "GJqG_0r_qmKb"
      },
      "source": [
        "# data[1]"
      ],
      "execution_count": null,
      "outputs": []
    },
    {
      "cell_type": "markdown",
      "metadata": {
        "id": "_pVaZTDf6n9n"
      },
      "source": [
        "### C.2 Clustering (K-Means)"
      ]
    },
    {
      "cell_type": "code",
      "metadata": {
        "id": "FLj-QuikCEmt"
      },
      "source": [
        "cluster = KMeans(n_clusters=7, random_state=0).fit(umap_embeddings)"
      ],
      "execution_count": null,
      "outputs": []
    },
    {
      "cell_type": "code",
      "metadata": {
        "id": "hwdx7I-GCddv"
      },
      "source": [
        "# cluster.labels_"
      ],
      "execution_count": null,
      "outputs": []
    },
    {
      "cell_type": "code",
      "metadata": {
        "id": "mfwXhZyZ7V1H"
      },
      "source": [
        "# cluster = hdbscan.HDBSCAN(min_cluster_size=neighbors,\n",
        "#                           metric='euclidean',                      \n",
        "#                           cluster_selection_method='eom').fit(umap_embeddings)"
      ],
      "execution_count": null,
      "outputs": []
    },
    {
      "cell_type": "code",
      "metadata": {
        "id": "84wyZ13AqmZZ"
      },
      "source": [
        "umap_data = umap.UMAP(n_neighbors=neighbors, n_components=2, min_dist=0.0, metric='cosine').fit_transform(embeddings)\n",
        "result = pd.DataFrame(umap_data, columns=['x', 'y'])\n",
        "result['labels'] = cluster.labels_"
      ],
      "execution_count": null,
      "outputs": []
    },
    {
      "cell_type": "code",
      "metadata": {
        "colab": {
          "base_uri": "https://localhost:8080/",
          "height": 613
        },
        "id": "588AoNjE7uJ-",
        "outputId": "8d6fd709-4477-4e00-d5b9-05d7443f4e89"
      },
      "source": [
        "# Visualize clusters\n",
        "fig, ax = plt.subplots(figsize=(20, 10))\n",
        "outliers = result.loc[result.labels == -1, :]\n",
        "clustered = result.loc[result.labels != -1, :]\n",
        "plt.scatter(outliers.x, outliers.y, color='black', s=0.5)\n",
        "plt.scatter(clustered.x, clustered.y, c=clustered.labels, s=4, cmap='hsv_r')\n",
        "plt.colorbar()"
      ],
      "execution_count": null,
      "outputs": [
        {
          "output_type": "execute_result",
          "data": {
            "text/plain": [
              "<matplotlib.colorbar.Colorbar at 0x7ff2db0e8b70>"
            ]
          },
          "metadata": {
            "tags": []
          },
          "execution_count": 13
        },
        {
          "output_type": "display_data",
          "data": {
            "image/png": "[encoded data removed]",
            "text/plain": [
              "<Figure size 1440x720 with 2 Axes>"
            ]
          },
          "metadata": {
            "tags": [],
            "needs_background": "light"
          }
        }
      ]
    },
    {
      "cell_type": "markdown",
      "metadata": {
        "id": "ZQrr7RkC_8gC"
      },
      "source": [
        "### C.3. Classwise TF-IDF"
      ]
    },
    {
      "cell_type": "code",
      "metadata": {
        "id": "OpBNGQVW_7nM"
      },
      "source": [
        "# Prepare df\n",
        "docs_df = pd.DataFrame(data, columns=[\"Doc\"])\n",
        "docs_df['Topic'] = cluster.labels_\n",
        "docs_df['Doc_ID'] = range(len(docs_df))\n",
        "docs_per_topic = docs_df.groupby(['Topic'], as_index = False).agg({'Doc': ' '.join})"
      ],
      "execution_count": null,
      "outputs": []
    },
    {
      "cell_type": "code",
      "metadata": {
        "id": "RLvtX4nJAmp4"
      },
      "source": [
        "# Classwise tf-idf\n",
        "def c_tf_idf(documents, m, ngram_range=(1, 1)):\n",
        "    count = CountVectorizer(ngram_range=ngram_range, stop_words=\"english\").fit(documents)\n",
        "    t = count.transform(documents).toarray()\n",
        "    w = t.sum(axis=1)\n",
        "    tf = np.divide(t.T, w)\n",
        "    sum_t = t.sum(axis=0)\n",
        "    idf = np.log(np.divide(m, sum_t)).reshape(-1, 1)\n",
        "    tf_idf = np.multiply(tf, idf)\n",
        "\n",
        "    return tf_idf, count"
      ],
      "execution_count": null,
      "outputs": []
    },
    {
      "cell_type": "code",
      "metadata": {
        "id": "VgOrRpn3AtlW",
        "colab": {
          "base_uri": "https://localhost:8080/"
        },
        "outputId": "7468c1d4-1429-404b-868b-30ad90fae539"
      },
      "source": [
        "# Apply tfidf and get scores for each word\n",
        "tf_idf, count = c_tf_idf(docs_per_topic.Doc.values, m=len(data))"
      ],
      "execution_count": null,
      "outputs": [
        {
          "output_type": "stream",
          "text": [
            "/usr/local/lib/python3.6/dist-packages/ipykernel_launcher.py:6: RuntimeWarning: invalid value encountered in true_divide\n",
            "  \n"
          ],
          "name": "stderr"
        }
      ]
    },
    {
      "cell_type": "markdown",
      "metadata": {
        "id": "Ub1rhLZ4CjrD"
      },
      "source": [
        "## D. Topic Creation"
      ]
    },
    {
      "cell_type": "code",
      "metadata": {
        "colab": {
          "base_uri": "https://localhost:8080/",
          "height": 254
        },
        "id": "zcFblXitB1-M",
        "outputId": "0de319fa-5dff-49c1-d3b7-e74091d3429d"
      },
      "source": [
        "def extract_top_n_words_per_topic(tf_idf, count, docs_per_topic, n=20):\n",
        "    words = count.get_feature_names()\n",
        "    labels = list(docs_per_topic.Topic)\n",
        "    tf_idf_transposed = tf_idf.T\n",
        "    indices = tf_idf_transposed.argsort()[:, -n:]\n",
        "    top_n_words = {label: [(words[j], tf_idf_transposed[i][j]) for j in indices[i]][::-1] for i, label in enumerate(labels)}\n",
        "    return top_n_words\n",
        "\n",
        "def extract_topic_sizes(df):\n",
        "    topic_sizes = (df.groupby(['Topic'])\n",
        "                     .Doc\n",
        "                     .count()\n",
        "                     .reset_index()\n",
        "                     .rename({\"Topic\": \"Topic\", \"Doc\": \"Size\"}, axis='columns')\n",
        "                     .sort_values(\"Size\", ascending=False))\n",
        "    return topic_sizes\n",
        "\n",
        "top_n_words = extract_top_n_words_per_topic(tf_idf, count, docs_per_topic, n=20)\n",
        "topic_sizes = extract_topic_sizes(docs_df); \n",
        "topic_sizes.head(10)"
      ],
      "execution_count": null,
      "outputs": [
        {
          "output_type": "execute_result",
          "data": {
            "text/html": [
              "<div>\n",
              "<style scoped>\n",
              "    .dataframe tbody tr th:only-of-type {\n",
              "        vertical-align: middle;\n",
              "    }\n",
              "\n",
              "    .dataframe tbody tr th {\n",
              "        vertical-align: top;\n",
              "    }\n",
              "\n",
              "    .dataframe thead th {\n",
              "        text-align: right;\n",
              "    }\n",
              "</style>\n",
              "<table border=\"1\" class=\"dataframe\">\n",
              "  <thead>\n",
              "    <tr style=\"text-align: right;\">\n",
              "      <th></th>\n",
              "      <th>Topic</th>\n",
              "      <th>Size</th>\n",
              "    </tr>\n",
              "  </thead>\n",
              "  <tbody>\n",
              "    <tr>\n",
              "      <th>5</th>\n",
              "      <td>5</td>\n",
              "      <td>104</td>\n",
              "    </tr>\n",
              "    <tr>\n",
              "      <th>4</th>\n",
              "      <td>4</td>\n",
              "      <td>79</td>\n",
              "    </tr>\n",
              "    <tr>\n",
              "      <th>1</th>\n",
              "      <td>1</td>\n",
              "      <td>71</td>\n",
              "    </tr>\n",
              "    <tr>\n",
              "      <th>0</th>\n",
              "      <td>0</td>\n",
              "      <td>68</td>\n",
              "    </tr>\n",
              "    <tr>\n",
              "      <th>3</th>\n",
              "      <td>3</td>\n",
              "      <td>47</td>\n",
              "    </tr>\n",
              "    <tr>\n",
              "      <th>6</th>\n",
              "      <td>6</td>\n",
              "      <td>34</td>\n",
              "    </tr>\n",
              "    <tr>\n",
              "      <th>2</th>\n",
              "      <td>2</td>\n",
              "      <td>6</td>\n",
              "    </tr>\n",
              "  </tbody>\n",
              "</table>\n",
              "</div>"
            ],
            "text/plain": [
              "   Topic  Size\n",
              "5      5   104\n",
              "4      4    79\n",
              "1      1    71\n",
              "0      0    68\n",
              "3      3    47\n",
              "6      6    34\n",
              "2      2     6"
            ]
          },
          "metadata": {
            "tags": []
          },
          "execution_count": 17
        }
      ]
    },
    {
      "cell_type": "markdown",
      "metadata": {
        "id": "H8lF06ZxLgQ3"
      },
      "source": [
        "## Topic Words"
      ]
    },
    {
      "cell_type": "code",
      "metadata": {
        "id": "0yZnugCFEYAg"
      },
      "source": [
        "topic_words = {}\n",
        "for i in range(len(top_n_words)-1):\n",
        "  w = []\n",
        "  for j in top_n_words[i]:\n",
        "    w.append(j[0])\n",
        "  topic_words[i] = w"
      ],
      "execution_count": null,
      "outputs": []
    },
    {
      "cell_type": "code",
      "metadata": {
        "colab": {
          "base_uri": "https://localhost:8080/"
        },
        "id": "WHPVBIyuK9uB",
        "outputId": "50268eaa-9233-4ee7-b13c-9f25dd4fa732"
      },
      "source": [
        "topic_words"
      ],
      "execution_count": null,
      "outputs": [
        {
          "output_type": "execute_result",
          "data": {
            "text/plain": [
              "{0: ['branch',\n",
              "  'registers',\n",
              "  'register',\n",
              "  'fetch',\n",
              "  'stage',\n",
              "  'ram',\n",
              "  'load',\n",
              "  'cpu',\n",
              "  'level',\n",
              "  'machine',\n",
              "  'execute',\n",
              "  'instructions',\n",
              "  'address',\n",
              "  'segment',\n",
              "  'target',\n",
              "  'controller',\n",
              "  'cache',\n",
              "  'offset',\n",
              "  'pipeline',\n",
              "  'cycle'],\n",
              " 1: ['hour',\n",
              "  'ascending',\n",
              "  'true',\n",
              "  'low',\n",
              "  'expression',\n",
              "  'print',\n",
              "  'range',\n",
              "  'index',\n",
              "  'assumption',\n",
              "  'string',\n",
              "  'reference',\n",
              "  'numbers',\n",
              "  'mid',\n",
              "  'min',\n",
              "  'minus',\n",
              "  'seven',\n",
              "  'high',\n",
              "  'induction',\n",
              "  'absolute',\n",
              "  'smaller'],\n",
              " 2: ['zeros',\n",
              "  'estimate',\n",
              "  'events',\n",
              "  'event',\n",
              "  'evenly',\n",
              "  'evaluation',\n",
              "  'evaluating',\n",
              "  'evaluates',\n",
              "  'evaluated',\n",
              "  'evaluate',\n",
              "  'europe',\n",
              "  'ethernet',\n",
              "  'ether',\n",
              "  'etcetera',\n",
              "  'estimation',\n",
              "  'essentially',\n",
              "  'everybody',\n",
              "  'essential',\n",
              "  'especially',\n",
              "  'escape'],\n",
              " 3: ['students',\n",
              "  'child',\n",
              "  'grades',\n",
              "  'average',\n",
              "  'height',\n",
              "  'children',\n",
              "  'arr',\n",
              "  'ninety',\n",
              "  'ileft',\n",
              "  'position',\n",
              "  'balance',\n",
              "  'sub',\n",
              "  'parent',\n",
              "  'iright',\n",
              "  'iteration',\n",
              "  'merged',\n",
              "  'seventy',\n",
              "  'thousand',\n",
              "  'ones',\n",
              "  'elements'],\n",
              " 4: ['operator',\n",
              "  'tree',\n",
              "  'null',\n",
              "  'heap',\n",
              "  'resource',\n",
              "  'delete',\n",
              "  'search',\n",
              "  'member',\n",
              "  'deadlock',\n",
              "  'lock',\n",
              "  'insert',\n",
              "  'operators',\n",
              "  'red',\n",
              "  'block',\n",
              "  'dynamic',\n",
              "  'black',\n",
              "  'threads',\n",
              "  'object',\n",
              "  'change',\n",
              "  'page'],\n",
              " 5: ['mode',\n",
              "  'open',\n",
              "  'microsoft',\n",
              "  'hardware',\n",
              "  'io',\n",
              "  'opening',\n",
              "  'operating',\n",
              "  'computer',\n",
              "  'kernel',\n",
              "  'windows',\n",
              "  'files',\n",
              "  'threads',\n",
              "  'stack',\n",
              "  'buffer',\n",
              "  'linked',\n",
              "  'state',\n",
              "  'information',\n",
              "  'run',\n",
              "  'running',\n",
              "  'programs']}"
            ]
          },
          "metadata": {
            "tags": []
          },
          "execution_count": 19
        }
      ]
    },
    {
      "cell_type": "markdown",
      "metadata": {
        "id": "Dh-JjnYfKgJL"
      },
      "source": [
        "## Module Labels"
      ]
    },
    {
      "cell_type": "code",
      "metadata": {
        "id": "tVGrDocPFLIJ"
      },
      "source": [
        "pred_labels = pd.DataFrame(\n",
        "    {'module_number': mod_nos,\n",
        "     'label': cluster.labels_\n",
        "    })"
      ],
      "execution_count": null,
      "outputs": []
    },
    {
      "cell_type": "code",
      "metadata": {
        "id": "jbpNFviLJYxC"
      },
      "source": [
        "pred_labels = pred_labels.groupby(['module_number']).agg(lambda x: x.value_counts().index[0])"
      ],
      "execution_count": null,
      "outputs": []
    },
    {
      "cell_type": "code",
      "metadata": {
        "colab": {
          "base_uri": "https://localhost:8080/"
        },
        "id": "fVCBC409H0Bz",
        "outputId": "ffa5299e-7f94-4a37-83be-58e93e8be484"
      },
      "source": [
        "len(mod_nos)"
      ],
      "execution_count": null,
      "outputs": [
        {
          "output_type": "execute_result",
          "data": {
            "text/plain": [
              "409"
            ]
          },
          "metadata": {
            "tags": []
          },
          "execution_count": 22
        }
      ]
    },
    {
      "cell_type": "markdown",
      "metadata": {
        "id": "AsA3a2I3Lfm8"
      },
      "source": [
        "## Module Correlations"
      ]
    },
    {
      "cell_type": "code",
      "metadata": {
        "id": "-A8RIoKGNJOO"
      },
      "source": [
        "pred_vals = pd.DataFrame(\n",
        "    {'module_number': mod_nos,\n",
        "     'label': cluster.labels_\n",
        "    })"
      ],
      "execution_count": null,
      "outputs": []
    },
    {
      "cell_type": "code",
      "metadata": {
        "id": "rqv_SJKsNmQn"
      },
      "source": [
        "pred_vals = pd.crosstab(pred_vals['module_number'], pred_vals['label'])\n",
        "pred_vals['sum'] = pred_vals.sum(axis=1)\n",
        "pred_vals = pred_vals.div(pred_vals[\"sum\"], axis=0)\n",
        "pred_vals.drop(\"sum\", axis=1, inplace=True)"
      ],
      "execution_count": null,
      "outputs": []
    },
    {
      "cell_type": "code",
      "metadata": {
        "colab": {
          "base_uri": "https://localhost:8080/",
          "height": 817
        },
        "id": "HC_YIiVDXT9u",
        "outputId": "7b82cdcd-cdec-4b51-e74c-4c91e5297a71"
      },
      "source": [
        "pred_vals"
      ],
      "execution_count": null,
      "outputs": [
        {
          "output_type": "execute_result",
          "data": {
            "text/html": [
              "<div>\n",
              "<style scoped>\n",
              "    .dataframe tbody tr th:only-of-type {\n",
              "        vertical-align: middle;\n",
              "    }\n",
              "\n",
              "    .dataframe tbody tr th {\n",
              "        vertical-align: top;\n",
              "    }\n",
              "\n",
              "    .dataframe thead th {\n",
              "        text-align: right;\n",
              "    }\n",
              "</style>\n",
              "<table border=\"1\" class=\"dataframe\">\n",
              "  <thead>\n",
              "    <tr style=\"text-align: right;\">\n",
              "      <th>label</th>\n",
              "      <th>0</th>\n",
              "      <th>1</th>\n",
              "      <th>2</th>\n",
              "      <th>3</th>\n",
              "      <th>4</th>\n",
              "      <th>5</th>\n",
              "      <th>6</th>\n",
              "    </tr>\n",
              "    <tr>\n",
              "      <th>module_number</th>\n",
              "      <th></th>\n",
              "      <th></th>\n",
              "      <th></th>\n",
              "      <th></th>\n",
              "      <th></th>\n",
              "      <th></th>\n",
              "      <th></th>\n",
              "    </tr>\n",
              "  </thead>\n",
              "  <tbody>\n",
              "    <tr>\n",
              "      <th>1</th>\n",
              "      <td>0.444444</td>\n",
              "      <td>0.000000</td>\n",
              "      <td>0.000000</td>\n",
              "      <td>0.000000</td>\n",
              "      <td>0.055556</td>\n",
              "      <td>0.500000</td>\n",
              "      <td>0.000000</td>\n",
              "    </tr>\n",
              "    <tr>\n",
              "      <th>2</th>\n",
              "      <td>0.000000</td>\n",
              "      <td>0.562500</td>\n",
              "      <td>0.062500</td>\n",
              "      <td>0.312500</td>\n",
              "      <td>0.000000</td>\n",
              "      <td>0.000000</td>\n",
              "      <td>0.062500</td>\n",
              "    </tr>\n",
              "    <tr>\n",
              "      <th>3</th>\n",
              "      <td>0.000000</td>\n",
              "      <td>0.000000</td>\n",
              "      <td>0.000000</td>\n",
              "      <td>0.000000</td>\n",
              "      <td>0.000000</td>\n",
              "      <td>0.000000</td>\n",
              "      <td>1.000000</td>\n",
              "    </tr>\n",
              "    <tr>\n",
              "      <th>4</th>\n",
              "      <td>0.000000</td>\n",
              "      <td>0.500000</td>\n",
              "      <td>0.000000</td>\n",
              "      <td>0.333333</td>\n",
              "      <td>0.000000</td>\n",
              "      <td>0.083333</td>\n",
              "      <td>0.083333</td>\n",
              "    </tr>\n",
              "    <tr>\n",
              "      <th>5</th>\n",
              "      <td>0.000000</td>\n",
              "      <td>1.000000</td>\n",
              "      <td>0.000000</td>\n",
              "      <td>0.000000</td>\n",
              "      <td>0.000000</td>\n",
              "      <td>0.000000</td>\n",
              "      <td>0.000000</td>\n",
              "    </tr>\n",
              "    <tr>\n",
              "      <th>6</th>\n",
              "      <td>0.000000</td>\n",
              "      <td>0.142857</td>\n",
              "      <td>0.000000</td>\n",
              "      <td>0.142857</td>\n",
              "      <td>0.142857</td>\n",
              "      <td>0.142857</td>\n",
              "      <td>0.428571</td>\n",
              "    </tr>\n",
              "    <tr>\n",
              "      <th>7</th>\n",
              "      <td>0.000000</td>\n",
              "      <td>1.000000</td>\n",
              "      <td>0.000000</td>\n",
              "      <td>0.000000</td>\n",
              "      <td>0.000000</td>\n",
              "      <td>0.000000</td>\n",
              "      <td>0.000000</td>\n",
              "    </tr>\n",
              "    <tr>\n",
              "      <th>8</th>\n",
              "      <td>0.000000</td>\n",
              "      <td>0.470588</td>\n",
              "      <td>0.000000</td>\n",
              "      <td>0.117647</td>\n",
              "      <td>0.000000</td>\n",
              "      <td>0.117647</td>\n",
              "      <td>0.294118</td>\n",
              "    </tr>\n",
              "    <tr>\n",
              "      <th>9</th>\n",
              "      <td>0.000000</td>\n",
              "      <td>0.000000</td>\n",
              "      <td>0.000000</td>\n",
              "      <td>0.846154</td>\n",
              "      <td>0.000000</td>\n",
              "      <td>0.076923</td>\n",
              "      <td>0.076923</td>\n",
              "    </tr>\n",
              "    <tr>\n",
              "      <th>10</th>\n",
              "      <td>0.000000</td>\n",
              "      <td>0.666667</td>\n",
              "      <td>0.000000</td>\n",
              "      <td>0.000000</td>\n",
              "      <td>0.000000</td>\n",
              "      <td>0.083333</td>\n",
              "      <td>0.250000</td>\n",
              "    </tr>\n",
              "    <tr>\n",
              "      <th>11</th>\n",
              "      <td>0.062500</td>\n",
              "      <td>0.187500</td>\n",
              "      <td>0.000000</td>\n",
              "      <td>0.062500</td>\n",
              "      <td>0.437500</td>\n",
              "      <td>0.187500</td>\n",
              "      <td>0.062500</td>\n",
              "    </tr>\n",
              "    <tr>\n",
              "      <th>12</th>\n",
              "      <td>0.062500</td>\n",
              "      <td>0.812500</td>\n",
              "      <td>0.062500</td>\n",
              "      <td>0.062500</td>\n",
              "      <td>0.000000</td>\n",
              "      <td>0.000000</td>\n",
              "      <td>0.000000</td>\n",
              "    </tr>\n",
              "    <tr>\n",
              "      <th>13</th>\n",
              "      <td>0.000000</td>\n",
              "      <td>0.428571</td>\n",
              "      <td>0.000000</td>\n",
              "      <td>0.285714</td>\n",
              "      <td>0.285714</td>\n",
              "      <td>0.000000</td>\n",
              "      <td>0.000000</td>\n",
              "    </tr>\n",
              "    <tr>\n",
              "      <th>14</th>\n",
              "      <td>0.000000</td>\n",
              "      <td>0.538462</td>\n",
              "      <td>0.076923</td>\n",
              "      <td>0.153846</td>\n",
              "      <td>0.000000</td>\n",
              "      <td>0.076923</td>\n",
              "      <td>0.153846</td>\n",
              "    </tr>\n",
              "    <tr>\n",
              "      <th>15</th>\n",
              "      <td>0.000000</td>\n",
              "      <td>0.034483</td>\n",
              "      <td>0.000000</td>\n",
              "      <td>0.034483</td>\n",
              "      <td>0.517241</td>\n",
              "      <td>0.206897</td>\n",
              "      <td>0.206897</td>\n",
              "    </tr>\n",
              "    <tr>\n",
              "      <th>16</th>\n",
              "      <td>0.000000</td>\n",
              "      <td>0.050000</td>\n",
              "      <td>0.000000</td>\n",
              "      <td>0.100000</td>\n",
              "      <td>0.100000</td>\n",
              "      <td>0.650000</td>\n",
              "      <td>0.100000</td>\n",
              "    </tr>\n",
              "    <tr>\n",
              "      <th>17</th>\n",
              "      <td>0.000000</td>\n",
              "      <td>0.090909</td>\n",
              "      <td>0.000000</td>\n",
              "      <td>0.000000</td>\n",
              "      <td>0.181818</td>\n",
              "      <td>0.727273</td>\n",
              "      <td>0.000000</td>\n",
              "    </tr>\n",
              "    <tr>\n",
              "      <th>18</th>\n",
              "      <td>0.000000</td>\n",
              "      <td>0.066667</td>\n",
              "      <td>0.000000</td>\n",
              "      <td>0.066667</td>\n",
              "      <td>0.400000</td>\n",
              "      <td>0.466667</td>\n",
              "      <td>0.000000</td>\n",
              "    </tr>\n",
              "    <tr>\n",
              "      <th>19</th>\n",
              "      <td>0.000000</td>\n",
              "      <td>0.080000</td>\n",
              "      <td>0.000000</td>\n",
              "      <td>0.360000</td>\n",
              "      <td>0.440000</td>\n",
              "      <td>0.080000</td>\n",
              "      <td>0.040000</td>\n",
              "    </tr>\n",
              "    <tr>\n",
              "      <th>20</th>\n",
              "      <td>0.500000</td>\n",
              "      <td>0.075000</td>\n",
              "      <td>0.000000</td>\n",
              "      <td>0.000000</td>\n",
              "      <td>0.175000</td>\n",
              "      <td>0.175000</td>\n",
              "      <td>0.075000</td>\n",
              "    </tr>\n",
              "    <tr>\n",
              "      <th>21</th>\n",
              "      <td>0.725000</td>\n",
              "      <td>0.000000</td>\n",
              "      <td>0.025000</td>\n",
              "      <td>0.025000</td>\n",
              "      <td>0.100000</td>\n",
              "      <td>0.075000</td>\n",
              "      <td>0.050000</td>\n",
              "    </tr>\n",
              "    <tr>\n",
              "      <th>22</th>\n",
              "      <td>0.076923</td>\n",
              "      <td>0.000000</td>\n",
              "      <td>0.000000</td>\n",
              "      <td>0.000000</td>\n",
              "      <td>0.000000</td>\n",
              "      <td>0.923077</td>\n",
              "      <td>0.000000</td>\n",
              "    </tr>\n",
              "    <tr>\n",
              "      <th>23</th>\n",
              "      <td>0.071429</td>\n",
              "      <td>0.000000</td>\n",
              "      <td>0.000000</td>\n",
              "      <td>0.000000</td>\n",
              "      <td>0.214286</td>\n",
              "      <td>0.642857</td>\n",
              "      <td>0.071429</td>\n",
              "    </tr>\n",
              "    <tr>\n",
              "      <th>24</th>\n",
              "      <td>0.074074</td>\n",
              "      <td>0.037037</td>\n",
              "      <td>0.037037</td>\n",
              "      <td>0.074074</td>\n",
              "      <td>0.333333</td>\n",
              "      <td>0.407407</td>\n",
              "      <td>0.037037</td>\n",
              "    </tr>\n",
              "    <tr>\n",
              "      <th>25</th>\n",
              "      <td>0.208333</td>\n",
              "      <td>0.000000</td>\n",
              "      <td>0.041667</td>\n",
              "      <td>0.083333</td>\n",
              "      <td>0.375000</td>\n",
              "      <td>0.291667</td>\n",
              "      <td>0.000000</td>\n",
              "    </tr>\n",
              "  </tbody>\n",
              "</table>\n",
              "</div>"
            ],
            "text/plain": [
              "label                 0         1         2  ...         4         5         6\n",
              "module_number                                ...                              \n",
              "1              0.444444  0.000000  0.000000  ...  0.055556  0.500000  0.000000\n",
              "2              0.000000  0.562500  0.062500  ...  0.000000  0.000000  0.062500\n",
              "3              0.000000  0.000000  0.000000  ...  0.000000  0.000000  1.000000\n",
              "4              0.000000  0.500000  0.000000  ...  0.000000  0.083333  0.083333\n",
              "5              0.000000  1.000000  0.000000  ...  0.000000  0.000000  0.000000\n",
              "6              0.000000  0.142857  0.000000  ...  0.142857  0.142857  0.428571\n",
              "7              0.000000  1.000000  0.000000  ...  0.000000  0.000000  0.000000\n",
              "8              0.000000  0.470588  0.000000  ...  0.000000  0.117647  0.294118\n",
              "9              0.000000  0.000000  0.000000  ...  0.000000  0.076923  0.076923\n",
              "10             0.000000  0.666667  0.000000  ...  0.000000  0.083333  0.250000\n",
              "11             0.062500  0.187500  0.000000  ...  0.437500  0.187500  0.062500\n",
              "12             0.062500  0.812500  0.062500  ...  0.000000  0.000000  0.000000\n",
              "13             0.000000  0.428571  0.000000  ...  0.285714  0.000000  0.000000\n",
              "14             0.000000  0.538462  0.076923  ...  0.000000  0.076923  0.153846\n",
              "15             0.000000  0.034483  0.000000  ...  0.517241  0.206897  0.206897\n",
              "16             0.000000  0.050000  0.000000  ...  0.100000  0.650000  0.100000\n",
              "17             0.000000  0.090909  0.000000  ...  0.181818  0.727273  0.000000\n",
              "18             0.000000  0.066667  0.000000  ...  0.400000  0.466667  0.000000\n",
              "19             0.000000  0.080000  0.000000  ...  0.440000  0.080000  0.040000\n",
              "20             0.500000  0.075000  0.000000  ...  0.175000  0.175000  0.075000\n",
              "21             0.725000  0.000000  0.025000  ...  0.100000  0.075000  0.050000\n",
              "22             0.076923  0.000000  0.000000  ...  0.000000  0.923077  0.000000\n",
              "23             0.071429  0.000000  0.000000  ...  0.214286  0.642857  0.071429\n",
              "24             0.074074  0.037037  0.037037  ...  0.333333  0.407407  0.037037\n",
              "25             0.208333  0.000000  0.041667  ...  0.375000  0.291667  0.000000\n",
              "\n",
              "[25 rows x 7 columns]"
            ]
          },
          "metadata": {
            "tags": []
          },
          "execution_count": 25
        }
      ]
    },
    {
      "cell_type": "code",
      "metadata": {
        "id": "c0gZzZ5Yl-9E"
      },
      "source": [
        "pred_vals_flat = pred_vals.to_dict(orient=\"index\")\n",
        "pred_vals_flat = list(pred_vals_flat.items())\n",
        "pred_vals_conv = []"
      ],
      "execution_count": null,
      "outputs": []
    },
    {
      "cell_type": "code",
      "metadata": {
        "id": "hezF3Bohx_ti"
      },
      "source": [
        "for i in range(0, len(pred_vals_flat)-1):\n",
        "  for j in range(i+1, len(pred_vals_flat)):\n",
        "    dist = np.linalg.norm(np.array(list(pred_vals_flat[i][1].values())) - np.array(list(pred_vals_flat[j][1].values())))\n",
        "    pred_vals_conv.append([pred_vals_flat[i][0], pred_vals_flat[j][0], dist])\n",
        "pred_vals_conv = pd.DataFrame(pred_vals_conv)"
      ],
      "execution_count": null,
      "outputs": []
    },
    {
      "cell_type": "code",
      "metadata": {
        "id": "8bYYRow73zLK"
      },
      "source": [
        "scaler = MinMaxScaler()\n",
        "pred_vals_conv\n",
        "pred_vals_conv[[2]] = scaler.fit_transform(pred_vals_conv[[2]])\n",
        "pred_vals_conv[2] = pred_vals_conv[2].apply(lambda x: 1-x)"
      ],
      "execution_count": null,
      "outputs": []
    },
    {
      "cell_type": "code",
      "metadata": {
        "colab": {
          "base_uri": "https://localhost:8080/",
          "height": 402
        },
        "id": "scc6ERD273tv",
        "outputId": "394c66e2-ce5a-47f7-881b-1bddd197bcb3"
      },
      "source": [
        "pred_vals_conv"
      ],
      "execution_count": null,
      "outputs": [
        {
          "output_type": "execute_result",
          "data": {
            "text/html": [
              "<div>\n",
              "<style scoped>\n",
              "    .dataframe tbody tr th:only-of-type {\n",
              "        vertical-align: middle;\n",
              "    }\n",
              "\n",
              "    .dataframe tbody tr th {\n",
              "        vertical-align: top;\n",
              "    }\n",
              "\n",
              "    .dataframe thead th {\n",
              "        text-align: right;\n",
              "    }\n",
              "</style>\n",
              "<table border=\"1\" class=\"dataframe\">\n",
              "  <thead>\n",
              "    <tr style=\"text-align: right;\">\n",
              "      <th></th>\n",
              "      <th>0</th>\n",
              "      <th>1</th>\n",
              "      <th>2</th>\n",
              "    </tr>\n",
              "  </thead>\n",
              "  <tbody>\n",
              "    <tr>\n",
              "      <th>0</th>\n",
              "      <td>1</td>\n",
              "      <td>2</td>\n",
              "      <td>0.339511</td>\n",
              "    </tr>\n",
              "    <tr>\n",
              "      <th>1</th>\n",
              "      <td>1</td>\n",
              "      <td>3</td>\n",
              "      <td>0.148349</td>\n",
              "    </tr>\n",
              "    <tr>\n",
              "      <th>2</th>\n",
              "      <td>1</td>\n",
              "      <td>4</td>\n",
              "      <td>0.390786</td>\n",
              "    </tr>\n",
              "    <tr>\n",
              "      <th>3</th>\n",
              "      <td>1</td>\n",
              "      <td>5</td>\n",
              "      <td>0.148349</td>\n",
              "    </tr>\n",
              "    <tr>\n",
              "      <th>4</th>\n",
              "      <td>1</td>\n",
              "      <td>6</td>\n",
              "      <td>0.472177</td>\n",
              "    </tr>\n",
              "    <tr>\n",
              "      <th>...</th>\n",
              "      <td>...</td>\n",
              "      <td>...</td>\n",
              "      <td>...</td>\n",
              "    </tr>\n",
              "    <tr>\n",
              "      <th>295</th>\n",
              "      <td>22</td>\n",
              "      <td>24</td>\n",
              "      <td>0.560320</td>\n",
              "    </tr>\n",
              "    <tr>\n",
              "      <th>296</th>\n",
              "      <td>22</td>\n",
              "      <td>25</td>\n",
              "      <td>0.468374</td>\n",
              "    </tr>\n",
              "    <tr>\n",
              "      <th>297</th>\n",
              "      <td>23</td>\n",
              "      <td>24</td>\n",
              "      <td>0.801217</td>\n",
              "    </tr>\n",
              "    <tr>\n",
              "      <th>298</th>\n",
              "      <td>23</td>\n",
              "      <td>25</td>\n",
              "      <td>0.698596</td>\n",
              "    </tr>\n",
              "    <tr>\n",
              "      <th>299</th>\n",
              "      <td>24</td>\n",
              "      <td>25</td>\n",
              "      <td>0.865821</td>\n",
              "    </tr>\n",
              "  </tbody>\n",
              "</table>\n",
              "<p>300 rows × 3 columns</p>\n",
              "</div>"
            ],
            "text/plain": [
              "      0   1         2\n",
              "0     1   2  0.339511\n",
              "1     1   3  0.148349\n",
              "2     1   4  0.390786\n",
              "3     1   5  0.148349\n",
              "4     1   6  0.472177\n",
              "..   ..  ..       ...\n",
              "295  22  24  0.560320\n",
              "296  22  25  0.468374\n",
              "297  23  24  0.801217\n",
              "298  23  25  0.698596\n",
              "299  24  25  0.865821\n",
              "\n",
              "[300 rows x 3 columns]"
            ]
          },
          "metadata": {
            "tags": []
          },
          "execution_count": 29
        }
      ]
    },
    {
      "cell_type": "code",
      "metadata": {
        "colab": {
          "base_uri": "https://localhost:8080/"
        },
        "id": "P3mrm4SkeA7B",
        "outputId": "eeeedfe7-551d-470e-d043-06e57c146631"
      },
      "source": [
        "# Module names for Viz Labels\n",
        "module_names_dict = df_transcript[[\"module_number\", \"module_name\"]].to_dict(orient=\"record\")\n",
        "decode = {}\n",
        "for i in module_names_dict:\n",
        "    decode[i[\"module_number\"]] = i[\"module_name\"]\n",
        "\n",
        "\n",
        "\n",
        "\n"
      ],
      "execution_count": null,
      "outputs": [
        {
          "output_type": "stream",
          "text": [
            "/usr/local/lib/python3.6/dist-packages/pandas/core/frame.py:1490: FutureWarning: Using short name for 'orient' is deprecated. Only the options: ('dict', list, 'series', 'split', 'records', 'index') will be used in a future version. Use one of the above to silence this warning.\n",
            "  FutureWarning,\n"
          ],
          "name": "stderr"
        }
      ]
    },
    {
      "cell_type": "code",
      "metadata": {
        "id": "weBAQ-YSePN_"
      },
      "source": [
        "threshold = 0.7\n",
        "\n",
        "viz_data_1 = {\"nodes\": [],\n",
        "            \"links\": []\n",
        "            }\n",
        "\n",
        "# Add module nodes\n",
        "for index, row in pred_labels.iterrows():\n",
        "    viz_data_1[\"nodes\"].append({\"id\": str(int(index))+\" \"+decode[int(index)], \n",
        "                                \"group\": int(row['label'])})\n",
        "    \n",
        "# Add links\n",
        "for index, row in pred_vals_conv.iterrows():\n",
        "    if row[2] > threshold:\n",
        "        viz_data_1[\"links\"].append({\"source\": str(int(row[0]))+\" \"+decode[int(row[0])], \n",
        "                                    \"target\": str(int(row[1]))+\" \"+decode[int(row[1])], \n",
        "                                    \"value\": float(row[2])*10})"
      ],
      "execution_count": null,
      "outputs": []
    },
    {
      "cell_type": "code",
      "metadata": {
        "colab": {
          "base_uri": "https://localhost:8080/"
        },
        "id": "IbgNvjDIg6t6",
        "outputId": "eced92b4-ee30-47ce-fd1d-84c41188cd8b"
      },
      "source": [
        "viz_data_1"
      ],
      "execution_count": null,
      "outputs": [
        {
          "output_type": "execute_result",
          "data": {
            "text/plain": [
              "{'links': [{'source': '1 Fundamentals of System Hardware Script',\n",
              "   'target': '20 Computer Architecture Part 2',\n",
              "   'value': 7.4093592002968816},\n",
              "  {'source': '2 Positional Number Systems',\n",
              "   'target': '4 Data Types and Expressions Part 3',\n",
              "   'value': 9.116116523516816},\n",
              "  {'source': '2 Positional Number Systems',\n",
              "   'target': '8 Functions Transcript',\n",
              "   'value': 7.572972434691323},\n",
              "  {'source': '2 Positional Number Systems',\n",
              "   'target': '10 Strings',\n",
              "   'value': 7.220486653307015},\n",
              "  {'source': '2 Positional Number Systems',\n",
              "   'target': '12 Recursions and Mathematical Induction',\n",
              "   'value': 7.423058983988962},\n",
              "  {'source': '2 Positional Number Systems',\n",
              "   'target': '13 Searching',\n",
              "   'value': 7.675139898876512},\n",
              "  {'source': '2 Positional Number Systems',\n",
              "   'target': '14 Sorting',\n",
              "   'value': 8.58193449963917},\n",
              "  {'source': '4 Data Types and Expressions Part 3',\n",
              "   'target': '8 Functions Transcript',\n",
              "   'value': 7.843694367850709},\n",
              "  {'source': '4 Data Types and Expressions Part 3',\n",
              "   'target': '10 Strings',\n",
              "   'value': 7.113248654051871},\n",
              "  {'source': '4 Data Types and Expressions Part 3',\n",
              "   'target': '13 Searching',\n",
              "   'value': 7.731838228183613},\n",
              "  {'source': '4 Data Types and Expressions Part 3',\n",
              "   'target': '14 Sorting',\n",
              "   'value': 8.50625894900884},\n",
              "  {'source': '5 Branching Part 2',\n",
              "   'target': '7 Algorithm Analysis',\n",
              "   'value': 10.0},\n",
              "  {'source': '5 Branching Part 2',\n",
              "   'target': '12 Recursions and Mathematical Induction',\n",
              "   'value': 8.469068910760512},\n",
              "  {'source': '6 Loops',\n",
              "   'target': '8 Functions Transcript',\n",
              "   'value': 7.287392875366559},\n",
              "  {'source': '7 Algorithm Analysis',\n",
              "   'target': '12 Recursions and Mathematical Induction',\n",
              "   'value': 8.469068910760512},\n",
              "  {'source': '8 Functions Transcript',\n",
              "   'target': '10 Strings',\n",
              "   'value': 8.335497368004937},\n",
              "  {'source': '8 Functions Transcript',\n",
              "   'target': '14 Sorting',\n",
              "   'value': 8.712194618030978},\n",
              "  {'source': '10 Strings',\n",
              "   'target': '12 Recursions and Mathematical Induction',\n",
              "   'value': 7.736920730999955},\n",
              "  {'source': '10 Strings', 'target': '14 Sorting', 'value': 8.337035670375275},\n",
              "  {'source': '11 Pointers and Dynamic Storage Script',\n",
              "   'target': '13 Searching',\n",
              "   'value': 7.050867041979689},\n",
              "  {'source': '11 Pointers and Dynamic Storage Script',\n",
              "   'target': '15 Object Oriented Programming Concepts Script',\n",
              "   'value': 8.331306350512987},\n",
              "  {'source': '11 Pointers and Dynamic Storage Script',\n",
              "   'target': '18 Stacks and Queues Script',\n",
              "   'value': 7.74422038606014},\n",
              "  {'source': '11 Pointers and Dynamic Storage Script',\n",
              "   'target': '19 Trees and Binary Search Trees Script',\n",
              "   'value': 7.591291840010501},\n",
              "  {'source': '11 Pointers and Dynamic Storage Script',\n",
              "   'target': '24 Thread Concurrency and Deadlocks Script',\n",
              "   'value': 7.948938220367726},\n",
              "  {'source': '11 Pointers and Dynamic Storage Script',\n",
              "   'target': '25 Memory Management Script',\n",
              "   'value': 8.034587264154874},\n",
              "  {'source': '12 Recursions and Mathematical Induction',\n",
              "   'target': '14 Sorting',\n",
              "   'value': 7.579862894489766},\n",
              "  {'source': '13 Searching',\n",
              "   'target': '14 Sorting',\n",
              "   'value': 7.292596704449467},\n",
              "  {'source': '13 Searching',\n",
              "   'target': '19 Trees and Binary Search Trees Script',\n",
              "   'value': 7.1819821700713256},\n",
              "  {'source': '15 Object Oriented Programming Concepts Script',\n",
              "   'target': '18 Stacks and Queues Script',\n",
              "   'value': 7.4889858161550595},\n",
              "  {'source': '15 Object Oriented Programming Concepts Script',\n",
              "   'target': '19 Trees and Binary Search Trees Script',\n",
              "   'value': 7.189691136257192},\n",
              "  {'source': '15 Object Oriented Programming Concepts Script',\n",
              "   'target': '24 Thread Concurrency and Deadlocks Script',\n",
              "   'value': 7.6408504232284375},\n",
              "  {'source': '15 Object Oriented Programming Concepts Script',\n",
              "   'target': '25 Memory Management Script',\n",
              "   'value': 7.5613621253704455},\n",
              "  {'source': '16 File Processing Script',\n",
              "   'target': '17 Linked Lists Script',\n",
              "   'value': 8.689678608600039},\n",
              "  {'source': '16 File Processing Script',\n",
              "   'target': '18 Stacks and Queues Script',\n",
              "   'value': 7.401923788646684},\n",
              "  {'source': '16 File Processing Script',\n",
              "   'target': '22 Intro to OS Concepts',\n",
              "   'value': 7.623151606849174},\n",
              "  {'source': '16 File Processing Script',\n",
              "   'target': '23 Processes and Threads Script',\n",
              "   'value': 8.744400297768076},\n",
              "  {'source': '16 File Processing Script',\n",
              "   'target': '24 Thread Concurrency and Deadlocks Script',\n",
              "   'value': 7.500411556509496},\n",
              "  {'source': '17 Linked Lists Script',\n",
              "   'target': '18 Stacks and Queues Script',\n",
              "   'value': 7.5448934423601095},\n",
              "  {'source': '17 Linked Lists Script',\n",
              "   'target': '22 Intro to OS Concepts',\n",
              "   'value': 7.931440635279855},\n",
              "  {'source': '17 Linked Lists Script',\n",
              "   'target': '23 Processes and Threads Script',\n",
              "   'value': 8.845689036712262},\n",
              "  {'source': '17 Linked Lists Script',\n",
              "   'target': '24 Thread Concurrency and Deadlocks Script',\n",
              "   'value': 7.336447078576955},\n",
              "  {'source': '18 Stacks and Queues Script',\n",
              "   'target': '23 Processes and Threads Script',\n",
              "   'value': 7.942989422242364},\n",
              "  {'source': '18 Stacks and Queues Script',\n",
              "   'target': '24 Thread Concurrency and Deadlocks Script',\n",
              "   'value': 9.074815111348386},\n",
              "  {'source': '18 Stacks and Queues Script',\n",
              "   'target': '25 Memory Management Script',\n",
              "   'value': 7.986159004400904},\n",
              "  {'source': '19 Trees and Binary Search Trees Script',\n",
              "   'target': '25 Memory Management Script',\n",
              "   'value': 7.010760037140619},\n",
              "  {'source': '20 Computer Architecture Part 2',\n",
              "   'target': '21 Computer Organization Part 2',\n",
              "   'value': 8.079713563032849},\n",
              "  {'source': '20 Computer Architecture Part 2',\n",
              "   'target': '25 Memory Management Script',\n",
              "   'value': 7.1838757918807},\n",
              "  {'source': '22 Intro to OS Concepts',\n",
              "   'target': '23 Processes and Threads Script',\n",
              "   'value': 7.45467366551638},\n",
              "  {'source': '23 Processes and Threads Script',\n",
              "   'target': '24 Thread Concurrency and Deadlocks Script',\n",
              "   'value': 8.012172762521777},\n",
              "  {'source': '24 Thread Concurrency and Deadlocks Script',\n",
              "   'target': '25 Memory Management Script',\n",
              "   'value': 8.65820585683431}],\n",
              " 'nodes': [{'group': 5, 'id': '1 Fundamentals of System Hardware Script'},\n",
              "  {'group': 1, 'id': '2 Positional Number Systems'},\n",
              "  {'group': 6, 'id': '3 Hello World Script'},\n",
              "  {'group': 1, 'id': '4 Data Types and Expressions Part 3'},\n",
              "  {'group': 1, 'id': '5 Branching Part 2'},\n",
              "  {'group': 6, 'id': '6 Loops'},\n",
              "  {'group': 1, 'id': '7 Algorithm Analysis'},\n",
              "  {'group': 1, 'id': '8 Functions Transcript'},\n",
              "  {'group': 3, 'id': '9 Arrays'},\n",
              "  {'group': 1, 'id': '10 Strings'},\n",
              "  {'group': 4, 'id': '11 Pointers and Dynamic Storage Script'},\n",
              "  {'group': 1, 'id': '12 Recursions and Mathematical Induction'},\n",
              "  {'group': 1, 'id': '13 Searching'},\n",
              "  {'group': 1, 'id': '14 Sorting'},\n",
              "  {'group': 4, 'id': '15 Object Oriented Programming Concepts Script'},\n",
              "  {'group': 5, 'id': '16 File Processing Script'},\n",
              "  {'group': 5, 'id': '17 Linked Lists Script'},\n",
              "  {'group': 5, 'id': '18 Stacks and Queues Script'},\n",
              "  {'group': 4, 'id': '19 Trees and Binary Search Trees Script'},\n",
              "  {'group': 0, 'id': '20 Computer Architecture Part 2'},\n",
              "  {'group': 0, 'id': '21 Computer Organization Part 2'},\n",
              "  {'group': 5, 'id': '22 Intro to OS Concepts'},\n",
              "  {'group': 5, 'id': '23 Processes and Threads Script'},\n",
              "  {'group': 5, 'id': '24 Thread Concurrency and Deadlocks Script'},\n",
              "  {'group': 4, 'id': '25 Memory Management Script'}]}"
            ]
          },
          "metadata": {
            "tags": []
          },
          "execution_count": 53
        }
      ]
    },
    {
      "cell_type": "code",
      "metadata": {
        "id": "2-OYTlgVgJtd"
      },
      "source": [
        "with open(\"viz_bert_km.json\", \"w\") as f:\n",
        "    json.dump(viz_data_1, f, indent = 4)"
      ],
      "execution_count": null,
      "outputs": []
    },
    {
      "cell_type": "code",
      "metadata": {
        "id": "rOEnF2RggJwe"
      },
      "source": [
        ""
      ],
      "execution_count": null,
      "outputs": []
    }
  ]
}